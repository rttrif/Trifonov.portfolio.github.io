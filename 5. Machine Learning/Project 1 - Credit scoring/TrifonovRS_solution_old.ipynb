{
 "cells": [
  {
   "cell_type": "markdown",
   "metadata": {},
   "source": [
    "<center>\n",
    "    \n",
    "## Project Type: Курсовой проект по курсу GeekBrains: Библиотеки Python для Data Science: продолжение\n",
    "### Project Number: 2\n",
    "# Project Title: Кредитный скоринг"
   ]
  },
  {
   "cell_type": "markdown",
   "metadata": {},
   "source": [
    "#### Задача\n",
    "\n",
    "Требуется, на основании имеющихся данных о клиентах банка, построить модель, используя обучающий датасет, для прогнозирования невыполнения долговых обязательств по текущему кредиту. Выполнить прогноз для примеров из тестового датасета.\n",
    "\n",
    "#### Наименование файлов с данными\n",
    "\n",
    "- course_project_train.csv - обучающий датасет\n",
    "- course_project_test.csv - тестовый датасет\n",
    "\n",
    "#### Целевая переменная\n",
    "\n",
    "Credit Default - факт невыполнения кредитных обязательств\n",
    "\n",
    "#### Метрика качества\n",
    "\n",
    "F1-score (sklearn.metrics.f1_score)\n",
    "\n",
    "#### Требования к решению\n",
    "\n",
    "_Целевая метрика_\n",
    "\n",
    "- F1 > 0.5\n",
    "- Метрика оценивается по качеству прогноза для главного класса (1 - просрочка по кредиту)"
   ]
  },
  {
   "cell_type": "markdown",
   "metadata": {},
   "source": [
    "### Import Libraries\n",
    "\n",
    "---"
   ]
  },
  {
   "cell_type": "code",
   "execution_count": 1,
   "metadata": {},
   "outputs": [],
   "source": [
    "# Data manipulation\n",
    "import pandas as pd\n",
    "import numpy as np\n",
    "\n",
    "# Data Visualizations\n",
    "import seaborn as sns\n",
    "import matplotlib.pyplot as plt\n",
    "%matplotlib inline"
   ]
  },
  {
   "cell_type": "markdown",
   "metadata": {},
   "source": [
    "### Import Data\n",
    "\n",
    "---"
   ]
  },
  {
   "cell_type": "code",
   "execution_count": 6,
   "metadata": {},
   "outputs": [],
   "source": [
    "data_path = 'C:/Users/rttri/Data Science Project/Курс GB - Библиотеки Python для Data Science продолжение/course_project_train.csv'"
   ]
  },
  {
   "cell_type": "markdown",
   "metadata": {},
   "source": [
    "<center>\n",
    "    \n",
    "# Section 1.  Data Understanding"
   ]
  },
  {
   "cell_type": "markdown",
   "metadata": {},
   "source": [
    "### _Collect initial data_\n",
    "\n",
    "---"
   ]
  },
  {
   "cell_type": "code",
   "execution_count": 10,
   "metadata": {},
   "outputs": [
    {
     "data": {
      "text/html": [
       "<div>\n",
       "<style scoped>\n",
       "    .dataframe tbody tr th:only-of-type {\n",
       "        vertical-align: middle;\n",
       "    }\n",
       "\n",
       "    .dataframe tbody tr th {\n",
       "        vertical-align: top;\n",
       "    }\n",
       "\n",
       "    .dataframe thead th {\n",
       "        text-align: right;\n",
       "    }\n",
       "</style>\n",
       "<table border=\"1\" class=\"dataframe\">\n",
       "  <thead>\n",
       "    <tr style=\"text-align: right;\">\n",
       "      <th></th>\n",
       "      <th>Home Ownership</th>\n",
       "      <th>Annual Income</th>\n",
       "      <th>Years in current job</th>\n",
       "      <th>Tax Liens</th>\n",
       "      <th>Number of Open Accounts</th>\n",
       "      <th>Years of Credit History</th>\n",
       "      <th>Maximum Open Credit</th>\n",
       "      <th>Number of Credit Problems</th>\n",
       "      <th>Months since last delinquent</th>\n",
       "      <th>Bankruptcies</th>\n",
       "      <th>Purpose</th>\n",
       "      <th>Term</th>\n",
       "      <th>Current Loan Amount</th>\n",
       "      <th>Current Credit Balance</th>\n",
       "      <th>Monthly Debt</th>\n",
       "      <th>Credit Score</th>\n",
       "      <th>Credit Default</th>\n",
       "    </tr>\n",
       "  </thead>\n",
       "  <tbody>\n",
       "    <tr>\n",
       "      <th>0</th>\n",
       "      <td>Own Home</td>\n",
       "      <td>482087.0</td>\n",
       "      <td>NaN</td>\n",
       "      <td>0.0</td>\n",
       "      <td>11.0</td>\n",
       "      <td>26.3</td>\n",
       "      <td>685960.0</td>\n",
       "      <td>1.0</td>\n",
       "      <td>NaN</td>\n",
       "      <td>1.0</td>\n",
       "      <td>debt consolidation</td>\n",
       "      <td>Short Term</td>\n",
       "      <td>99999999.0</td>\n",
       "      <td>47386.0</td>\n",
       "      <td>7914.0</td>\n",
       "      <td>749.0</td>\n",
       "      <td>0</td>\n",
       "    </tr>\n",
       "    <tr>\n",
       "      <th>1</th>\n",
       "      <td>Own Home</td>\n",
       "      <td>1025487.0</td>\n",
       "      <td>10+ years</td>\n",
       "      <td>0.0</td>\n",
       "      <td>15.0</td>\n",
       "      <td>15.3</td>\n",
       "      <td>1181730.0</td>\n",
       "      <td>0.0</td>\n",
       "      <td>NaN</td>\n",
       "      <td>0.0</td>\n",
       "      <td>debt consolidation</td>\n",
       "      <td>Long Term</td>\n",
       "      <td>264968.0</td>\n",
       "      <td>394972.0</td>\n",
       "      <td>18373.0</td>\n",
       "      <td>737.0</td>\n",
       "      <td>1</td>\n",
       "    </tr>\n",
       "    <tr>\n",
       "      <th>2</th>\n",
       "      <td>Home Mortgage</td>\n",
       "      <td>751412.0</td>\n",
       "      <td>8 years</td>\n",
       "      <td>0.0</td>\n",
       "      <td>11.0</td>\n",
       "      <td>35.0</td>\n",
       "      <td>1182434.0</td>\n",
       "      <td>0.0</td>\n",
       "      <td>NaN</td>\n",
       "      <td>0.0</td>\n",
       "      <td>debt consolidation</td>\n",
       "      <td>Short Term</td>\n",
       "      <td>99999999.0</td>\n",
       "      <td>308389.0</td>\n",
       "      <td>13651.0</td>\n",
       "      <td>742.0</td>\n",
       "      <td>0</td>\n",
       "    </tr>\n",
       "    <tr>\n",
       "      <th>3</th>\n",
       "      <td>Own Home</td>\n",
       "      <td>805068.0</td>\n",
       "      <td>6 years</td>\n",
       "      <td>0.0</td>\n",
       "      <td>8.0</td>\n",
       "      <td>22.5</td>\n",
       "      <td>147400.0</td>\n",
       "      <td>1.0</td>\n",
       "      <td>NaN</td>\n",
       "      <td>1.0</td>\n",
       "      <td>debt consolidation</td>\n",
       "      <td>Short Term</td>\n",
       "      <td>121396.0</td>\n",
       "      <td>95855.0</td>\n",
       "      <td>11338.0</td>\n",
       "      <td>694.0</td>\n",
       "      <td>0</td>\n",
       "    </tr>\n",
       "    <tr>\n",
       "      <th>4</th>\n",
       "      <td>Rent</td>\n",
       "      <td>776264.0</td>\n",
       "      <td>8 years</td>\n",
       "      <td>0.0</td>\n",
       "      <td>13.0</td>\n",
       "      <td>13.6</td>\n",
       "      <td>385836.0</td>\n",
       "      <td>1.0</td>\n",
       "      <td>NaN</td>\n",
       "      <td>0.0</td>\n",
       "      <td>debt consolidation</td>\n",
       "      <td>Short Term</td>\n",
       "      <td>125840.0</td>\n",
       "      <td>93309.0</td>\n",
       "      <td>7180.0</td>\n",
       "      <td>719.0</td>\n",
       "      <td>0</td>\n",
       "    </tr>\n",
       "  </tbody>\n",
       "</table>\n",
       "</div>"
      ],
      "text/plain": [
       "  Home Ownership  Annual Income Years in current job  Tax Liens  \\\n",
       "0       Own Home       482087.0                  NaN        0.0   \n",
       "1       Own Home      1025487.0            10+ years        0.0   \n",
       "2  Home Mortgage       751412.0              8 years        0.0   \n",
       "3       Own Home       805068.0              6 years        0.0   \n",
       "4           Rent       776264.0              8 years        0.0   \n",
       "\n",
       "   Number of Open Accounts  Years of Credit History  Maximum Open Credit  \\\n",
       "0                     11.0                     26.3             685960.0   \n",
       "1                     15.0                     15.3            1181730.0   \n",
       "2                     11.0                     35.0            1182434.0   \n",
       "3                      8.0                     22.5             147400.0   \n",
       "4                     13.0                     13.6             385836.0   \n",
       "\n",
       "   Number of Credit Problems  Months since last delinquent  Bankruptcies  \\\n",
       "0                        1.0                           NaN           1.0   \n",
       "1                        0.0                           NaN           0.0   \n",
       "2                        0.0                           NaN           0.0   \n",
       "3                        1.0                           NaN           1.0   \n",
       "4                        1.0                           NaN           0.0   \n",
       "\n",
       "              Purpose        Term  Current Loan Amount  \\\n",
       "0  debt consolidation  Short Term           99999999.0   \n",
       "1  debt consolidation   Long Term             264968.0   \n",
       "2  debt consolidation  Short Term           99999999.0   \n",
       "3  debt consolidation  Short Term             121396.0   \n",
       "4  debt consolidation  Short Term             125840.0   \n",
       "\n",
       "   Current Credit Balance  Monthly Debt  Credit Score  Credit Default  \n",
       "0                 47386.0        7914.0         749.0               0  \n",
       "1                394972.0       18373.0         737.0               1  \n",
       "2                308389.0       13651.0         742.0               0  \n",
       "3                 95855.0       11338.0         694.0               0  \n",
       "4                 93309.0        7180.0         719.0               0  "
      ]
     },
     "execution_count": 10,
     "metadata": {},
     "output_type": "execute_result"
    }
   ],
   "source": [
    "# Загрузим тренировочный набор даннх для первичного визуального анализа \n",
    "train_data = pd.read_csv(data_path)\n",
    "train_data.head()"
   ]
  },
  {
   "cell_type": "code",
   "execution_count": 23,
   "metadata": {},
   "outputs": [
    {
     "data": {
      "text/html": [
       "<div>\n",
       "<style scoped>\n",
       "    .dataframe tbody tr th:only-of-type {\n",
       "        vertical-align: middle;\n",
       "    }\n",
       "\n",
       "    .dataframe tbody tr th {\n",
       "        vertical-align: top;\n",
       "    }\n",
       "\n",
       "    .dataframe thead th {\n",
       "        text-align: right;\n",
       "    }\n",
       "</style>\n",
       "<table border=\"1\" class=\"dataframe\">\n",
       "  <thead>\n",
       "    <tr style=\"text-align: right;\">\n",
       "      <th></th>\n",
       "      <th>7495</th>\n",
       "      <th>7496</th>\n",
       "      <th>7497</th>\n",
       "      <th>7498</th>\n",
       "      <th>7499</th>\n",
       "    </tr>\n",
       "  </thead>\n",
       "  <tbody>\n",
       "    <tr>\n",
       "      <th>Home Ownership</th>\n",
       "      <td>Rent</td>\n",
       "      <td>Home Mortgage</td>\n",
       "      <td>Rent</td>\n",
       "      <td>Home Mortgage</td>\n",
       "      <td>Rent</td>\n",
       "    </tr>\n",
       "    <tr>\n",
       "      <th>Annual Income</th>\n",
       "      <td>402192</td>\n",
       "      <td>1.53398e+06</td>\n",
       "      <td>1.87891e+06</td>\n",
       "      <td>NaN</td>\n",
       "      <td>NaN</td>\n",
       "    </tr>\n",
       "    <tr>\n",
       "      <th>Years in current job</th>\n",
       "      <td>&lt; 1 year</td>\n",
       "      <td>1 year</td>\n",
       "      <td>6 years</td>\n",
       "      <td>NaN</td>\n",
       "      <td>4 years</td>\n",
       "    </tr>\n",
       "    <tr>\n",
       "      <th>Tax Liens</th>\n",
       "      <td>0</td>\n",
       "      <td>0</td>\n",
       "      <td>0</td>\n",
       "      <td>0</td>\n",
       "      <td>0</td>\n",
       "    </tr>\n",
       "    <tr>\n",
       "      <th>Number of Open Accounts</th>\n",
       "      <td>3</td>\n",
       "      <td>10</td>\n",
       "      <td>12</td>\n",
       "      <td>21</td>\n",
       "      <td>8</td>\n",
       "    </tr>\n",
       "    <tr>\n",
       "      <th>Years of Credit History</th>\n",
       "      <td>8.5</td>\n",
       "      <td>26.5</td>\n",
       "      <td>32.1</td>\n",
       "      <td>26.5</td>\n",
       "      <td>9.4</td>\n",
       "    </tr>\n",
       "    <tr>\n",
       "      <th>Maximum Open Credit</th>\n",
       "      <td>107866</td>\n",
       "      <td>686312</td>\n",
       "      <td>1.77892e+06</td>\n",
       "      <td>1.14125e+06</td>\n",
       "      <td>480832</td>\n",
       "    </tr>\n",
       "    <tr>\n",
       "      <th>Number of Credit Problems</th>\n",
       "      <td>0</td>\n",
       "      <td>0</td>\n",
       "      <td>0</td>\n",
       "      <td>0</td>\n",
       "      <td>0</td>\n",
       "    </tr>\n",
       "    <tr>\n",
       "      <th>Months since last delinquent</th>\n",
       "      <td>NaN</td>\n",
       "      <td>43</td>\n",
       "      <td>NaN</td>\n",
       "      <td>NaN</td>\n",
       "      <td>NaN</td>\n",
       "    </tr>\n",
       "    <tr>\n",
       "      <th>Bankruptcies</th>\n",
       "      <td>0</td>\n",
       "      <td>0</td>\n",
       "      <td>0</td>\n",
       "      <td>0</td>\n",
       "      <td>0</td>\n",
       "    </tr>\n",
       "    <tr>\n",
       "      <th>Purpose</th>\n",
       "      <td>other</td>\n",
       "      <td>debt consolidation</td>\n",
       "      <td>buy a car</td>\n",
       "      <td>debt consolidation</td>\n",
       "      <td>debt consolidation</td>\n",
       "    </tr>\n",
       "    <tr>\n",
       "      <th>Term</th>\n",
       "      <td>Short Term</td>\n",
       "      <td>Long Term</td>\n",
       "      <td>Short Term</td>\n",
       "      <td>Short Term</td>\n",
       "      <td>Short Term</td>\n",
       "    </tr>\n",
       "    <tr>\n",
       "      <th>Current Loan Amount</th>\n",
       "      <td>129360</td>\n",
       "      <td>444048</td>\n",
       "      <td>1e+08</td>\n",
       "      <td>615274</td>\n",
       "      <td>26928</td>\n",
       "    </tr>\n",
       "    <tr>\n",
       "      <th>Current Credit Balance</th>\n",
       "      <td>73492</td>\n",
       "      <td>456399</td>\n",
       "      <td>477812</td>\n",
       "      <td>476064</td>\n",
       "      <td>288192</td>\n",
       "    </tr>\n",
       "    <tr>\n",
       "      <th>Monthly Debt</th>\n",
       "      <td>1900</td>\n",
       "      <td>12783</td>\n",
       "      <td>12479</td>\n",
       "      <td>37118</td>\n",
       "      <td>9061</td>\n",
       "    </tr>\n",
       "    <tr>\n",
       "      <th>Credit Score</th>\n",
       "      <td>697</td>\n",
       "      <td>7410</td>\n",
       "      <td>748</td>\n",
       "      <td>NaN</td>\n",
       "      <td>NaN</td>\n",
       "    </tr>\n",
       "    <tr>\n",
       "      <th>Credit Default</th>\n",
       "      <td>0</td>\n",
       "      <td>1</td>\n",
       "      <td>0</td>\n",
       "      <td>0</td>\n",
       "      <td>0</td>\n",
       "    </tr>\n",
       "  </tbody>\n",
       "</table>\n",
       "</div>"
      ],
      "text/plain": [
       "                                    7495                7496         7497  \\\n",
       "Home Ownership                      Rent       Home Mortgage         Rent   \n",
       "Annual Income                     402192         1.53398e+06  1.87891e+06   \n",
       "Years in current job            < 1 year              1 year      6 years   \n",
       "Tax Liens                              0                   0            0   \n",
       "Number of Open Accounts                3                  10           12   \n",
       "Years of Credit History              8.5                26.5         32.1   \n",
       "Maximum Open Credit               107866              686312  1.77892e+06   \n",
       "Number of Credit Problems              0                   0            0   \n",
       "Months since last delinquent         NaN                  43          NaN   \n",
       "Bankruptcies                           0                   0            0   \n",
       "Purpose                            other  debt consolidation    buy a car   \n",
       "Term                          Short Term           Long Term   Short Term   \n",
       "Current Loan Amount               129360              444048        1e+08   \n",
       "Current Credit Balance             73492              456399       477812   \n",
       "Monthly Debt                        1900               12783        12479   \n",
       "Credit Score                         697                7410          748   \n",
       "Credit Default                         0                   1            0   \n",
       "\n",
       "                                            7498                7499  \n",
       "Home Ownership                     Home Mortgage                Rent  \n",
       "Annual Income                                NaN                 NaN  \n",
       "Years in current job                         NaN             4 years  \n",
       "Tax Liens                                      0                   0  \n",
       "Number of Open Accounts                       21                   8  \n",
       "Years of Credit History                     26.5                 9.4  \n",
       "Maximum Open Credit                  1.14125e+06              480832  \n",
       "Number of Credit Problems                      0                   0  \n",
       "Months since last delinquent                 NaN                 NaN  \n",
       "Bankruptcies                                   0                   0  \n",
       "Purpose                       debt consolidation  debt consolidation  \n",
       "Term                                  Short Term          Short Term  \n",
       "Current Loan Amount                       615274               26928  \n",
       "Current Credit Balance                    476064              288192  \n",
       "Monthly Debt                               37118                9061  \n",
       "Credit Score                                 NaN                 NaN  \n",
       "Credit Default                                 0                   0  "
      ]
     },
     "execution_count": 23,
     "metadata": {},
     "output_type": "execute_result"
    }
   ],
   "source": [
    "train_data.tail().T"
   ]
  },
  {
   "cell_type": "markdown",
   "metadata": {},
   "source": [
    "Первичный визуальный анализ показывает, что в тренировочном наборе имеются ряд категориальных перменных, рад колличественных перменных, пропущенные значения, нулевые значения, названия переменных содержат пробелы. \n",
    "\n",
    "Проведем дальнейшие начальные исследования набора данных. "
   ]
  },
  {
   "cell_type": "code",
   "execution_count": 13,
   "metadata": {},
   "outputs": [
    {
     "name": "stdout",
     "output_type": "stream",
     "text": [
      "Форма исходного набора данных:\n",
      "(7500, 17)\n"
     ]
    }
   ],
   "source": [
    "# Форма исходного набора данных\n",
    "print(\"Форма исходного набора данных:\\n{}\".format(train_data.shape))"
   ]
  },
  {
   "cell_type": "code",
   "execution_count": 17,
   "metadata": {},
   "outputs": [
    {
     "data": {
      "text/plain": [
       "['Home Ownership',\n",
       " 'Annual Income',\n",
       " 'Years in current job',\n",
       " 'Tax Liens',\n",
       " 'Number of Open Accounts',\n",
       " 'Years of Credit History',\n",
       " 'Maximum Open Credit',\n",
       " 'Number of Credit Problems',\n",
       " 'Months since last delinquent',\n",
       " 'Bankruptcies',\n",
       " 'Purpose',\n",
       " 'Term',\n",
       " 'Current Loan Amount',\n",
       " 'Current Credit Balance',\n",
       " 'Monthly Debt',\n",
       " 'Credit Score',\n",
       " 'Credit Default']"
      ]
     },
     "execution_count": 17,
     "metadata": {},
     "output_type": "execute_result"
    }
   ],
   "source": [
    "# Список столбцов\n",
    "train_data.columns.tolist()"
   ]
  },
  {
   "cell_type": "code",
   "execution_count": 18,
   "metadata": {},
   "outputs": [
    {
     "data": {
      "text/plain": [
       "Home Ownership                   object\n",
       "Annual Income                   float64\n",
       "Years in current job             object\n",
       "Tax Liens                       float64\n",
       "Number of Open Accounts         float64\n",
       "Years of Credit History         float64\n",
       "Maximum Open Credit             float64\n",
       "Number of Credit Problems       float64\n",
       "Months since last delinquent    float64\n",
       "Bankruptcies                    float64\n",
       "Purpose                          object\n",
       "Term                             object\n",
       "Current Loan Amount             float64\n",
       "Current Credit Balance          float64\n",
       "Monthly Debt                    float64\n",
       "Credit Score                    float64\n",
       "Credit Default                    int64\n",
       "dtype: object"
      ]
     },
     "execution_count": 18,
     "metadata": {},
     "output_type": "execute_result"
    }
   ],
   "source": [
    "# Анализ типов данных\n",
    "train_data.dtypes "
   ]
  },
  {
   "cell_type": "code",
   "execution_count": 19,
   "metadata": {},
   "outputs": [
    {
     "name": "stdout",
     "output_type": "stream",
     "text": [
      "<class 'pandas.core.frame.DataFrame'>\n",
      "RangeIndex: 7500 entries, 0 to 7499\n",
      "Data columns (total 17 columns):\n",
      " #   Column                        Non-Null Count  Dtype  \n",
      "---  ------                        --------------  -----  \n",
      " 0   Home Ownership                7500 non-null   object \n",
      " 1   Annual Income                 5943 non-null   float64\n",
      " 2   Years in current job          7129 non-null   object \n",
      " 3   Tax Liens                     7500 non-null   float64\n",
      " 4   Number of Open Accounts       7500 non-null   float64\n",
      " 5   Years of Credit History       7500 non-null   float64\n",
      " 6   Maximum Open Credit           7500 non-null   float64\n",
      " 7   Number of Credit Problems     7500 non-null   float64\n",
      " 8   Months since last delinquent  3419 non-null   float64\n",
      " 9   Bankruptcies                  7486 non-null   float64\n",
      " 10  Purpose                       7500 non-null   object \n",
      " 11  Term                          7500 non-null   object \n",
      " 12  Current Loan Amount           7500 non-null   float64\n",
      " 13  Current Credit Balance        7500 non-null   float64\n",
      " 14  Monthly Debt                  7500 non-null   float64\n",
      " 15  Credit Score                  5943 non-null   float64\n",
      " 16  Credit Default                7500 non-null   int64  \n",
      "dtypes: float64(12), int64(1), object(4)\n",
      "memory usage: 996.2+ KB\n"
     ]
    }
   ],
   "source": [
    "# Общая информация о наборе данных \n",
    "train_data.info()"
   ]
  },
  {
   "cell_type": "markdown",
   "metadata": {},
   "source": [
    "### Выводы\n",
    "\n",
    "- Набор имеет 17 переменных и 7500 наблюдений.\n",
    "- В столбцах Annual Income, Years in current job, Months since last delinquent, Bankruptcies, Credit Score колличество наблюдений меньше, чем 7500. \n",
    "- Переменные Home Ownership, Years in current job, Purpose, Term имеют тип данных object.\n",
    "- Переменная Credit Default имеет тип данных int64.\n",
    "- Оставшиеся 12 переменных имеют тип данныз float64."
   ]
  },
  {
   "cell_type": "markdown",
   "metadata": {},
   "source": [
    "### _Describe data_\n",
    "\n",
    "---"
   ]
  },
  {
   "cell_type": "markdown",
   "metadata": {},
   "source": [
    "#### Описание датасета\n",
    "\n",
    "1. Home Ownership - домовладение\n",
    "1. Annual Income - годовой доход\n",
    "1. Years in current job - количество лет на текущем месте работы\n",
    "1. Tax Liens - налоговые обременения\n",
    "1. Number of Open Accounts - количество открытых счетов\n",
    "1. Years of Credit History - количество лет кредитной истории\n",
    "1. Maximum Open Credit - наибольший открытый кредит\n",
    "1. Number of Credit Problems - количество проблем с кредитом\n",
    "1. Months since last delinquent - количество месяцев с последней просрочки платежа\n",
    "1. Bankruptcies - банкротства\n",
    "1. Purpose - цель кредита\n",
    "1. Term - срок кредита\n",
    "1. Current Loan Amount - текущая сумма кредита\n",
    "1. Current Credit Balance - текущий кредитный баланс\n",
    "1. Monthly Debt - ежемесячный долг\n",
    "1. Credit Score -  кредитная оценка \n",
    "1. Credit Default - факт невыполнения кредитных обязательств (0 - погашен вовремя, 1 - просрочка)"
   ]
  },
  {
   "cell_type": "markdown",
   "metadata": {},
   "source": [
    "#### Описание типов переменных\n",
    "\n",
    "- Home Ownership - _категориальная перменная_ \n",
    "- Annual Income - **количественная переменная** \n",
    "- Years in current job - _категориальная перменная_\n",
    "- Tax Liens - _категориальная перменная_\n",
    "- Number of Open Accounts - **количественная переменная**\n",
    "- Years of Credit History -  **количественная переменная**\n",
    "- Maximum Open Credit - **количественная переменная**\n",
    "- Number of Credit Problems - **количественная переменная** или _категориальная перменная_ - необходим дальнейший анализ \n",
    "- Months since last delinquent - **количественная переменная**\n",
    "- Bankruptcies - банкротства - **количественная переменная** или _категориальная перменная_ - необходим дальнейший анализ \n",
    "- Purpose -  _категориальная перменная_\n",
    "- Term - _категориальная перменная_\n",
    "- Current Loan Amount - **количественная переменная**\n",
    "- Current Credit Balance - **количественная переменная**\n",
    "- Monthly Debt - **количественная переменная**\n",
    "- Credit Score - **количественная переменная**\n",
    "- Credit Default - _категориальная перменная_\n",
    "\n",
    "**Итого**\n",
    "- Категориальные переменные\n",
    "    1. Home Ownership\n",
    "    1. Years in current job\n",
    "    1. Tax Liens\n",
    "    1. Purpose\n",
    "    1. Term\n",
    "    1. Credit Default\n",
    "- Количественные переменные\n",
    "    1. Annual Income\n",
    "    1. Number of Open Accounts\n",
    "    1. Years of Credit History\n",
    "    1. Maximum Open Credit\n",
    "    1. Months since last delinquent\n",
    "    1. Current Loan Amount\n",
    "    1. Current Credit Balance\n",
    "    1. Monthly Debt\n",
    "    1. Credit Score\n",
    "- Требуются дополнительные исследования \n",
    "    1. Number of Credit Problems\n",
    "    1. Bankruptcies"
   ]
  },
  {
   "cell_type": "markdown",
   "metadata": {},
   "source": [
    "### _Verify data quality_\n",
    "\n",
    "---"
   ]
  },
  {
   "cell_type": "code",
   "execution_count": 24,
   "metadata": {},
   "outputs": [],
   "source": [
    "def verify_data_quality (evaluated_dataset):\n",
    "    # Проверка типов данных\n",
    "    print(\"Типы данных:\\n{}\\n\".format(evaluated_dataset.dtypes))\n",
    "    # Проверка наличия значений NaN\n",
    "    print(\"Пропущенные значения:\\n{}\\n\".format(evaluated_dataset.isnull().sum().sum()))\n",
    "    # Количество значений, отличных от NaN\n",
    "    print(\"Количество значений, отличных от NaN:\\n{}\\n\".format(evaluated_dataset.count().sum()))\n",
    "    # Поиск дублирующих строк \n",
    "    print(\"Дублирующих строк:\\n{}\\n\".format(evaluated_dataset.duplicated().sum()))\n",
    "    # Форма нарбора данных\n",
    "    print(\"Форма нарбора данных:\\n{}\\n\".format(evaluated_dataset.shape))\n",
    "    # Тип индекса набора данных\n",
    "    print(\"Тип индекса набора данных:\\n{}\\n\".format(evaluated_dataset.index))"
   ]
  },
  {
   "cell_type": "code",
   "execution_count": 26,
   "metadata": {},
   "outputs": [
    {
     "name": "stdout",
     "output_type": "stream",
     "text": [
      "Типы данных:\n",
      "Home Ownership                   object\n",
      "Annual Income                   float64\n",
      "Years in current job             object\n",
      "Tax Liens                       float64\n",
      "Number of Open Accounts         float64\n",
      "Years of Credit History         float64\n",
      "Maximum Open Credit             float64\n",
      "Number of Credit Problems       float64\n",
      "Months since last delinquent    float64\n",
      "Bankruptcies                    float64\n",
      "Purpose                          object\n",
      "Term                             object\n",
      "Current Loan Amount             float64\n",
      "Current Credit Balance          float64\n",
      "Monthly Debt                    float64\n",
      "Credit Score                    float64\n",
      "Credit Default                    int64\n",
      "dtype: object\n",
      "\n",
      "Пропущенные значения:\n",
      "7580\n",
      "\n",
      "Количество значений, отличных от NaN:\n",
      "119920\n",
      "\n",
      "Дублирующих строк:\n",
      "0\n",
      "\n",
      "Форма нарбора данных:\n",
      "(7500, 17)\n",
      "\n",
      "Тип индекса набора данных:\n",
      "RangeIndex(start=0, stop=7500, step=1)\n",
      "\n"
     ]
    }
   ],
   "source": [
    "# Оценка качетва данных\n",
    "verify_data_quality(train_data)"
   ]
  },
  {
   "cell_type": "markdown",
   "metadata": {},
   "source": [
    "### _Conclusions_\n",
    "\n",
    "---"
   ]
  },
  {
   "cell_type": "markdown",
   "metadata": {},
   "source": [
    "Тренировочный набор данных имеет:\n",
    "\n",
    "- 6 катеориальных переменных\n",
    "- 9 колличественных переменных \n",
    "- 2 переменные которые можно оценить как категориальные так и числовые, необходим дальнейший анализ\n",
    "- Набор имеет 17 переменных и 7500 наблюдений.\n",
    "- В столбцах Annual Income, Years in current job, Months since last delinquent, Bankruptcies, Credit Score колличество наблюдений меньше, чем 7500. \n",
    "- Переменные Home Ownership, Years in current job, Purpose, Term имеют тип данных object.\n",
    "- Переменная Credit Default имеет тип данных int64.\n",
    "- Оставшиеся 12 переменных имеют тип данныз float64.\n",
    "-  7580 пропущенных значений \n",
    "- 119920 отличных от NaN\n",
    "- Дублирующих строк нет \n",
    "- Индекс типа RangeIndex, непрерывный с шагом 1 "
   ]
  },
  {
   "cell_type": "markdown",
   "metadata": {},
   "source": [
    "<center>\n",
    "\n",
    "# Section 2. Data Preparation"
   ]
  },
  {
   "cell_type": "markdown",
   "metadata": {},
   "source": [
    "## Clean data\n",
    "\n",
    "---"
   ]
  },
  {
   "cell_type": "markdown",
   "metadata": {},
   "source": [
    "### _Renaming_\n",
    "\n",
    "---"
   ]
  },
  {
   "cell_type": "markdown",
   "metadata": {},
   "source": [
    "### _Data type conversions_\n",
    "\n",
    "---"
   ]
  },
  {
   "cell_type": "markdown",
   "metadata": {},
   "source": [
    "### _Sorting, reordering, reindexing_\n",
    "\n",
    "---"
   ]
  },
  {
   "cell_type": "markdown",
   "metadata": {},
   "source": [
    "### _Addressing missing or invalid data_\n",
    "\n",
    "---"
   ]
  },
  {
   "cell_type": "markdown",
   "metadata": {},
   "source": [
    "### _Deduplicating data_\n",
    "\n",
    "---"
   ]
  },
  {
   "cell_type": "markdown",
   "metadata": {},
   "source": [
    "### _Filtering to the desired subset of data_\n",
    "\n",
    "---"
   ]
  },
  {
   "cell_type": "markdown",
   "metadata": {},
   "source": [
    "## Data Transformation\n",
    "\n",
    "---"
   ]
  },
  {
   "cell_type": "markdown",
   "metadata": {},
   "source": [
    "### _Concatenation_\n",
    "\n",
    "---"
   ]
  },
  {
   "cell_type": "markdown",
   "metadata": {},
   "source": [
    "### _Merging_\n",
    "\n",
    "---"
   ]
  },
  {
   "cell_type": "markdown",
   "metadata": {},
   "source": [
    "### _Pivoting_\n",
    "\n",
    "---"
   ]
  },
  {
   "cell_type": "markdown",
   "metadata": {},
   "source": [
    "### _Stacking & Unstacking_\n",
    "\n",
    "---"
   ]
  },
  {
   "cell_type": "markdown",
   "metadata": {},
   "source": [
    "### _Melting_\n",
    "\n",
    "---"
   ]
  },
  {
   "cell_type": "markdown",
   "metadata": {},
   "source": [
    "## Data enrichment\n",
    "\n",
    "---"
   ]
  },
  {
   "cell_type": "markdown",
   "metadata": {},
   "source": [
    "### _Adding new columns_\n",
    "\n",
    "---"
   ]
  },
  {
   "cell_type": "markdown",
   "metadata": {},
   "source": [
    "### _Binning_\n",
    "\n",
    "---"
   ]
  },
  {
   "cell_type": "markdown",
   "metadata": {},
   "source": [
    "### _Aggregating_\n",
    "\n",
    "---"
   ]
  },
  {
   "cell_type": "markdown",
   "metadata": {},
   "source": [
    "### _Resampling_\n",
    "\n",
    "---"
   ]
  },
  {
   "cell_type": "markdown",
   "metadata": {},
   "source": [
    "<center>\n",
    "\n",
    "# Section 3.Conclusions"
   ]
  },
  {
   "cell_type": "code",
   "execution_count": null,
   "metadata": {},
   "outputs": [],
   "source": []
  },
  {
   "cell_type": "code",
   "execution_count": null,
   "metadata": {},
   "outputs": [],
   "source": []
  }
 ],
 "metadata": {
  "kernelspec": {
   "display_name": "Python 3",
   "language": "python",
   "name": "python3"
  },
  "language_info": {
   "codemirror_mode": {
    "name": "ipython",
    "version": 3
   },
   "file_extension": ".py",
   "mimetype": "text/x-python",
   "name": "python",
   "nbconvert_exporter": "python",
   "pygments_lexer": "ipython3",
   "version": "3.8.3"
  }
 },
 "nbformat": 4,
 "nbformat_minor": 4
}

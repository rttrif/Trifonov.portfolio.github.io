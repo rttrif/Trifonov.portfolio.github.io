{
 "cells": [
  {
   "cell_type": "markdown",
   "metadata": {},
   "source": [
    "### Project Number: 0006\n",
    "## Project Title: Bot Detection\n",
    "\n",
    "---"
   ]
  },
  {
   "cell_type": "markdown",
   "metadata": {},
   "source": [
    "# **STAGE 4. DATA WRANGLING**"
   ]
  },
  {
   "cell_type": "markdown",
   "metadata": {},
   "source": [
    "### Import Libraries\n",
    "\n",
    "---"
   ]
  },
  {
   "cell_type": "code",
   "execution_count": 1,
   "metadata": {},
   "outputs": [],
   "source": [
    "# Data manipulation\n",
    "import pandas as pd\n",
    "import numpy as np\n",
    "\n",
    "# Data Visualizations\n",
    "import seaborn as sns\n",
    "import matplotlib.pyplot as plt\n",
    "%matplotlib inline"
   ]
  },
  {
   "cell_type": "markdown",
   "metadata": {},
   "source": [
    "### Import Data\n",
    "\n",
    "---"
   ]
  },
  {
   "cell_type": "code",
   "execution_count": 2,
   "metadata": {},
   "outputs": [],
   "source": [
    "# Обобщенный путь к данным \n",
    "data_path = r'D:/Data_Science_Project/1. Data Wrangling/[0006] Project 4 - Bot Detection'"
   ]
  },
  {
   "cell_type": "code",
   "execution_count": 3,
   "metadata": {},
   "outputs": [
    {
     "name": "stdout",
     "output_type": "stream",
     "text": [
      "<class 'pandas.core.frame.DataFrame'>\n",
      "Int64Index: 1048573 entries, 0 to 1048572\n",
      "Data columns (total 18 columns):\n",
      " #   Column          Non-Null Count    Dtype         \n",
      "---  ------          --------------    -----         \n",
      " 0   country         1048573 non-null  category      \n",
      " 1   management      1048573 non-null  category      \n",
      " 2   operating_team  1048573 non-null  category      \n",
      " 3   city            1001987 non-null  category      \n",
      " 4   state           1003128 non-null  category      \n",
      " 5   sec_lvl_domn    729116 non-null   category      \n",
      " 6   device_type     206532 non-null   category      \n",
      " 7   operating_sys   1046753 non-null  category      \n",
      " 8   ip_addr         1048573 non-null  category      \n",
      " 9   page_url        1048572 non-null  category      \n",
      " 10  user_agent      1048567 non-null  category      \n",
      " 11  visit           1048573 non-null  int64         \n",
      " 12  engd_visit      1048573 non-null  int64         \n",
      " 13  views           1048573 non-null  int64         \n",
      " 14  week            1048573 non-null  int64         \n",
      " 15  month           1048573 non-null  int64         \n",
      " 16  year            1048573 non-null  int64         \n",
      " 17  page_vw_ts      1045830 non-null  datetime64[ns]\n",
      "dtypes: category(11), datetime64[ns](1), int64(6)\n",
      "memory usage: 130.9 MB\n"
     ]
    }
   ],
   "source": [
    "# Загрузка и проверка данных \n",
    "data = pd.read_feather(data_path + '/bot_detection_pre_prepared.file')\n",
    "\n",
    "# Зададим id как индекс \n",
    "data =  data.set_index(['id'])\n",
    "\n",
    "# Проверка результата \n",
    "data.info()"
   ]
  },
  {
   "cell_type": "code",
   "execution_count": 4,
   "metadata": {},
   "outputs": [],
   "source": [
    "def verify_data_quality(evaluated_dataset):\n",
    "    '''\n",
    "    ФУНКЦИЯ КОМПЛЕКСНОЙ ОЦЕНКИ КАЧЕСТВА ДАННЫХ\n",
    "    '''\n",
    "    # Проверка типов данных\n",
    "    print(\"Типы данных:\\n{}\\n\".format(evaluated_dataset.dtypes) + '_' * 100+ '\\n')\n",
    "    # Проверка наличия значений NaN\n",
    "    print(\"Пропущенные значения:\\n{}\\n\".format(evaluated_dataset.isnull().sum().sum()) + '_' * 100+ '\\n')\n",
    "    # Количество значений, отличных от NaN\n",
    "    print(\"Количество значений, отличных от NaN:\\n{}\\n\".format(evaluated_dataset.count().sum()) + '_' * 100+ '\\n')\n",
    "    # Поиск дублирующих строк \n",
    "    print(\"Дублирующих строк:\\n{}\\n\".format(evaluated_dataset.duplicated().sum()) + '_' * 100+ '\\n')\n",
    "    # Форма нарбора данных\n",
    "    print(\"Форма нарбора данных:\\n{}\\n\".format(evaluated_dataset.shape) + '_' * 100+ '\\n')\n",
    "    # Тип индекса набора данных\n",
    "    print(\"Тип индекса набора данных:\\n{}\\n\".format(evaluated_dataset.index) + '_' * 100+ '\\n')"
   ]
  },
  {
   "cell_type": "code",
   "execution_count": 5,
   "metadata": {},
   "outputs": [
    {
     "name": "stdout",
     "output_type": "stream",
     "text": [
      "Типы данных:\n",
      "country                 category\n",
      "management              category\n",
      "operating_team          category\n",
      "city                    category\n",
      "state                   category\n",
      "sec_lvl_domn            category\n",
      "device_type             category\n",
      "operating_sys           category\n",
      "ip_addr                 category\n",
      "page_url                category\n",
      "user_agent              category\n",
      "visit                      int64\n",
      "engd_visit                 int64\n",
      "views                      int64\n",
      "week                       int64\n",
      "month                      int64\n",
      "year                       int64\n",
      "page_vw_ts        datetime64[ns]\n",
      "dtype: object\n",
      "____________________________________________________________________________________________________\n",
      "\n",
      "Пропущенные значения:\n",
      "1258099\n",
      "____________________________________________________________________________________________________\n",
      "\n",
      "Количество значений, отличных от NaN:\n",
      "17616215\n",
      "____________________________________________________________________________________________________\n",
      "\n",
      "Дублирующих строк:\n",
      "0\n",
      "____________________________________________________________________________________________________\n",
      "\n",
      "Форма нарбора данных:\n",
      "(1048573, 18)\n",
      "____________________________________________________________________________________________________\n",
      "\n",
      "Тип индекса набора данных:\n",
      "Int64Index([      0,       1,       2,       3,       4,       5,       6,\n",
      "                  7,       8,       9,\n",
      "            ...\n",
      "            1048563, 1048564, 1048565, 1048566, 1048567, 1048568, 1048569,\n",
      "            1048570, 1048571, 1048572],\n",
      "           dtype='int64', name='id', length=1048573)\n",
      "____________________________________________________________________________________________________\n",
      "\n"
     ]
    }
   ],
   "source": [
    "# Оценка качества данных \n",
    "verify_data_quality(data)"
   ]
  },
  {
   "cell_type": "markdown",
   "metadata": {},
   "source": [
    "## SECTION 4.1 CLEAN DATA\n"
   ]
  },
  {
   "cell_type": "markdown",
   "metadata": {},
   "source": [
    "### _Addressing missing or invalid data_\n",
    "\n",
    "---"
   ]
  },
  {
   "cell_type": "markdown",
   "metadata": {},
   "source": [
    " Оценим колличество пропущенных значений в каждой перменной\n"
   ]
  },
  {
   "cell_type": "code",
   "execution_count": 6,
   "metadata": {},
   "outputs": [],
   "source": [
    "def enomv_df(data):\n",
    "    '''\n",
    "    ОЦЕНКА КОЛИЧЕСТВА ПРОПУЩЕННЫХ ЗНАЧЕНИЙ В НАБОРЕ ДАННЫХ \n",
    "    \n",
    "    ESTIMATING THE NUMBER OF MISSING VALUES IN THE DATA SET (enomv_df)\n",
    "    '''\n",
    "    # Колличество пропусков \n",
    "    print(\"Колличество пропусков:\\n{}\\n\".format(data.isna().sum()) + '-' * 100+ '\\n')\n",
    "    # Колличество значений  \n",
    "    print(\"Колличество значений:\\n{}\\n\".format(data.count()) + '-' * 100+ '\\n')\n",
    "    # Описательные статистики \n",
    "    print(\"Описательные статистики:\\n{}\\n\".format(data.describe().round(2)) + '-' * 100+ '\\n')"
   ]
  },
  {
   "cell_type": "code",
   "execution_count": 7,
   "metadata": {},
   "outputs": [
    {
     "name": "stdout",
     "output_type": "stream",
     "text": [
      "Колличество пропусков:\n",
      "country                0\n",
      "management             0\n",
      "operating_team         0\n",
      "city               46586\n",
      "state              45445\n",
      "sec_lvl_domn      319457\n",
      "device_type       842041\n",
      "operating_sys       1820\n",
      "ip_addr                0\n",
      "page_url               1\n",
      "user_agent             6\n",
      "visit                  0\n",
      "engd_visit             0\n",
      "views                  0\n",
      "week                   0\n",
      "month                  0\n",
      "year                   0\n",
      "page_vw_ts          2743\n",
      "dtype: int64\n",
      "----------------------------------------------------------------------------------------------------\n",
      "\n",
      "Колличество значений:\n",
      "country           1048573\n",
      "management        1048573\n",
      "operating_team    1048573\n",
      "city              1001987\n",
      "state             1003128\n",
      "sec_lvl_domn       729116\n",
      "device_type        206532\n",
      "operating_sys     1046753\n",
      "ip_addr           1048573\n",
      "page_url          1048572\n",
      "user_agent        1048567\n",
      "visit             1048573\n",
      "engd_visit        1048573\n",
      "views             1048573\n",
      "week              1048573\n",
      "month             1048573\n",
      "year              1048573\n",
      "page_vw_ts        1045830\n",
      "dtype: int64\n",
      "----------------------------------------------------------------------------------------------------\n",
      "\n",
      "Описательные статистики:\n",
      "            visit  engd_visit       views       week      month       year\n",
      "count  1048573.00  1048573.00  1048573.00  1048573.0  1048573.0  1048573.0\n",
      "mean         1.11        0.34        1.41       11.0        3.0     2019.0\n",
      "std          2.36        1.16        3.24        0.0        0.0        0.0\n",
      "min          1.00        0.00        1.00       11.0        3.0     2019.0\n",
      "25%          1.00        0.00        1.00       11.0        3.0     2019.0\n",
      "50%          1.00        0.00        1.00       11.0        3.0     2019.0\n",
      "75%          1.00        1.00        1.00       11.0        3.0     2019.0\n",
      "max       1195.00      694.00     1196.00       11.0        3.0     2019.0\n",
      "----------------------------------------------------------------------------------------------------\n",
      "\n"
     ]
    }
   ],
   "source": [
    "# Оценим пропуски в наборе данных\n",
    "enomv_df(data)"
   ]
  },
  {
   "cell_type": "markdown",
   "metadata": {},
   "source": [
    "Анализ пропусков показывает, что дальнейший интерес с этой точки зрения представляют следующие переменные \n",
    "\n",
    "- city\n",
    "- state\n",
    "- sec_lvl_domn\n",
    "- device_type\n",
    "- operating_sys\n",
    "- page_url \n",
    "- page_vw_ts"
   ]
  },
  {
   "cell_type": "markdown",
   "metadata": {},
   "source": [
    "### Анализ уникальных значений"
   ]
  },
  {
   "cell_type": "markdown",
   "metadata": {},
   "source": [
    "#### city"
   ]
  },
  {
   "cell_type": "code",
   "execution_count": 8,
   "metadata": {},
   "outputs": [
    {
     "data": {
      "text/plain": [
       "[SLIDELL, TOKYO, ELK GROVE, SAO FRANCISCO DE GOIAS, BEZONS, ..., PENSARN, POUILLY, AIFFRES, PONTEFRACT, OBERGIESING-FASANGARTEN]\n",
       "Length: 20643\n",
       "Categories (20642, object): [SLIDELL, TOKYO, ELK GROVE, SAO FRANCISCO DE GOIAS, ..., POUILLY, AIFFRES, PONTEFRACT, OBERGIESING-FASANGARTEN]"
      ]
     },
     "execution_count": 8,
     "metadata": {},
     "output_type": "execute_result"
    }
   ],
   "source": [
    "data['city'].unique()"
   ]
  },
  {
   "cell_type": "markdown",
   "metadata": {},
   "source": [
    "#### state"
   ]
  },
  {
   "cell_type": "code",
   "execution_count": 9,
   "metadata": {},
   "outputs": [
    {
     "data": {
      "text/plain": [
       "[LOUISIANA, TOKYO, CALIFORNIA, GOIAS, VAL-D'OISE, ..., GORENJA VAS-POLJANE, PATTANI, CABINDA, MALAMPA, BITLIS]\n",
       "Length: 1857\n",
       "Categories (1856, object): [LOUISIANA, TOKYO, CALIFORNIA, GOIAS, ..., PATTANI, CABINDA, MALAMPA, BITLIS]"
      ]
     },
     "execution_count": 9,
     "metadata": {},
     "output_type": "execute_result"
    }
   ],
   "source": [
    "data['state'].unique()"
   ]
  },
  {
   "cell_type": "markdown",
   "metadata": {},
   "source": [
    "#### sec_lvl_domn"
   ]
  },
  {
   "cell_type": "code",
   "execution_count": 10,
   "metadata": {},
   "outputs": [
    {
     "data": {
      "text/plain": [
       "[CHARTER.COM, MOPERA.NET, COMCASTBUSINESS.NET, VIVOZAP.COM.BR, PROXAD.NET, ..., TBS.CO.JP, SCHANTZ.COM, SURETE.QC.CA, GLOBOSAT.COM.BR, PSBA.COM]\n",
       "Length: 37147\n",
       "Categories (37146, object): [CHARTER.COM, MOPERA.NET, COMCASTBUSINESS.NET, VIVOZAP.COM.BR, ..., SCHANTZ.COM, SURETE.QC.CA, GLOBOSAT.COM.BR, PSBA.COM]"
      ]
     },
     "execution_count": 10,
     "metadata": {},
     "output_type": "execute_result"
    }
   ],
   "source": [
    "data['sec_lvl_domn'].unique()"
   ]
  },
  {
   "cell_type": "markdown",
   "metadata": {},
   "source": [
    "#### device_type"
   ]
  },
  {
   "cell_type": "code",
   "execution_count": 11,
   "metadata": {},
   "outputs": [
    {
     "data": {
      "text/plain": [
       "[MOBILEPHONE, TABLET, NaN, SETTOPBOX, OTHER, TV, MEDIAPLAYER, GAMESCONSOLE]\n",
       "Categories (7, object): [MOBILEPHONE, TABLET, SETTOPBOX, OTHER, TV, MEDIAPLAYER, GAMESCONSOLE]"
      ]
     },
     "execution_count": 11,
     "metadata": {},
     "output_type": "execute_result"
    }
   ],
   "source": [
    "data['device_type'].unique()"
   ]
  },
  {
   "cell_type": "markdown",
   "metadata": {},
   "source": [
    "#### operating_sys"
   ]
  },
  {
   "cell_type": "code",
   "execution_count": 12,
   "metadata": {},
   "outputs": [
    {
     "data": {
      "text/plain": [
       "[IOS_12.1.4, ANDROID_6.0, IOS_12.1.2, ANDROID_9, ANDROID_8.0.0, ..., ANDROID_6.0ZH-CN, IOS_7.1.2, WINDOWSPHONE_7, ANDROID_2.3.7, NUCLEUSPLUS]\n",
       "Length: 175\n",
       "Categories (174, object): [IOS_12.1.4, ANDROID_6.0, IOS_12.1.2, ANDROID_9, ..., IOS_7.1.2, WINDOWSPHONE_7, ANDROID_2.3.7, NUCLEUSPLUS]"
      ]
     },
     "execution_count": 12,
     "metadata": {},
     "output_type": "execute_result"
    }
   ],
   "source": [
    "data['operating_sys'].unique()"
   ]
  },
  {
   "cell_type": "markdown",
   "metadata": {},
   "source": [
    "#### page_url"
   ]
  },
  {
   "cell_type": "code",
   "execution_count": 13,
   "metadata": {},
   "outputs": [
    {
     "data": {
      "text/plain": [
       "[www.ibm.com/watson/campaign, www.ibm.com/privacy/us/en, www.ibm.com/account/reg/us-en/signup?formid=ur..., www.ibm.com/analytics/br/pt/business-intelligence, www.ibm.com/watson/fr-fr, ..., www.ibm.com/support/knowledgecenter/ssmmm5_9.1..., www.ibm.com/support/knowledgecenter/en/ssygqh_..., align.ustream.tv/channel/23549815/video/115707795, www-01.ibm.com/support/docview.wss?uid=nas8n10..., www.ibm.com/support/knowledgecenter/en/search/...]\n",
       "Length: 329692\n",
       "Categories (329691, object): [www.ibm.com/watson/campaign, www.ibm.com/privacy/us/en, www.ibm.com/account/reg/us-en/signup?formid=ur..., www.ibm.com/analytics/br/pt/business-intelligence, ..., www.ibm.com/support/knowledgecenter/en/ssygqh_..., align.ustream.tv/channel/23549815/video/115707795, www-01.ibm.com/support/docview.wss?uid=nas8n10..., www.ibm.com/support/knowledgecenter/en/search/...]"
      ]
     },
     "execution_count": 13,
     "metadata": {},
     "output_type": "execute_result"
    }
   ],
   "source": [
    "data['page_url'].unique()"
   ]
  },
  {
   "cell_type": "markdown",
   "metadata": {},
   "source": [
    "#### page_vw_ts"
   ]
  },
  {
   "cell_type": "code",
   "execution_count": 14,
   "metadata": {},
   "outputs": [
    {
     "data": {
      "text/plain": [
       "id\n",
       "0         2019-06-04 05:05:18.023100\n",
       "1         2019-06-04 05:07:11.014300\n",
       "2         2019-06-04 05:08:46.081900\n",
       "3         2019-06-04 05:07:22.033300\n",
       "4         2019-06-04 05:05:27.027700\n",
       "                     ...            \n",
       "1048568   2019-06-04 13:27:37.059600\n",
       "1048569   2019-06-04 13:27:04.035100\n",
       "1048570   2019-06-04 13:40:47.060500\n",
       "1048571   2019-06-04 13:22:12.001900\n",
       "1048572   2019-06-04 13:39:50.074200\n",
       "Name: page_vw_ts, Length: 1048573, dtype: datetime64[ns]"
      ]
     },
     "execution_count": 14,
     "metadata": {},
     "output_type": "execute_result"
    }
   ],
   "source": [
    "data['page_vw_ts']"
   ]
  },
  {
   "cell_type": "markdown",
   "metadata": {},
   "source": [
    "### Выводы по анализу уникальных значений\n",
    "\n",
    "Анализ уникальных значений переменных имеющих пропущенные значения показал, что каждая из переменных принимает широкий диапазон уникальных значений.\n",
    "Количество уникальных значений переменных:   \n",
    "- city: 20643\n",
    "- state: 1857\n",
    "- sec_lvl_domn: 37147\n",
    "- device_type: 7\n",
    "- operating_sys: 175\n",
    "- page_url: 329692\n",
    "- page_vw_ts: все значения уникальны\n",
    "\n",
    "Учитывая выше указанные обстоятельства и цель проекта подготовка для дальнейшего анализа оптимальной стратегией заполнения пропусков является замена значений NaN на Unknown.\n",
    "Значение пропущенного времени заменим на 0.\n",
    "Такой подход позволит изучить их на стадии разведочного анализа данных. "
   ]
  },
  {
   "cell_type": "code",
   "execution_count": 15,
   "metadata": {},
   "outputs": [],
   "source": [
    "# Заполнение пропущенных значений \"Unknown\" и 0. \n",
    "data_filled =  data\n",
    "data_filled['city'] = data_filled['city'].cat.add_categories('Unknown').fillna(\"Unknown\")\n",
    "data_filled['state'] = data_filled['state'].cat.add_categories('Unknown').fillna(\"Unknown\")\n",
    "data_filled['sec_lvl_domn'] = data_filled['sec_lvl_domn'].cat.add_categories('Unknown').fillna(\"Unknown\")\n",
    "data_filled['device_type'] = data_filled['device_type'].cat.add_categories('Unknown').fillna(\"Unknown\")\n",
    "data_filled['operating_sys'] = data_filled['operating_sys'].cat.add_categories('Unknown').fillna(\"Unknown\")\n",
    "data_filled['page_url'] = data_filled['page_url'].cat.add_categories('Unknown').fillna(\"Unknown\")\n",
    "data_filled['page_vw_ts'] = data_filled['page_vw_ts'].fillna(0)"
   ]
  },
  {
   "cell_type": "code",
   "execution_count": 16,
   "metadata": {},
   "outputs": [
    {
     "name": "stdout",
     "output_type": "stream",
     "text": [
      "Колличество пропусков:\n",
      "country           0\n",
      "management        0\n",
      "operating_team    0\n",
      "city              0\n",
      "state             0\n",
      "sec_lvl_domn      0\n",
      "device_type       0\n",
      "operating_sys     0\n",
      "ip_addr           0\n",
      "page_url          0\n",
      "user_agent        6\n",
      "visit             0\n",
      "engd_visit        0\n",
      "views             0\n",
      "week              0\n",
      "month             0\n",
      "year              0\n",
      "page_vw_ts        0\n",
      "dtype: int64\n",
      "----------------------------------------------------------------------------------------------------\n",
      "\n",
      "Колличество значений:\n",
      "country           1048573\n",
      "management        1048573\n",
      "operating_team    1048573\n",
      "city              1048573\n",
      "state             1048573\n",
      "sec_lvl_domn      1048573\n",
      "device_type       1048573\n",
      "operating_sys     1048573\n",
      "ip_addr           1048573\n",
      "page_url          1048573\n",
      "user_agent        1048567\n",
      "visit             1048573\n",
      "engd_visit        1048573\n",
      "views             1048573\n",
      "week              1048573\n",
      "month             1048573\n",
      "year              1048573\n",
      "page_vw_ts        1048573\n",
      "dtype: int64\n",
      "----------------------------------------------------------------------------------------------------\n",
      "\n",
      "Описательные статистики:\n",
      "            visit  engd_visit       views       week      month       year\n",
      "count  1048573.00  1048573.00  1048573.00  1048573.0  1048573.0  1048573.0\n",
      "mean         1.11        0.34        1.41       11.0        3.0     2019.0\n",
      "std          2.36        1.16        3.24        0.0        0.0        0.0\n",
      "min          1.00        0.00        1.00       11.0        3.0     2019.0\n",
      "25%          1.00        0.00        1.00       11.0        3.0     2019.0\n",
      "50%          1.00        0.00        1.00       11.0        3.0     2019.0\n",
      "75%          1.00        1.00        1.00       11.0        3.0     2019.0\n",
      "max       1195.00      694.00     1196.00       11.0        3.0     2019.0\n",
      "----------------------------------------------------------------------------------------------------\n",
      "\n"
     ]
    }
   ],
   "source": [
    "# Оценим пропуски в наборе данных \n",
    "enomv_df(data)"
   ]
  },
  {
   "cell_type": "markdown",
   "metadata": {},
   "source": [
    "### _Filtering to the desired subset of data_\n",
    "\n",
    "---"
   ]
  },
  {
   "cell_type": "markdown",
   "metadata": {},
   "source": [
    "Анализ описательных статистик показывает, что переменные week, month, year имеют постоянное значение. Исследуем это детально с помощью анализа уникальных значений для указанных переменных. "
   ]
  },
  {
   "cell_type": "markdown",
   "metadata": {},
   "source": [
    "#### week"
   ]
  },
  {
   "cell_type": "code",
   "execution_count": 17,
   "metadata": {},
   "outputs": [
    {
     "data": {
      "text/plain": [
       "array([11], dtype=int64)"
      ]
     },
     "execution_count": 17,
     "metadata": {},
     "output_type": "execute_result"
    }
   ],
   "source": [
    "data_filled['week'].unique()"
   ]
  },
  {
   "cell_type": "markdown",
   "metadata": {},
   "source": [
    "#### month"
   ]
  },
  {
   "cell_type": "code",
   "execution_count": 18,
   "metadata": {},
   "outputs": [
    {
     "data": {
      "text/plain": [
       "array([3], dtype=int64)"
      ]
     },
     "execution_count": 18,
     "metadata": {},
     "output_type": "execute_result"
    }
   ],
   "source": [
    "data_filled['month'].unique()"
   ]
  },
  {
   "cell_type": "markdown",
   "metadata": {},
   "source": [
    "#### year"
   ]
  },
  {
   "cell_type": "code",
   "execution_count": 19,
   "metadata": {},
   "outputs": [
    {
     "data": {
      "text/plain": [
       "array([2019], dtype=int64)"
      ]
     },
     "execution_count": 19,
     "metadata": {},
     "output_type": "execute_result"
    }
   ],
   "source": [
    "data_filled['year'].unique()"
   ]
  },
  {
   "cell_type": "markdown",
   "metadata": {},
   "source": [
    "По результатам оценки уникальных значений видно, что переменные принимают всего одно значение. На этом основании исключим их из набора. "
   ]
  },
  {
   "cell_type": "code",
   "execution_count": 20,
   "metadata": {},
   "outputs": [
    {
     "data": {
      "text/html": [
       "<div>\n",
       "<style scoped>\n",
       "    .dataframe tbody tr th:only-of-type {\n",
       "        vertical-align: middle;\n",
       "    }\n",
       "\n",
       "    .dataframe tbody tr th {\n",
       "        vertical-align: top;\n",
       "    }\n",
       "\n",
       "    .dataframe thead th {\n",
       "        text-align: right;\n",
       "    }\n",
       "</style>\n",
       "<table border=\"1\" class=\"dataframe\">\n",
       "  <thead>\n",
       "    <tr style=\"text-align: right;\">\n",
       "      <th>id</th>\n",
       "      <th>0</th>\n",
       "      <th>1</th>\n",
       "      <th>2</th>\n",
       "      <th>3</th>\n",
       "      <th>4</th>\n",
       "    </tr>\n",
       "  </thead>\n",
       "  <tbody>\n",
       "    <tr>\n",
       "      <th>country</th>\n",
       "      <td>United States</td>\n",
       "      <td>Japan</td>\n",
       "      <td>United States</td>\n",
       "      <td>Brazil</td>\n",
       "      <td>France</td>\n",
       "    </tr>\n",
       "    <tr>\n",
       "      <th>management</th>\n",
       "      <td>United States</td>\n",
       "      <td>Japan</td>\n",
       "      <td>United States</td>\n",
       "      <td>Brazil</td>\n",
       "      <td>France</td>\n",
       "    </tr>\n",
       "    <tr>\n",
       "      <th>operating_team</th>\n",
       "      <td>North America</td>\n",
       "      <td>Japan</td>\n",
       "      <td>North America</td>\n",
       "      <td>Latin America</td>\n",
       "      <td>Europe</td>\n",
       "    </tr>\n",
       "    <tr>\n",
       "      <th>city</th>\n",
       "      <td>SLIDELL</td>\n",
       "      <td>TOKYO</td>\n",
       "      <td>ELK GROVE</td>\n",
       "      <td>SAO FRANCISCO DE GOIAS</td>\n",
       "      <td>BEZONS</td>\n",
       "    </tr>\n",
       "    <tr>\n",
       "      <th>state</th>\n",
       "      <td>LOUISIANA</td>\n",
       "      <td>TOKYO</td>\n",
       "      <td>CALIFORNIA</td>\n",
       "      <td>GOIAS</td>\n",
       "      <td>VAL-D'OISE</td>\n",
       "    </tr>\n",
       "    <tr>\n",
       "      <th>sec_lvl_domn</th>\n",
       "      <td>CHARTER.COM</td>\n",
       "      <td>MOPERA.NET</td>\n",
       "      <td>COMCASTBUSINESS.NET</td>\n",
       "      <td>VIVOZAP.COM.BR</td>\n",
       "      <td>PROXAD.NET</td>\n",
       "    </tr>\n",
       "    <tr>\n",
       "      <th>device_type</th>\n",
       "      <td>MOBILEPHONE</td>\n",
       "      <td>TABLET</td>\n",
       "      <td>MOBILEPHONE</td>\n",
       "      <td>MOBILEPHONE</td>\n",
       "      <td>MOBILEPHONE</td>\n",
       "    </tr>\n",
       "    <tr>\n",
       "      <th>operating_sys</th>\n",
       "      <td>IOS_12.1.4</td>\n",
       "      <td>ANDROID_6.0</td>\n",
       "      <td>IOS_12.1.2</td>\n",
       "      <td>ANDROID_6.0</td>\n",
       "      <td>ANDROID_9</td>\n",
       "    </tr>\n",
       "    <tr>\n",
       "      <th>ip_addr</th>\n",
       "      <td>287e8e9aeedb50e963906f10cca7ca26ae830154e69220...</td>\n",
       "      <td>d7746df5cc2de7f79584d57c2c082b9acc7697602021a1...</td>\n",
       "      <td>8540464f5f376c7a160d63632f8cbedc96c61158daf9ae...</td>\n",
       "      <td>cb9ffa7be250fc62426a431a4f08bc0c8222f63514ba39...</td>\n",
       "      <td>7ce278be1b02a0253cc0219fa9ceddfe8e91846be343a4...</td>\n",
       "    </tr>\n",
       "    <tr>\n",
       "      <th>page_url</th>\n",
       "      <td>www.ibm.com/watson/campaign</td>\n",
       "      <td>www.ibm.com/privacy/us/en</td>\n",
       "      <td>www.ibm.com/account/reg/us-en/signup?formid=ur...</td>\n",
       "      <td>www.ibm.com/analytics/br/pt/business-intelligence</td>\n",
       "      <td>www.ibm.com/watson/fr-fr</td>\n",
       "    </tr>\n",
       "    <tr>\n",
       "      <th>user_agent</th>\n",
       "      <td>MOZILLA/5.0 (IPHONE; CPU IPHONE OS 12_1_4 LIKE...</td>\n",
       "      <td>MOZILLA/5.0 (LINUX; ANDROID 6.0; D-01J BUILD/H...</td>\n",
       "      <td>MOZILLA/5.0 (IPHONE; CPU IPHONE OS 12_1_2 LIKE...</td>\n",
       "      <td>MOZILLA/5.0 (LINUX; ANDROID 6.0; PT-BR; 5010E ...</td>\n",
       "      <td>MOZILLA/5.0 (LINUX; ANDROID 9; SM-G965F BUILD/...</td>\n",
       "    </tr>\n",
       "    <tr>\n",
       "      <th>visit</th>\n",
       "      <td>1</td>\n",
       "      <td>1</td>\n",
       "      <td>1</td>\n",
       "      <td>1</td>\n",
       "      <td>1</td>\n",
       "    </tr>\n",
       "    <tr>\n",
       "      <th>engd_visit</th>\n",
       "      <td>0</td>\n",
       "      <td>0</td>\n",
       "      <td>0</td>\n",
       "      <td>0</td>\n",
       "      <td>0</td>\n",
       "    </tr>\n",
       "    <tr>\n",
       "      <th>views</th>\n",
       "      <td>1</td>\n",
       "      <td>1</td>\n",
       "      <td>1</td>\n",
       "      <td>1</td>\n",
       "      <td>1</td>\n",
       "    </tr>\n",
       "    <tr>\n",
       "      <th>page_vw_ts</th>\n",
       "      <td>2019-06-04 05:05:18.023100</td>\n",
       "      <td>2019-06-04 05:07:11.014300</td>\n",
       "      <td>2019-06-04 05:08:46.081900</td>\n",
       "      <td>2019-06-04 05:07:22.033300</td>\n",
       "      <td>2019-06-04 05:05:27.027700</td>\n",
       "    </tr>\n",
       "  </tbody>\n",
       "</table>\n",
       "</div>"
      ],
      "text/plain": [
       "id                                                              0  \\\n",
       "country                                             United States   \n",
       "management                                          United States   \n",
       "operating_team                                      North America   \n",
       "city                                                      SLIDELL   \n",
       "state                                                   LOUISIANA   \n",
       "sec_lvl_domn                                          CHARTER.COM   \n",
       "device_type                                           MOBILEPHONE   \n",
       "operating_sys                                          IOS_12.1.4   \n",
       "ip_addr         287e8e9aeedb50e963906f10cca7ca26ae830154e69220...   \n",
       "page_url                              www.ibm.com/watson/campaign   \n",
       "user_agent      MOZILLA/5.0 (IPHONE; CPU IPHONE OS 12_1_4 LIKE...   \n",
       "visit                                                           1   \n",
       "engd_visit                                                      0   \n",
       "views                                                           1   \n",
       "page_vw_ts                             2019-06-04 05:05:18.023100   \n",
       "\n",
       "id                                                              1  \\\n",
       "country                                                     Japan   \n",
       "management                                                  Japan   \n",
       "operating_team                                              Japan   \n",
       "city                                                        TOKYO   \n",
       "state                                                       TOKYO   \n",
       "sec_lvl_domn                                           MOPERA.NET   \n",
       "device_type                                                TABLET   \n",
       "operating_sys                                         ANDROID_6.0   \n",
       "ip_addr         d7746df5cc2de7f79584d57c2c082b9acc7697602021a1...   \n",
       "page_url                                www.ibm.com/privacy/us/en   \n",
       "user_agent      MOZILLA/5.0 (LINUX; ANDROID 6.0; D-01J BUILD/H...   \n",
       "visit                                                           1   \n",
       "engd_visit                                                      0   \n",
       "views                                                           1   \n",
       "page_vw_ts                             2019-06-04 05:07:11.014300   \n",
       "\n",
       "id                                                              2  \\\n",
       "country                                             United States   \n",
       "management                                          United States   \n",
       "operating_team                                      North America   \n",
       "city                                                    ELK GROVE   \n",
       "state                                                  CALIFORNIA   \n",
       "sec_lvl_domn                                  COMCASTBUSINESS.NET   \n",
       "device_type                                           MOBILEPHONE   \n",
       "operating_sys                                          IOS_12.1.2   \n",
       "ip_addr         8540464f5f376c7a160d63632f8cbedc96c61158daf9ae...   \n",
       "page_url        www.ibm.com/account/reg/us-en/signup?formid=ur...   \n",
       "user_agent      MOZILLA/5.0 (IPHONE; CPU IPHONE OS 12_1_2 LIKE...   \n",
       "visit                                                           1   \n",
       "engd_visit                                                      0   \n",
       "views                                                           1   \n",
       "page_vw_ts                             2019-06-04 05:08:46.081900   \n",
       "\n",
       "id                                                              3  \\\n",
       "country                                                    Brazil   \n",
       "management                                                 Brazil   \n",
       "operating_team                                      Latin America   \n",
       "city                                       SAO FRANCISCO DE GOIAS   \n",
       "state                                                       GOIAS   \n",
       "sec_lvl_domn                                       VIVOZAP.COM.BR   \n",
       "device_type                                           MOBILEPHONE   \n",
       "operating_sys                                         ANDROID_6.0   \n",
       "ip_addr         cb9ffa7be250fc62426a431a4f08bc0c8222f63514ba39...   \n",
       "page_url        www.ibm.com/analytics/br/pt/business-intelligence   \n",
       "user_agent      MOZILLA/5.0 (LINUX; ANDROID 6.0; PT-BR; 5010E ...   \n",
       "visit                                                           1   \n",
       "engd_visit                                                      0   \n",
       "views                                                           1   \n",
       "page_vw_ts                             2019-06-04 05:07:22.033300   \n",
       "\n",
       "id                                                              4  \n",
       "country                                                    France  \n",
       "management                                                 France  \n",
       "operating_team                                             Europe  \n",
       "city                                                       BEZONS  \n",
       "state                                                  VAL-D'OISE  \n",
       "sec_lvl_domn                                           PROXAD.NET  \n",
       "device_type                                           MOBILEPHONE  \n",
       "operating_sys                                           ANDROID_9  \n",
       "ip_addr         7ce278be1b02a0253cc0219fa9ceddfe8e91846be343a4...  \n",
       "page_url                                 www.ibm.com/watson/fr-fr  \n",
       "user_agent      MOZILLA/5.0 (LINUX; ANDROID 9; SM-G965F BUILD/...  \n",
       "visit                                                           1  \n",
       "engd_visit                                                      0  \n",
       "views                                                           1  \n",
       "page_vw_ts                             2019-06-04 05:05:27.027700  "
      ]
     },
     "execution_count": 20,
     "metadata": {},
     "output_type": "execute_result"
    }
   ],
   "source": [
    "# Фильтрация набора данных\n",
    "data_filtered = data_filled.drop(['week', 'month', 'year',], axis=1)\n",
    "data_filtered.head().T"
   ]
  },
  {
   "cell_type": "markdown",
   "metadata": {},
   "source": [
    "## SECTION 4.2 CONCLUSIONS"
   ]
  },
  {
   "cell_type": "markdown",
   "metadata": {},
   "source": [
    "По результатам процесса подготовки данных выполнены следующие действия: \n",
    "\n",
    "- Анализ пропущенных значений: установлено, что следующие переменные имеют пропуски: \n",
    "\t- city\n",
    "\t- state\n",
    "\t- sec_lvl_domn\n",
    "\t- device_type\n",
    "\t- operating_sys\n",
    "\t- page_url\n",
    "\t- page_vw_ts \n",
    "\t\n",
    "- Анализ уникальных значений переменных имеющих пропуски показал, что каждая из переменных принимает широкий диапазон уникальных значений.\n",
    "\t- city: 20643\n",
    "\t- state: 1857\n",
    "\t- sec_lvl_domn: 37147\n",
    "\t- device_type: 7\n",
    "\t- operating_sys: 175\n",
    "\t- page_url: 329692\n",
    "\t- page_vw_ts: все значения уникальны\n",
    "\t\n",
    "На этом основании и с учетом цели проекта было принято решение, что  для дальнейшего анализа оптимальной стратегией заполнения пропусков является замена значений NaN на Unknown, \n",
    "значение пропущенного времени заменим на 0, т.к.такой подход позволит изучить их на стадии разведочного анализа данных. \n",
    "\n",
    "Анализ описательных статистик показал, что переменные week, month, year имеют постоянное значение. Дальнейший анализ уникальных значений выявил, что переменные принимают всего одно значение. \n",
    "На этом основании принято решение об исключении их из финального набора.\n"
   ]
  },
  {
   "cell_type": "code",
   "execution_count": 21,
   "metadata": {},
   "outputs": [],
   "source": [
    "# Сохранение промежуточных результатов для дальнейших исследований \n",
    "pd.DataFrame.to_feather(data_filtered.reset_index(), 'bot_detection_wrangled.file')"
   ]
  },
  {
   "cell_type": "code",
   "execution_count": 22,
   "metadata": {},
   "outputs": [],
   "source": [
    "# Сохраниение результатов итоговых результатов\n",
    "data_filtered.to_csv('bot_detection_wrangled.csv', sep=',', index=True, encoding='utf-8')"
   ]
  }
 ],
 "metadata": {
  "kernelspec": {
   "display_name": "Python 3",
   "language": "python",
   "name": "python3"
  },
  "language_info": {
   "codemirror_mode": {
    "name": "ipython",
    "version": 3
   },
   "file_extension": ".py",
   "mimetype": "text/x-python",
   "name": "python",
   "nbconvert_exporter": "python",
   "pygments_lexer": "ipython3",
   "version": "3.8.3"
  }
 },
 "nbformat": 4,
 "nbformat_minor": 4
}

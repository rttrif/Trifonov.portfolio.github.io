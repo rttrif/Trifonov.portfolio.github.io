{
 "cells": [
  {
   "cell_type": "markdown",
   "metadata": {},
   "source": [
    "#### Project Type: Data Wrangling\n",
    "### Project Number: 2\n",
    "## Project Title: Coursera Course Dataset\n",
    "\n",
    "---\n"
   ]
  },
  {
   "cell_type": "markdown",
   "metadata": {},
   "source": [
    "Источник данных: https://www.kaggle.com/siddharthm1698/coursera-course-dataset"
   ]
  },
  {
   "cell_type": "markdown",
   "metadata": {},
   "source": [
    "\n",
    "# **STAGE 1. PROBLEM DEFINITION**\n",
    "    \n",
    "\n"
   ]
  },
  {
   "cell_type": "markdown",
   "metadata": {},
   "source": [
    "\n",
    "### Project Objectives\n",
    "\n",
    "---"
   ]
  },
  {
   "cell_type": "markdown",
   "metadata": {},
   "source": [
    "- Тренировка навыка подготовки данных для дальнейшего анализа \n",
    "- Развлечение и отдых "
   ]
  },
  {
   "cell_type": "markdown",
   "metadata": {},
   "source": [
    "### Success criteria\n",
    "\n",
    "---"
   ]
  },
  {
   "cell_type": "markdown",
   "metadata": {},
   "source": [
    "- Данные более высокого качества, чем в началале "
   ]
  },
  {
   "cell_type": "markdown",
   "metadata": {},
   "source": [
    "### Task type\n",
    "\n",
    "---"
   ]
  },
  {
   "cell_type": "markdown",
   "metadata": {},
   "source": [
    "Data Wrangling "
   ]
  },
  {
   "cell_type": "markdown",
   "metadata": {},
   "source": [
    "    \n",
    "# **STAGE 2. PRELIMINARY DATA WRANGLING**\n",
    "\n"
   ]
  },
  {
   "cell_type": "markdown",
   "metadata": {},
   "source": [
    "### Import Libraries\n",
    "\n",
    "---"
   ]
  },
  {
   "cell_type": "code",
   "execution_count": 1,
   "metadata": {},
   "outputs": [],
   "source": [
    "# Data manipulation\n",
    "import pandas as pd\n",
    "import numpy as np\n",
    "\n",
    "# Data Visualizations\n",
    "import seaborn as sns\n",
    "import matplotlib.pyplot as plt\n",
    "%matplotlib inline"
   ]
  },
  {
   "cell_type": "markdown",
   "metadata": {},
   "source": [
    "### Import Data\n",
    "\n",
    "---"
   ]
  },
  {
   "cell_type": "code",
   "execution_count": 2,
   "metadata": {},
   "outputs": [],
   "source": [
    "data_path = 'D:/Data_Science_Project/1. Data Wrangling/Project 2 - Coursera Course Dataset/coursea_data.csv'"
   ]
  },
  {
   "cell_type": "markdown",
   "metadata": {},
   "source": [
    "## SECTION 2.1.  DATA UNDERSTANDING"
   ]
  },
  {
   "cell_type": "markdown",
   "metadata": {},
   "source": [
    "### _Collect initial data_\n",
    "\n",
    "---"
   ]
  },
  {
   "cell_type": "code",
   "execution_count": 3,
   "metadata": {},
   "outputs": [
    {
     "data": {
      "text/html": [
       "<div>\n",
       "<style scoped>\n",
       "    .dataframe tbody tr th:only-of-type {\n",
       "        vertical-align: middle;\n",
       "    }\n",
       "\n",
       "    .dataframe tbody tr th {\n",
       "        vertical-align: top;\n",
       "    }\n",
       "\n",
       "    .dataframe thead th {\n",
       "        text-align: right;\n",
       "    }\n",
       "</style>\n",
       "<table border=\"1\" class=\"dataframe\">\n",
       "  <thead>\n",
       "    <tr style=\"text-align: right;\">\n",
       "      <th></th>\n",
       "      <th>Unnamed: 0</th>\n",
       "      <th>course_title</th>\n",
       "      <th>course_organization</th>\n",
       "      <th>course_Certificate_type</th>\n",
       "      <th>course_rating</th>\n",
       "      <th>course_difficulty</th>\n",
       "      <th>course_students_enrolled</th>\n",
       "    </tr>\n",
       "  </thead>\n",
       "  <tbody>\n",
       "    <tr>\n",
       "      <th>0</th>\n",
       "      <td>134</td>\n",
       "      <td>(ISC)² Systems Security Certified Practitioner...</td>\n",
       "      <td>(ISC)²</td>\n",
       "      <td>SPECIALIZATION</td>\n",
       "      <td>4.7</td>\n",
       "      <td>Beginner</td>\n",
       "      <td>5.3k</td>\n",
       "    </tr>\n",
       "    <tr>\n",
       "      <th>1</th>\n",
       "      <td>743</td>\n",
       "      <td>A Crash Course in Causality:  Inferring Causal...</td>\n",
       "      <td>University of Pennsylvania</td>\n",
       "      <td>COURSE</td>\n",
       "      <td>4.7</td>\n",
       "      <td>Intermediate</td>\n",
       "      <td>17k</td>\n",
       "    </tr>\n",
       "    <tr>\n",
       "      <th>2</th>\n",
       "      <td>874</td>\n",
       "      <td>A Crash Course in Data Science</td>\n",
       "      <td>Johns Hopkins University</td>\n",
       "      <td>COURSE</td>\n",
       "      <td>4.5</td>\n",
       "      <td>Mixed</td>\n",
       "      <td>130k</td>\n",
       "    </tr>\n",
       "    <tr>\n",
       "      <th>3</th>\n",
       "      <td>413</td>\n",
       "      <td>A Law Student's Toolkit</td>\n",
       "      <td>Yale University</td>\n",
       "      <td>COURSE</td>\n",
       "      <td>4.7</td>\n",
       "      <td>Mixed</td>\n",
       "      <td>91k</td>\n",
       "    </tr>\n",
       "    <tr>\n",
       "      <th>4</th>\n",
       "      <td>635</td>\n",
       "      <td>A Life of Happiness and Fulfillment</td>\n",
       "      <td>Indian School of Business</td>\n",
       "      <td>COURSE</td>\n",
       "      <td>4.8</td>\n",
       "      <td>Mixed</td>\n",
       "      <td>320k</td>\n",
       "    </tr>\n",
       "  </tbody>\n",
       "</table>\n",
       "</div>"
      ],
      "text/plain": [
       "   Unnamed: 0                                       course_title  \\\n",
       "0         134  (ISC)² Systems Security Certified Practitioner...   \n",
       "1         743  A Crash Course in Causality:  Inferring Causal...   \n",
       "2         874                     A Crash Course in Data Science   \n",
       "3         413                            A Law Student's Toolkit   \n",
       "4         635                A Life of Happiness and Fulfillment   \n",
       "\n",
       "          course_organization course_Certificate_type  course_rating  \\\n",
       "0                      (ISC)²          SPECIALIZATION            4.7   \n",
       "1  University of Pennsylvania                  COURSE            4.7   \n",
       "2    Johns Hopkins University                  COURSE            4.5   \n",
       "3             Yale University                  COURSE            4.7   \n",
       "4   Indian School of Business                  COURSE            4.8   \n",
       "\n",
       "  course_difficulty course_students_enrolled  \n",
       "0          Beginner                     5.3k  \n",
       "1      Intermediate                      17k  \n",
       "2             Mixed                     130k  \n",
       "3             Mixed                      91k  \n",
       "4             Mixed                     320k  "
      ]
     },
     "execution_count": 3,
     "metadata": {},
     "output_type": "execute_result"
    }
   ],
   "source": [
    "# Загрузим набор данных для первичного визуального анализа \n",
    "df = data = pd.read_csv(data_path)\n",
    "data.head()"
   ]
  },
  {
   "cell_type": "code",
   "execution_count": 4,
   "metadata": {},
   "outputs": [
    {
     "data": {
      "text/html": [
       "<div>\n",
       "<style scoped>\n",
       "    .dataframe tbody tr th:only-of-type {\n",
       "        vertical-align: middle;\n",
       "    }\n",
       "\n",
       "    .dataframe tbody tr th {\n",
       "        vertical-align: top;\n",
       "    }\n",
       "\n",
       "    .dataframe thead th {\n",
       "        text-align: right;\n",
       "    }\n",
       "</style>\n",
       "<table border=\"1\" class=\"dataframe\">\n",
       "  <thead>\n",
       "    <tr style=\"text-align: right;\">\n",
       "      <th></th>\n",
       "      <th>Unnamed: 0</th>\n",
       "      <th>course_title</th>\n",
       "      <th>course_organization</th>\n",
       "      <th>course_Certificate_type</th>\n",
       "      <th>course_rating</th>\n",
       "      <th>course_difficulty</th>\n",
       "      <th>course_students_enrolled</th>\n",
       "    </tr>\n",
       "  </thead>\n",
       "  <tbody>\n",
       "    <tr>\n",
       "      <th>886</th>\n",
       "      <td>236</td>\n",
       "      <td>Программирование на Python</td>\n",
       "      <td>Mail.Ru Group</td>\n",
       "      <td>SPECIALIZATION</td>\n",
       "      <td>4.5</td>\n",
       "      <td>Intermediate</td>\n",
       "      <td>52k</td>\n",
       "    </tr>\n",
       "    <tr>\n",
       "      <th>887</th>\n",
       "      <td>883</td>\n",
       "      <td>Психолингвистика (Psycholinguistics)</td>\n",
       "      <td>Saint Petersburg State University</td>\n",
       "      <td>COURSE</td>\n",
       "      <td>4.8</td>\n",
       "      <td>Mixed</td>\n",
       "      <td>21k</td>\n",
       "    </tr>\n",
       "    <tr>\n",
       "      <th>888</th>\n",
       "      <td>545</td>\n",
       "      <td>Разработка интерфейсов: вёрстка и JavaScript</td>\n",
       "      <td>E-Learning Development Fund</td>\n",
       "      <td>SPECIALIZATION</td>\n",
       "      <td>4.5</td>\n",
       "      <td>Intermediate</td>\n",
       "      <td>30k</td>\n",
       "    </tr>\n",
       "    <tr>\n",
       "      <th>889</th>\n",
       "      <td>875</td>\n",
       "      <td>Русский как иностранный</td>\n",
       "      <td>Saint Petersburg State University</td>\n",
       "      <td>SPECIALIZATION</td>\n",
       "      <td>4.6</td>\n",
       "      <td>Intermediate</td>\n",
       "      <td>9.8k</td>\n",
       "    </tr>\n",
       "    <tr>\n",
       "      <th>890</th>\n",
       "      <td>163</td>\n",
       "      <td>Финансовые инструменты для частного инвестора</td>\n",
       "      <td>National Research University Higher School of ...</td>\n",
       "      <td>SPECIALIZATION</td>\n",
       "      <td>4.7</td>\n",
       "      <td>Beginner</td>\n",
       "      <td>38k</td>\n",
       "    </tr>\n",
       "  </tbody>\n",
       "</table>\n",
       "</div>"
      ],
      "text/plain": [
       "     Unnamed: 0                                   course_title  \\\n",
       "886         236                     Программирование на Python   \n",
       "887         883           Психолингвистика (Psycholinguistics)   \n",
       "888         545   Разработка интерфейсов: вёрстка и JavaScript   \n",
       "889         875                        Русский как иностранный   \n",
       "890         163  Финансовые инструменты для частного инвестора   \n",
       "\n",
       "                                   course_organization  \\\n",
       "886                                      Mail.Ru Group   \n",
       "887                  Saint Petersburg State University   \n",
       "888                        E-Learning Development Fund   \n",
       "889                  Saint Petersburg State University   \n",
       "890  National Research University Higher School of ...   \n",
       "\n",
       "    course_Certificate_type  course_rating course_difficulty  \\\n",
       "886          SPECIALIZATION            4.5      Intermediate   \n",
       "887                  COURSE            4.8             Mixed   \n",
       "888          SPECIALIZATION            4.5      Intermediate   \n",
       "889          SPECIALIZATION            4.6      Intermediate   \n",
       "890          SPECIALIZATION            4.7          Beginner   \n",
       "\n",
       "    course_students_enrolled  \n",
       "886                      52k  \n",
       "887                      21k  \n",
       "888                      30k  \n",
       "889                     9.8k  \n",
       "890                      38k  "
      ]
     },
     "execution_count": 4,
     "metadata": {},
     "output_type": "execute_result"
    }
   ],
   "source": [
    "data.tail()"
   ]
  },
  {
   "cell_type": "code",
   "execution_count": 5,
   "metadata": {},
   "outputs": [
    {
     "name": "stdout",
     "output_type": "stream",
     "text": [
      "Форма исходного набора данных:\n",
      "(891, 7)\n"
     ]
    }
   ],
   "source": [
    "# Форма исходного набора данных\n",
    "print(\"Форма исходного набора данных:\\n{}\".format(data.shape))"
   ]
  },
  {
   "cell_type": "code",
   "execution_count": 6,
   "metadata": {},
   "outputs": [
    {
     "data": {
      "text/plain": [
       "['Unnamed: 0',\n",
       " 'course_title',\n",
       " 'course_organization',\n",
       " 'course_Certificate_type',\n",
       " 'course_rating',\n",
       " 'course_difficulty',\n",
       " 'course_students_enrolled']"
      ]
     },
     "execution_count": 6,
     "metadata": {},
     "output_type": "execute_result"
    }
   ],
   "source": [
    "# Список столбцов\n",
    "data.columns.tolist()"
   ]
  },
  {
   "cell_type": "code",
   "execution_count": 7,
   "metadata": {},
   "outputs": [
    {
     "name": "stdout",
     "output_type": "stream",
     "text": [
      "<class 'pandas.core.frame.DataFrame'>\n",
      "RangeIndex: 891 entries, 0 to 890\n",
      "Data columns (total 7 columns):\n",
      " #   Column                    Non-Null Count  Dtype  \n",
      "---  ------                    --------------  -----  \n",
      " 0   Unnamed: 0                891 non-null    int64  \n",
      " 1   course_title              891 non-null    object \n",
      " 2   course_organization       891 non-null    object \n",
      " 3   course_Certificate_type   891 non-null    object \n",
      " 4   course_rating             891 non-null    float64\n",
      " 5   course_difficulty         891 non-null    object \n",
      " 6   course_students_enrolled  891 non-null    object \n",
      "dtypes: float64(1), int64(1), object(5)\n",
      "memory usage: 48.9+ KB\n"
     ]
    }
   ],
   "source": [
    "# Общая информация о наборе данных \n",
    "data.info()"
   ]
  },
  {
   "cell_type": "markdown",
   "metadata": {},
   "source": [
    "### _Describe data_\n",
    "\n",
    "---"
   ]
  },
  {
   "cell_type": "markdown",
   "metadata": {},
   "source": [
    "- Unnamed: 0 - ID\n",
    "- course_title - Название курса \n",
    "- course_organization - Организация разработчик \n",
    "- course_Certificate_type - Тип сертификата \n",
    "- course_rating - Рейтинг курса \n",
    "- course_difficulty - Сложность курса \n",
    "- course_students_enrolled - Колличество обучишихся студентов "
   ]
  },
  {
   "cell_type": "markdown",
   "metadata": {},
   "source": [
    "## SECTION 2.2 DATA PREPARATION"
   ]
  },
  {
   "cell_type": "markdown",
   "metadata": {},
   "source": [
    "### _Verify data quality_\n",
    "\n",
    "---"
   ]
  },
  {
   "cell_type": "code",
   "execution_count": 8,
   "metadata": {},
   "outputs": [],
   "source": [
    "# Функция коплексной оценки качества данных \n",
    "def verify_data_quality (evaluated_dataset):\n",
    "    # Проверка типов данных\n",
    "    print(\"Типы данных:\\n{}\\n\".format(evaluated_dataset.dtypes))\n",
    "    # Проверка наличия значений NaN\n",
    "    print(\"Пропущенные значения:\\n{}\\n\".format(evaluated_dataset.isnull().sum().sum()))\n",
    "    # Количество значений, отличных от NaN\n",
    "    print(\"Количество значений, отличных от NaN:\\n{}\\n\".format(evaluated_dataset.count().sum()))\n",
    "    # Поиск дублирующих строк \n",
    "    print(\"Дублирующих строк:\\n{}\\n\".format(evaluated_dataset.duplicated().sum()))\n",
    "    # Форма нарбора данных\n",
    "    print(\"Форма нарбора данных:\\n{}\\n\".format(evaluated_dataset.shape))\n",
    "    # Тип индекса набора данных\n",
    "    print(\"Тип индекса набора данных:\\n{}\\n\".format(evaluated_dataset.index))"
   ]
  },
  {
   "cell_type": "code",
   "execution_count": 9,
   "metadata": {},
   "outputs": [
    {
     "name": "stdout",
     "output_type": "stream",
     "text": [
      "Типы данных:\n",
      "Unnamed: 0                    int64\n",
      "course_title                 object\n",
      "course_organization          object\n",
      "course_Certificate_type      object\n",
      "course_rating               float64\n",
      "course_difficulty            object\n",
      "course_students_enrolled     object\n",
      "dtype: object\n",
      "\n",
      "Пропущенные значения:\n",
      "0\n",
      "\n",
      "Количество значений, отличных от NaN:\n",
      "6237\n",
      "\n",
      "Дублирующих строк:\n",
      "0\n",
      "\n",
      "Форма нарбора данных:\n",
      "(891, 7)\n",
      "\n",
      "Тип индекса набора данных:\n",
      "RangeIndex(start=0, stop=891, step=1)\n",
      "\n"
     ]
    }
   ],
   "source": [
    "# Оценка качетва данных\n",
    "verify_data_quality(data)"
   ]
  },
  {
   "cell_type": "markdown",
   "metadata": {},
   "source": [
    "### _Renaming_\n",
    "\n",
    "---"
   ]
  },
  {
   "cell_type": "code",
   "execution_count": 10,
   "metadata": {},
   "outputs": [
    {
     "data": {
      "text/html": [
       "<div>\n",
       "<style scoped>\n",
       "    .dataframe tbody tr th:only-of-type {\n",
       "        vertical-align: middle;\n",
       "    }\n",
       "\n",
       "    .dataframe tbody tr th {\n",
       "        vertical-align: top;\n",
       "    }\n",
       "\n",
       "    .dataframe thead th {\n",
       "        text-align: right;\n",
       "    }\n",
       "</style>\n",
       "<table border=\"1\" class=\"dataframe\">\n",
       "  <thead>\n",
       "    <tr style=\"text-align: right;\">\n",
       "      <th></th>\n",
       "      <th>id</th>\n",
       "      <th>course_title</th>\n",
       "      <th>course_organization</th>\n",
       "      <th>course_certificate_type</th>\n",
       "      <th>course_rating</th>\n",
       "      <th>course_difficulty</th>\n",
       "      <th>course_students_enrolled</th>\n",
       "    </tr>\n",
       "  </thead>\n",
       "  <tbody>\n",
       "    <tr>\n",
       "      <th>0</th>\n",
       "      <td>134</td>\n",
       "      <td>(ISC)² Systems Security Certified Practitioner...</td>\n",
       "      <td>(ISC)²</td>\n",
       "      <td>SPECIALIZATION</td>\n",
       "      <td>4.7</td>\n",
       "      <td>Beginner</td>\n",
       "      <td>5.3k</td>\n",
       "    </tr>\n",
       "    <tr>\n",
       "      <th>1</th>\n",
       "      <td>743</td>\n",
       "      <td>A Crash Course in Causality:  Inferring Causal...</td>\n",
       "      <td>University of Pennsylvania</td>\n",
       "      <td>COURSE</td>\n",
       "      <td>4.7</td>\n",
       "      <td>Intermediate</td>\n",
       "      <td>17k</td>\n",
       "    </tr>\n",
       "    <tr>\n",
       "      <th>2</th>\n",
       "      <td>874</td>\n",
       "      <td>A Crash Course in Data Science</td>\n",
       "      <td>Johns Hopkins University</td>\n",
       "      <td>COURSE</td>\n",
       "      <td>4.5</td>\n",
       "      <td>Mixed</td>\n",
       "      <td>130k</td>\n",
       "    </tr>\n",
       "    <tr>\n",
       "      <th>3</th>\n",
       "      <td>413</td>\n",
       "      <td>A Law Student's Toolkit</td>\n",
       "      <td>Yale University</td>\n",
       "      <td>COURSE</td>\n",
       "      <td>4.7</td>\n",
       "      <td>Mixed</td>\n",
       "      <td>91k</td>\n",
       "    </tr>\n",
       "    <tr>\n",
       "      <th>4</th>\n",
       "      <td>635</td>\n",
       "      <td>A Life of Happiness and Fulfillment</td>\n",
       "      <td>Indian School of Business</td>\n",
       "      <td>COURSE</td>\n",
       "      <td>4.8</td>\n",
       "      <td>Mixed</td>\n",
       "      <td>320k</td>\n",
       "    </tr>\n",
       "  </tbody>\n",
       "</table>\n",
       "</div>"
      ],
      "text/plain": [
       "    id                                       course_title  \\\n",
       "0  134  (ISC)² Systems Security Certified Practitioner...   \n",
       "1  743  A Crash Course in Causality:  Inferring Causal...   \n",
       "2  874                     A Crash Course in Data Science   \n",
       "3  413                            A Law Student's Toolkit   \n",
       "4  635                A Life of Happiness and Fulfillment   \n",
       "\n",
       "          course_organization course_certificate_type  course_rating  \\\n",
       "0                      (ISC)²          SPECIALIZATION            4.7   \n",
       "1  University of Pennsylvania                  COURSE            4.7   \n",
       "2    Johns Hopkins University                  COURSE            4.5   \n",
       "3             Yale University                  COURSE            4.7   \n",
       "4   Indian School of Business                  COURSE            4.8   \n",
       "\n",
       "  course_difficulty course_students_enrolled  \n",
       "0          Beginner                     5.3k  \n",
       "1      Intermediate                      17k  \n",
       "2             Mixed                     130k  \n",
       "3             Mixed                      91k  \n",
       "4             Mixed                     320k  "
      ]
     },
     "execution_count": 10,
     "metadata": {},
     "output_type": "execute_result"
    }
   ],
   "source": [
    "# Переимнование первой колонки \n",
    "data = data.rename(columns={'Unnamed: 0': 'id'})\n",
    "\n",
    "\n",
    "# Приведение имен переменных к принятой для анализа форме \n",
    "data.columns = [i.replace(' ', '_').lower() for i in data.columns]\n",
    "\n",
    "# Проверка результата \n",
    "data.head()"
   ]
  },
  {
   "cell_type": "markdown",
   "metadata": {},
   "source": [
    "### _Data type conversions_\n",
    "\n",
    "---"
   ]
  },
  {
   "cell_type": "markdown",
   "metadata": {},
   "source": [
    "Выполним анализ типов переменных"
   ]
  },
  {
   "cell_type": "code",
   "execution_count": 11,
   "metadata": {},
   "outputs": [
    {
     "data": {
      "text/plain": [
       "['id',\n",
       " 'course_title',\n",
       " 'course_organization',\n",
       " 'course_certificate_type',\n",
       " 'course_rating',\n",
       " 'course_difficulty',\n",
       " 'course_students_enrolled']"
      ]
     },
     "execution_count": 11,
     "metadata": {},
     "output_type": "execute_result"
    }
   ],
   "source": [
    "# Список столбцов\n",
    "data.columns.tolist()"
   ]
  },
  {
   "cell_type": "code",
   "execution_count": 12,
   "metadata": {},
   "outputs": [
    {
     "data": {
      "text/html": [
       "<div>\n",
       "<style scoped>\n",
       "    .dataframe tbody tr th:only-of-type {\n",
       "        vertical-align: middle;\n",
       "    }\n",
       "\n",
       "    .dataframe tbody tr th {\n",
       "        vertical-align: top;\n",
       "    }\n",
       "\n",
       "    .dataframe thead th {\n",
       "        text-align: right;\n",
       "    }\n",
       "</style>\n",
       "<table border=\"1\" class=\"dataframe\">\n",
       "  <thead>\n",
       "    <tr style=\"text-align: right;\">\n",
       "      <th></th>\n",
       "      <th>nunique</th>\n",
       "    </tr>\n",
       "  </thead>\n",
       "  <tbody>\n",
       "    <tr>\n",
       "      <th>id</th>\n",
       "      <td>891</td>\n",
       "    </tr>\n",
       "    <tr>\n",
       "      <th>course_title</th>\n",
       "      <td>888</td>\n",
       "    </tr>\n",
       "    <tr>\n",
       "      <th>course_organization</th>\n",
       "      <td>154</td>\n",
       "    </tr>\n",
       "    <tr>\n",
       "      <th>course_certificate_type</th>\n",
       "      <td>3</td>\n",
       "    </tr>\n",
       "    <tr>\n",
       "      <th>course_rating</th>\n",
       "      <td>14</td>\n",
       "    </tr>\n",
       "    <tr>\n",
       "      <th>course_difficulty</th>\n",
       "      <td>4</td>\n",
       "    </tr>\n",
       "    <tr>\n",
       "      <th>course_students_enrolled</th>\n",
       "      <td>205</td>\n",
       "    </tr>\n",
       "  </tbody>\n",
       "</table>\n",
       "</div>"
      ],
      "text/plain": [
       "                          nunique\n",
       "id                            891\n",
       "course_title                  888\n",
       "course_organization           154\n",
       "course_certificate_type         3\n",
       "course_rating                  14\n",
       "course_difficulty               4\n",
       "course_students_enrolled      205"
      ]
     },
     "execution_count": 12,
     "metadata": {},
     "output_type": "execute_result"
    }
   ],
   "source": [
    "# Общее колличество уникальных значений в наборе \n",
    "\n",
    "# data.apply(lambda x: len(x.unique())) # Способ 1\n",
    "\n",
    "data.agg(['nunique']).T # Способ 2"
   ]
  },
  {
   "cell_type": "markdown",
   "metadata": {},
   "source": [
    "#### course_certificate_type"
   ]
  },
  {
   "cell_type": "code",
   "execution_count": 13,
   "metadata": {},
   "outputs": [
    {
     "name": "stdout",
     "output_type": "stream",
     "text": [
      "Уникальные значения переменной:\n",
      "['COURSE' 'PROFESSIONAL CERTIFICATE' 'SPECIALIZATION']\n",
      "\n",
      "Колличество уникальных значений переменной:\n",
      "[582 297  12]\n"
     ]
    }
   ],
   "source": [
    "# Вывод уникальных значений переменной \n",
    "print(\"Уникальные значения переменной:\\n{}\\n\".format(data['course_certificate_type'].sort_values().unique()))\n",
    "print(\"Колличество уникальных значений переменной:\\n{}\".format(data['course_certificate_type'].value_counts().unique()))"
   ]
  },
  {
   "cell_type": "markdown",
   "metadata": {},
   "source": [
    "#### course_rating"
   ]
  },
  {
   "cell_type": "code",
   "execution_count": 14,
   "metadata": {},
   "outputs": [
    {
     "name": "stdout",
     "output_type": "stream",
     "text": [
      "Уникальные значения переменной:\n",
      "[3.3 3.7 3.9 4.  4.1 4.2 4.3 4.4 4.5 4.6 4.7 4.8 4.9 5. ]\n",
      "\n",
      "Колличество уникальных значений переменной:\n",
      "[256 251 168  80  68  34  15  10   2   1]\n"
     ]
    }
   ],
   "source": [
    "# Вывод уникальных значений переменной \n",
    "print(\"Уникальные значения переменной:\\n{}\\n\".format(data['course_rating'].sort_values().unique()))\n",
    "print(\"Колличество уникальных значений переменной:\\n{}\".format(data['course_rating'].value_counts().unique()))"
   ]
  },
  {
   "cell_type": "markdown",
   "metadata": {},
   "source": [
    "#### course_difficulty"
   ]
  },
  {
   "cell_type": "code",
   "execution_count": 15,
   "metadata": {},
   "outputs": [
    {
     "name": "stdout",
     "output_type": "stream",
     "text": [
      "Уникальные значения переменной:\n",
      "['Advanced' 'Beginner' 'Intermediate' 'Mixed']\n",
      "\n",
      "Колличество уникальных значений переменной:\n",
      "[487 198 187  19]\n"
     ]
    }
   ],
   "source": [
    "print(\"Уникальные значения переменной:\\n{}\\n\".format(data['course_difficulty'].sort_values().unique()))\n",
    "print(\"Колличество уникальных значений переменной:\\n{}\".format(data['course_difficulty'].value_counts().unique()))"
   ]
  },
  {
   "cell_type": "markdown",
   "metadata": {},
   "source": [
    "- id - **категориальная** порядковая \n",
    "- course_title - **категориальная** номинальная \n",
    "- course_organization - **категориальная** номинальная \n",
    "- course_certificate_type - **категориальная** номинальная \n",
    "- course_rating  - колличественная интервальная \n",
    "- course_difficulty  - **категориальная** номинальная \n",
    "- course_students_enrolled - колличественная переменная "
   ]
  },
  {
   "cell_type": "markdown",
   "metadata": {},
   "source": [
    "Сгруппируем в отдельные наборы категориальные и количественные переменные "
   ]
  },
  {
   "cell_type": "code",
   "execution_count": 16,
   "metadata": {},
   "outputs": [
    {
     "data": {
      "text/html": [
       "<div>\n",
       "<style scoped>\n",
       "    .dataframe tbody tr th:only-of-type {\n",
       "        vertical-align: middle;\n",
       "    }\n",
       "\n",
       "    .dataframe tbody tr th {\n",
       "        vertical-align: top;\n",
       "    }\n",
       "\n",
       "    .dataframe thead th {\n",
       "        text-align: right;\n",
       "    }\n",
       "</style>\n",
       "<table border=\"1\" class=\"dataframe\">\n",
       "  <thead>\n",
       "    <tr style=\"text-align: right;\">\n",
       "      <th></th>\n",
       "      <th>id</th>\n",
       "      <th>course_rating</th>\n",
       "      <th>course_students_enrolled</th>\n",
       "    </tr>\n",
       "  </thead>\n",
       "  <tbody>\n",
       "    <tr>\n",
       "      <th>0</th>\n",
       "      <td>134</td>\n",
       "      <td>4.7</td>\n",
       "      <td>5.3k</td>\n",
       "    </tr>\n",
       "    <tr>\n",
       "      <th>1</th>\n",
       "      <td>743</td>\n",
       "      <td>4.7</td>\n",
       "      <td>17k</td>\n",
       "    </tr>\n",
       "    <tr>\n",
       "      <th>2</th>\n",
       "      <td>874</td>\n",
       "      <td>4.5</td>\n",
       "      <td>130k</td>\n",
       "    </tr>\n",
       "    <tr>\n",
       "      <th>3</th>\n",
       "      <td>413</td>\n",
       "      <td>4.7</td>\n",
       "      <td>91k</td>\n",
       "    </tr>\n",
       "    <tr>\n",
       "      <th>4</th>\n",
       "      <td>635</td>\n",
       "      <td>4.8</td>\n",
       "      <td>320k</td>\n",
       "    </tr>\n",
       "  </tbody>\n",
       "</table>\n",
       "</div>"
      ],
      "text/plain": [
       "    id  course_rating course_students_enrolled\n",
       "0  134            4.7                     5.3k\n",
       "1  743            4.7                      17k\n",
       "2  874            4.5                     130k\n",
       "3  413            4.7                      91k\n",
       "4  635            4.8                     320k"
      ]
     },
     "execution_count": 16,
     "metadata": {},
     "output_type": "execute_result"
    }
   ],
   "source": [
    "# Колличественные переменные и id\n",
    "data_num = data[['id','course_rating','course_students_enrolled']]\n",
    "data_num.head()"
   ]
  },
  {
   "cell_type": "code",
   "execution_count": 17,
   "metadata": {},
   "outputs": [
    {
     "data": {
      "text/plain": [
       "id                            int64\n",
       "course_rating               float64\n",
       "course_students_enrolled     object\n",
       "dtype: object"
      ]
     },
     "execution_count": 17,
     "metadata": {},
     "output_type": "execute_result"
    }
   ],
   "source": [
    "# Анализ типов переменных\n",
    "data_num.dtypes"
   ]
  },
  {
   "cell_type": "code",
   "execution_count": 18,
   "metadata": {},
   "outputs": [
    {
     "name": "stderr",
     "output_type": "stream",
     "text": [
      "<ipython-input-18-b5d1695cedb7>:2: SettingWithCopyWarning: \n",
      "A value is trying to be set on a copy of a slice from a DataFrame.\n",
      "Try using .loc[row_indexer,col_indexer] = value instead\n",
      "\n",
      "See the caveats in the documentation: https://pandas.pydata.org/pandas-docs/stable/user_guide/indexing.html#returning-a-view-versus-a-copy\n",
      "  data_num['course_students_enrolled'] = data_num.loc[:,'course_students_enrolled'].replace({'k': '*1e3', 'm': '*1e6'}, regex=True).map(pd.eval).astype('int64')\n"
     ]
    }
   ],
   "source": [
    "# Замена обозначения k на 1000\n",
    "data_num['course_students_enrolled'] = data_num.loc[:,'course_students_enrolled'].replace({'k': '*1e3', 'm': '*1e6'}, regex=True).map(pd.eval).astype('int64')"
   ]
  },
  {
   "cell_type": "code",
   "execution_count": 19,
   "metadata": {},
   "outputs": [
    {
     "data": {
      "text/html": [
       "<div>\n",
       "<style scoped>\n",
       "    .dataframe tbody tr th:only-of-type {\n",
       "        vertical-align: middle;\n",
       "    }\n",
       "\n",
       "    .dataframe tbody tr th {\n",
       "        vertical-align: top;\n",
       "    }\n",
       "\n",
       "    .dataframe thead th {\n",
       "        text-align: right;\n",
       "    }\n",
       "</style>\n",
       "<table border=\"1\" class=\"dataframe\">\n",
       "  <thead>\n",
       "    <tr style=\"text-align: right;\">\n",
       "      <th></th>\n",
       "      <th>id</th>\n",
       "      <th>course_rating</th>\n",
       "      <th>course_students_enrolled</th>\n",
       "    </tr>\n",
       "  </thead>\n",
       "  <tbody>\n",
       "    <tr>\n",
       "      <th>0</th>\n",
       "      <td>134</td>\n",
       "      <td>4.7</td>\n",
       "      <td>5300</td>\n",
       "    </tr>\n",
       "    <tr>\n",
       "      <th>1</th>\n",
       "      <td>743</td>\n",
       "      <td>4.7</td>\n",
       "      <td>17000</td>\n",
       "    </tr>\n",
       "    <tr>\n",
       "      <th>2</th>\n",
       "      <td>874</td>\n",
       "      <td>4.5</td>\n",
       "      <td>130000</td>\n",
       "    </tr>\n",
       "    <tr>\n",
       "      <th>3</th>\n",
       "      <td>413</td>\n",
       "      <td>4.7</td>\n",
       "      <td>91000</td>\n",
       "    </tr>\n",
       "    <tr>\n",
       "      <th>4</th>\n",
       "      <td>635</td>\n",
       "      <td>4.8</td>\n",
       "      <td>320000</td>\n",
       "    </tr>\n",
       "  </tbody>\n",
       "</table>\n",
       "</div>"
      ],
      "text/plain": [
       "    id  course_rating  course_students_enrolled\n",
       "0  134            4.7                      5300\n",
       "1  743            4.7                     17000\n",
       "2  874            4.5                    130000\n",
       "3  413            4.7                     91000\n",
       "4  635            4.8                    320000"
      ]
     },
     "execution_count": 19,
     "metadata": {},
     "output_type": "execute_result"
    }
   ],
   "source": [
    "# Проверка результата \n",
    "data_num.head()"
   ]
  },
  {
   "cell_type": "code",
   "execution_count": 20,
   "metadata": {},
   "outputs": [
    {
     "data": {
      "text/plain": [
       "id                            int64\n",
       "course_rating               float64\n",
       "course_students_enrolled      int64\n",
       "dtype: object"
      ]
     },
     "execution_count": 20,
     "metadata": {},
     "output_type": "execute_result"
    }
   ],
   "source": [
    "# Анализ типов переменных\n",
    "data_num.dtypes"
   ]
  },
  {
   "cell_type": "code",
   "execution_count": 21,
   "metadata": {},
   "outputs": [
    {
     "data": {
      "text/html": [
       "<div>\n",
       "<style scoped>\n",
       "    .dataframe tbody tr th:only-of-type {\n",
       "        vertical-align: middle;\n",
       "    }\n",
       "\n",
       "    .dataframe tbody tr th {\n",
       "        vertical-align: top;\n",
       "    }\n",
       "\n",
       "    .dataframe thead th {\n",
       "        text-align: right;\n",
       "    }\n",
       "</style>\n",
       "<table border=\"1\" class=\"dataframe\">\n",
       "  <thead>\n",
       "    <tr style=\"text-align: right;\">\n",
       "      <th></th>\n",
       "      <th>course_title</th>\n",
       "      <th>course_organization</th>\n",
       "      <th>course_certificate_type</th>\n",
       "      <th>course_difficulty</th>\n",
       "    </tr>\n",
       "  </thead>\n",
       "  <tbody>\n",
       "    <tr>\n",
       "      <th>0</th>\n",
       "      <td>(ISC)² Systems Security Certified Practitioner...</td>\n",
       "      <td>(ISC)²</td>\n",
       "      <td>SPECIALIZATION</td>\n",
       "      <td>Beginner</td>\n",
       "    </tr>\n",
       "    <tr>\n",
       "      <th>1</th>\n",
       "      <td>A Crash Course in Causality:  Inferring Causal...</td>\n",
       "      <td>University of Pennsylvania</td>\n",
       "      <td>COURSE</td>\n",
       "      <td>Intermediate</td>\n",
       "    </tr>\n",
       "    <tr>\n",
       "      <th>2</th>\n",
       "      <td>A Crash Course in Data Science</td>\n",
       "      <td>Johns Hopkins University</td>\n",
       "      <td>COURSE</td>\n",
       "      <td>Mixed</td>\n",
       "    </tr>\n",
       "    <tr>\n",
       "      <th>3</th>\n",
       "      <td>A Law Student's Toolkit</td>\n",
       "      <td>Yale University</td>\n",
       "      <td>COURSE</td>\n",
       "      <td>Mixed</td>\n",
       "    </tr>\n",
       "    <tr>\n",
       "      <th>4</th>\n",
       "      <td>A Life of Happiness and Fulfillment</td>\n",
       "      <td>Indian School of Business</td>\n",
       "      <td>COURSE</td>\n",
       "      <td>Mixed</td>\n",
       "    </tr>\n",
       "  </tbody>\n",
       "</table>\n",
       "</div>"
      ],
      "text/plain": [
       "                                        course_title  \\\n",
       "0  (ISC)² Systems Security Certified Practitioner...   \n",
       "1  A Crash Course in Causality:  Inferring Causal...   \n",
       "2                     A Crash Course in Data Science   \n",
       "3                            A Law Student's Toolkit   \n",
       "4                A Life of Happiness and Fulfillment   \n",
       "\n",
       "          course_organization course_certificate_type course_difficulty  \n",
       "0                      (ISC)²          SPECIALIZATION          Beginner  \n",
       "1  University of Pennsylvania                  COURSE      Intermediate  \n",
       "2    Johns Hopkins University                  COURSE             Mixed  \n",
       "3             Yale University                  COURSE             Mixed  \n",
       "4   Indian School of Business                  COURSE             Mixed  "
      ]
     },
     "execution_count": 21,
     "metadata": {},
     "output_type": "execute_result"
    }
   ],
   "source": [
    "# Категориальные пермеременные за исключением id \n",
    "data_cat = data[['course_title','course_organization','course_certificate_type','course_difficulty']]\n",
    "data_cat.head()"
   ]
  },
  {
   "cell_type": "code",
   "execution_count": 22,
   "metadata": {},
   "outputs": [
    {
     "data": {
      "text/plain": [
       "course_title               object\n",
       "course_organization        object\n",
       "course_certificate_type    object\n",
       "course_difficulty          object\n",
       "dtype: object"
      ]
     },
     "execution_count": 22,
     "metadata": {},
     "output_type": "execute_result"
    }
   ],
   "source": [
    "# Анализ типов переменных\n",
    "data_cat.dtypes"
   ]
  },
  {
   "cell_type": "code",
   "execution_count": 23,
   "metadata": {},
   "outputs": [],
   "source": [
    "# Приведение к типу данных category\n",
    "data_cat = data_cat.astype('category')"
   ]
  },
  {
   "cell_type": "code",
   "execution_count": 24,
   "metadata": {},
   "outputs": [
    {
     "name": "stdout",
     "output_type": "stream",
     "text": [
      "<class 'pandas.core.frame.DataFrame'>\n",
      "RangeIndex: 891 entries, 0 to 890\n",
      "Data columns (total 4 columns):\n",
      " #   Column                   Non-Null Count  Dtype   \n",
      "---  ------                   --------------  -----   \n",
      " 0   course_title             891 non-null    category\n",
      " 1   course_organization      891 non-null    category\n",
      " 2   course_certificate_type  891 non-null    category\n",
      " 3   course_difficulty        891 non-null    category\n",
      "dtypes: category(4)\n",
      "memory usage: 58.8 KB\n"
     ]
    }
   ],
   "source": [
    "# Проверка результата \n",
    "data_cat.info()"
   ]
  },
  {
   "cell_type": "markdown",
   "metadata": {},
   "source": [
    "### _Sorting, reordering, reindexing_\n",
    "\n",
    "---"
   ]
  },
  {
   "cell_type": "code",
   "execution_count": 25,
   "metadata": {},
   "outputs": [
    {
     "data": {
      "text/html": [
       "<div>\n",
       "<style scoped>\n",
       "    .dataframe tbody tr th:only-of-type {\n",
       "        vertical-align: middle;\n",
       "    }\n",
       "\n",
       "    .dataframe tbody tr th {\n",
       "        vertical-align: top;\n",
       "    }\n",
       "\n",
       "    .dataframe thead th {\n",
       "        text-align: right;\n",
       "    }\n",
       "</style>\n",
       "<table border=\"1\" class=\"dataframe\">\n",
       "  <thead>\n",
       "    <tr style=\"text-align: right;\">\n",
       "      <th></th>\n",
       "      <th>course_title</th>\n",
       "      <th>course_organization</th>\n",
       "      <th>course_certificate_type</th>\n",
       "      <th>course_rating</th>\n",
       "      <th>course_difficulty</th>\n",
       "      <th>course_students_enrolled</th>\n",
       "    </tr>\n",
       "    <tr>\n",
       "      <th>id</th>\n",
       "      <th></th>\n",
       "      <th></th>\n",
       "      <th></th>\n",
       "      <th></th>\n",
       "      <th></th>\n",
       "      <th></th>\n",
       "    </tr>\n",
       "  </thead>\n",
       "  <tbody>\n",
       "    <tr>\n",
       "      <th>0</th>\n",
       "      <td>IBM Data Science</td>\n",
       "      <td>IBM</td>\n",
       "      <td>PROFESSIONAL CERTIFICATE</td>\n",
       "      <td>4.6</td>\n",
       "      <td>Beginner</td>\n",
       "      <td>480000</td>\n",
       "    </tr>\n",
       "    <tr>\n",
       "      <th>1</th>\n",
       "      <td>Introduction to Data Science</td>\n",
       "      <td>IBM</td>\n",
       "      <td>SPECIALIZATION</td>\n",
       "      <td>4.6</td>\n",
       "      <td>Beginner</td>\n",
       "      <td>310000</td>\n",
       "    </tr>\n",
       "    <tr>\n",
       "      <th>2</th>\n",
       "      <td>The Science of Well-Being</td>\n",
       "      <td>Yale University</td>\n",
       "      <td>COURSE</td>\n",
       "      <td>4.9</td>\n",
       "      <td>Mixed</td>\n",
       "      <td>2500000</td>\n",
       "    </tr>\n",
       "    <tr>\n",
       "      <th>3</th>\n",
       "      <td>Python for Everybody</td>\n",
       "      <td>University of Michigan</td>\n",
       "      <td>SPECIALIZATION</td>\n",
       "      <td>4.8</td>\n",
       "      <td>Beginner</td>\n",
       "      <td>1500000</td>\n",
       "    </tr>\n",
       "    <tr>\n",
       "      <th>4</th>\n",
       "      <td>Google IT Support</td>\n",
       "      <td>Google</td>\n",
       "      <td>PROFESSIONAL CERTIFICATE</td>\n",
       "      <td>4.8</td>\n",
       "      <td>Beginner</td>\n",
       "      <td>350000</td>\n",
       "    </tr>\n",
       "  </tbody>\n",
       "</table>\n",
       "</div>"
      ],
      "text/plain": [
       "                    course_title     course_organization  \\\n",
       "id                                                         \n",
       "0               IBM Data Science                     IBM   \n",
       "1   Introduction to Data Science                     IBM   \n",
       "2      The Science of Well-Being         Yale University   \n",
       "3           Python for Everybody  University of Michigan   \n",
       "4              Google IT Support                  Google   \n",
       "\n",
       "     course_certificate_type  course_rating course_difficulty  \\\n",
       "id                                                              \n",
       "0   PROFESSIONAL CERTIFICATE            4.6          Beginner   \n",
       "1             SPECIALIZATION            4.6          Beginner   \n",
       "2                     COURSE            4.9             Mixed   \n",
       "3             SPECIALIZATION            4.8          Beginner   \n",
       "4   PROFESSIONAL CERTIFICATE            4.8          Beginner   \n",
       "\n",
       "    course_students_enrolled  \n",
       "id                            \n",
       "0                     480000  \n",
       "1                     310000  \n",
       "2                    2500000  \n",
       "3                    1500000  \n",
       "4                     350000  "
      ]
     },
     "execution_count": 25,
     "metadata": {},
     "output_type": "execute_result"
    }
   ],
   "source": [
    "# Объеденим категориальный и колличественный наборы\n",
    "data =  pd.concat([data_num, data_cat], axis=1)\n",
    "\n",
    "# Переупорядочим переменные к первоначальному виду\n",
    "data = data[['id',\n",
    " 'course_title',\n",
    " 'course_organization',\n",
    " 'course_certificate_type',\n",
    " 'course_rating',\n",
    " 'course_difficulty',\n",
    " 'course_students_enrolled']]\n",
    "\n",
    "# Установим id как индекс \n",
    "data = data.set_index(['id'])\n",
    "\n",
    "# Упорядочем данные по номеру id\n",
    "data = data.sort_index()\n",
    "\n",
    "# Проверим результат \n",
    "data.head()"
   ]
  },
  {
   "cell_type": "code",
   "execution_count": 26,
   "metadata": {},
   "outputs": [],
   "source": [
    "# Сохраниение результатов \n",
    "data.to_csv('wrangling_coursea_data.csv', sep=',', index=True, encoding='utf-8')"
   ]
  },
  {
   "cell_type": "markdown",
   "metadata": {},
   "source": [
    "### _Conclusions_\n",
    "\n",
    "---"
   ]
  },
  {
   "cell_type": "markdown",
   "metadata": {},
   "source": [
    "Целью данного проекта являлась первичная оценка качества данных и их подготовка, и переформатирование для дальнейшего анализа. \n",
    "В проекте выполнено: \n",
    "- первичный анализ и оценка качества данных\n",
    "- установлено, что пропущенных и дублирующих значений нет\n",
    "- названия переменных приведены к принятому виду\n",
    "- переменная Unnamed: 0 переименована в id \n",
    "- выполнен анализ переменных по типу \n",
    "- категориальные переменные закодированы как category \n",
    "- количественные переведены в цифровые значения и имеют советующие типы данных\n",
    "- результаты проекта сохранены в отдельный файл wrangling_coursea_data\n"
   ]
  }
 ],
 "metadata": {
  "kernelspec": {
   "display_name": "Python 3",
   "language": "python",
   "name": "python3"
  },
  "language_info": {
   "codemirror_mode": {
    "name": "ipython",
    "version": 3
   },
   "file_extension": ".py",
   "mimetype": "text/x-python",
   "name": "python",
   "nbconvert_exporter": "python",
   "pygments_lexer": "ipython3",
   "version": "3.8.3"
  }
 },
 "nbformat": 4,
 "nbformat_minor": 4
}

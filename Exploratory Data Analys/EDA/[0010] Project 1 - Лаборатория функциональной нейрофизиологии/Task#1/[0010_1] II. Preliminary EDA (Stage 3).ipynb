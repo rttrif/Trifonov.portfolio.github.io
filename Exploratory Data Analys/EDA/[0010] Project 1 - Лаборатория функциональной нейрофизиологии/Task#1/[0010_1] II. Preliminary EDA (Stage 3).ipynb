{
 "cells": [
  {
   "cell_type": "markdown",
   "metadata": {},
   "source": [
    "#### Project Type: Тестовое задане на вакансию Data Scientist в Лабораторию функциональной нейрофизиологии\n",
    "### Project Number: 0010\n",
    "## Project Title: Тест на скорочтение\n",
    "\n",
    "---"
   ]
  },
  {
   "cell_type": "markdown",
   "metadata": {},
   "source": [
    "# **STAGE 3. PRELIMINARY EXPLORATORY DATA ANALYSIS**"
   ]
  },
  {
   "cell_type": "markdown",
   "metadata": {},
   "source": [
    "### Import Libraries\n",
    "\n",
    "---"
   ]
  },
  {
   "cell_type": "code",
   "execution_count": 1,
   "metadata": {},
   "outputs": [],
   "source": [
    "# Data manipulation\n",
    "import pandas as pd\n",
    "import numpy as np\n",
    "\n",
    "# Data Visualizations\n",
    "import seaborn as sns\n",
    "import matplotlib.pyplot as plt\n",
    "%matplotlib inline\n",
    "plt.style.use('seaborn') \n",
    "\n",
    "# Statistics\n",
    "from scipy import stats"
   ]
  },
  {
   "cell_type": "markdown",
   "metadata": {},
   "source": [
    "### Import Data\n",
    "\n",
    "---"
   ]
  },
  {
   "cell_type": "code",
   "execution_count": 2,
   "metadata": {},
   "outputs": [],
   "source": [
    "data_path = r'D:/Data_Science_Project/7. Test task/[0010] Project 1 - Лаборатория функциональной нейрофизиологии/Task#1'"
   ]
  },
  {
   "cell_type": "code",
   "execution_count": 3,
   "metadata": {},
   "outputs": [
    {
     "data": {
      "text/html": [
       "<div>\n",
       "<style scoped>\n",
       "    .dataframe tbody tr th:only-of-type {\n",
       "        vertical-align: middle;\n",
       "    }\n",
       "\n",
       "    .dataframe tbody tr th {\n",
       "        vertical-align: top;\n",
       "    }\n",
       "\n",
       "    .dataframe thead th {\n",
       "        text-align: right;\n",
       "    }\n",
       "</style>\n",
       "<table border=\"1\" class=\"dataframe\">\n",
       "  <thead>\n",
       "    <tr style=\"text-align: right;\">\n",
       "      <th></th>\n",
       "      <th>task1_y1</th>\n",
       "      <th>task2_y1</th>\n",
       "      <th>task3_y1</th>\n",
       "      <th>task4_y1</th>\n",
       "      <th>task5_y1</th>\n",
       "      <th>task6_y2</th>\n",
       "      <th>task7_y2</th>\n",
       "      <th>task8_y2</th>\n",
       "      <th>task9_y2</th>\n",
       "      <th>task10_y2</th>\n",
       "    </tr>\n",
       "    <tr>\n",
       "      <th>group</th>\n",
       "      <th></th>\n",
       "      <th></th>\n",
       "      <th></th>\n",
       "      <th></th>\n",
       "      <th></th>\n",
       "      <th></th>\n",
       "      <th></th>\n",
       "      <th></th>\n",
       "      <th></th>\n",
       "      <th></th>\n",
       "    </tr>\n",
       "  </thead>\n",
       "  <tbody>\n",
       "    <tr>\n",
       "      <th>A</th>\n",
       "      <td>4</td>\n",
       "      <td>2</td>\n",
       "      <td>4</td>\n",
       "      <td>4</td>\n",
       "      <td>2</td>\n",
       "      <td>3</td>\n",
       "      <td>1</td>\n",
       "      <td>1</td>\n",
       "      <td>3</td>\n",
       "      <td>2</td>\n",
       "    </tr>\n",
       "    <tr>\n",
       "      <th>B</th>\n",
       "      <td>5</td>\n",
       "      <td>4</td>\n",
       "      <td>5</td>\n",
       "      <td>3</td>\n",
       "      <td>2</td>\n",
       "      <td>4</td>\n",
       "      <td>2</td>\n",
       "      <td>1</td>\n",
       "      <td>2</td>\n",
       "      <td>2</td>\n",
       "    </tr>\n",
       "    <tr>\n",
       "      <th>C</th>\n",
       "      <td>5</td>\n",
       "      <td>3</td>\n",
       "      <td>3</td>\n",
       "      <td>2</td>\n",
       "      <td>1</td>\n",
       "      <td>5</td>\n",
       "      <td>4</td>\n",
       "      <td>1</td>\n",
       "      <td>3</td>\n",
       "      <td>3</td>\n",
       "    </tr>\n",
       "    <tr>\n",
       "      <th>D</th>\n",
       "      <td>5</td>\n",
       "      <td>4</td>\n",
       "      <td>4</td>\n",
       "      <td>2</td>\n",
       "      <td>4</td>\n",
       "      <td>5</td>\n",
       "      <td>4</td>\n",
       "      <td>2</td>\n",
       "      <td>3</td>\n",
       "      <td>2</td>\n",
       "    </tr>\n",
       "    <tr>\n",
       "      <th>E</th>\n",
       "      <td>5</td>\n",
       "      <td>5</td>\n",
       "      <td>4</td>\n",
       "      <td>3</td>\n",
       "      <td>3</td>\n",
       "      <td>5</td>\n",
       "      <td>3</td>\n",
       "      <td>2</td>\n",
       "      <td>1</td>\n",
       "      <td>1</td>\n",
       "    </tr>\n",
       "    <tr>\n",
       "      <th>F</th>\n",
       "      <td>5</td>\n",
       "      <td>3</td>\n",
       "      <td>4</td>\n",
       "      <td>1</td>\n",
       "      <td>1</td>\n",
       "      <td>4</td>\n",
       "      <td>5</td>\n",
       "      <td>2</td>\n",
       "      <td>3</td>\n",
       "      <td>2</td>\n",
       "    </tr>\n",
       "    <tr>\n",
       "      <th>G</th>\n",
       "      <td>5</td>\n",
       "      <td>2</td>\n",
       "      <td>4</td>\n",
       "      <td>3</td>\n",
       "      <td>3</td>\n",
       "      <td>3</td>\n",
       "      <td>3</td>\n",
       "      <td>0</td>\n",
       "      <td>4</td>\n",
       "      <td>3</td>\n",
       "    </tr>\n",
       "    <tr>\n",
       "      <th>H</th>\n",
       "      <td>5</td>\n",
       "      <td>4</td>\n",
       "      <td>4</td>\n",
       "      <td>3</td>\n",
       "      <td>2</td>\n",
       "      <td>4</td>\n",
       "      <td>2</td>\n",
       "      <td>2</td>\n",
       "      <td>3</td>\n",
       "      <td>3</td>\n",
       "    </tr>\n",
       "    <tr>\n",
       "      <th>I</th>\n",
       "      <td>5</td>\n",
       "      <td>2</td>\n",
       "      <td>2</td>\n",
       "      <td>2</td>\n",
       "      <td>2</td>\n",
       "      <td>4</td>\n",
       "      <td>3</td>\n",
       "      <td>3</td>\n",
       "      <td>4</td>\n",
       "      <td>3</td>\n",
       "    </tr>\n",
       "    <tr>\n",
       "      <th>J</th>\n",
       "      <td>5</td>\n",
       "      <td>3</td>\n",
       "      <td>2</td>\n",
       "      <td>4</td>\n",
       "      <td>2</td>\n",
       "      <td>3</td>\n",
       "      <td>4</td>\n",
       "      <td>4</td>\n",
       "      <td>3</td>\n",
       "      <td>2</td>\n",
       "    </tr>\n",
       "  </tbody>\n",
       "</table>\n",
       "</div>"
      ],
      "text/plain": [
       "       task1_y1  task2_y1  task3_y1  task4_y1  task5_y1  task6_y2  task7_y2  \\\n",
       "group                                                                         \n",
       "A             4         2         4         4         2         3         1   \n",
       "B             5         4         5         3         2         4         2   \n",
       "C             5         3         3         2         1         5         4   \n",
       "D             5         4         4         2         4         5         4   \n",
       "E             5         5         4         3         3         5         3   \n",
       "F             5         3         4         1         1         4         5   \n",
       "G             5         2         4         3         3         3         3   \n",
       "H             5         4         4         3         2         4         2   \n",
       "I             5         2         2         2         2         4         3   \n",
       "J             5         3         2         4         2         3         4   \n",
       "\n",
       "       task8_y2  task9_y2  task10_y2  \n",
       "group                                 \n",
       "A             1         3          2  \n",
       "B             1         2          2  \n",
       "C             1         3          3  \n",
       "D             2         3          2  \n",
       "E             2         1          1  \n",
       "F             2         3          2  \n",
       "G             0         4          3  \n",
       "H             2         3          3  \n",
       "I             3         4          3  \n",
       "J             4         3          2  "
      ]
     },
     "execution_count": 3,
     "metadata": {},
     "output_type": "execute_result"
    }
   ],
   "source": [
    "# Загрузка исходного набора данных:  Данные по обучению\n",
    "# Перменная teaching_data = Данные по обучению\n",
    "teaching_data = pd.read_feather(data_path + '/teaching_data.file').set_index(['group'])\n",
    "teaching_data"
   ]
  },
  {
   "cell_type": "code",
   "execution_count": 4,
   "metadata": {},
   "outputs": [
    {
     "data": {
      "text/html": [
       "<div>\n",
       "<style scoped>\n",
       "    .dataframe tbody tr th:only-of-type {\n",
       "        vertical-align: middle;\n",
       "    }\n",
       "\n",
       "    .dataframe tbody tr th {\n",
       "        vertical-align: top;\n",
       "    }\n",
       "\n",
       "    .dataframe thead th {\n",
       "        text-align: right;\n",
       "    }\n",
       "</style>\n",
       "<table border=\"1\" class=\"dataframe\">\n",
       "  <thead>\n",
       "    <tr style=\"text-align: right;\">\n",
       "      <th></th>\n",
       "      <th>task11_y3</th>\n",
       "      <th>task12_y3</th>\n",
       "      <th>task13_y3</th>\n",
       "      <th>task14_y3</th>\n",
       "      <th>task15_y3</th>\n",
       "      <th>task16_y4</th>\n",
       "      <th>task17_y4</th>\n",
       "      <th>task18_y4</th>\n",
       "      <th>task19_y4</th>\n",
       "      <th>task20_y4</th>\n",
       "    </tr>\n",
       "    <tr>\n",
       "      <th>group</th>\n",
       "      <th></th>\n",
       "      <th></th>\n",
       "      <th></th>\n",
       "      <th></th>\n",
       "      <th></th>\n",
       "      <th></th>\n",
       "      <th></th>\n",
       "      <th></th>\n",
       "      <th></th>\n",
       "      <th></th>\n",
       "    </tr>\n",
       "  </thead>\n",
       "  <tbody>\n",
       "    <tr>\n",
       "      <th>I</th>\n",
       "      <td>5</td>\n",
       "      <td>5</td>\n",
       "      <td>5</td>\n",
       "      <td>3</td>\n",
       "      <td>5</td>\n",
       "      <td>3</td>\n",
       "      <td>3</td>\n",
       "      <td>5</td>\n",
       "      <td>4</td>\n",
       "      <td>3</td>\n",
       "    </tr>\n",
       "    <tr>\n",
       "      <th>J</th>\n",
       "      <td>5</td>\n",
       "      <td>4</td>\n",
       "      <td>5</td>\n",
       "      <td>4</td>\n",
       "      <td>3</td>\n",
       "      <td>4</td>\n",
       "      <td>5</td>\n",
       "      <td>4</td>\n",
       "      <td>3</td>\n",
       "      <td>3</td>\n",
       "    </tr>\n",
       "    <tr>\n",
       "      <th>K</th>\n",
       "      <td>4</td>\n",
       "      <td>3</td>\n",
       "      <td>5</td>\n",
       "      <td>5</td>\n",
       "      <td>5</td>\n",
       "      <td>5</td>\n",
       "      <td>4</td>\n",
       "      <td>3</td>\n",
       "      <td>4</td>\n",
       "      <td>2</td>\n",
       "    </tr>\n",
       "    <tr>\n",
       "      <th>L</th>\n",
       "      <td>5</td>\n",
       "      <td>3</td>\n",
       "      <td>4</td>\n",
       "      <td>4</td>\n",
       "      <td>4</td>\n",
       "      <td>5</td>\n",
       "      <td>4</td>\n",
       "      <td>2</td>\n",
       "      <td>4</td>\n",
       "      <td>2</td>\n",
       "    </tr>\n",
       "    <tr>\n",
       "      <th>M</th>\n",
       "      <td>5</td>\n",
       "      <td>3</td>\n",
       "      <td>5</td>\n",
       "      <td>5</td>\n",
       "      <td>5</td>\n",
       "      <td>4</td>\n",
       "      <td>4</td>\n",
       "      <td>3</td>\n",
       "      <td>3</td>\n",
       "      <td>5</td>\n",
       "    </tr>\n",
       "    <tr>\n",
       "      <th>N</th>\n",
       "      <td>5</td>\n",
       "      <td>4</td>\n",
       "      <td>5</td>\n",
       "      <td>3</td>\n",
       "      <td>5</td>\n",
       "      <td>5</td>\n",
       "      <td>5</td>\n",
       "      <td>1</td>\n",
       "      <td>4</td>\n",
       "      <td>4</td>\n",
       "    </tr>\n",
       "    <tr>\n",
       "      <th>O</th>\n",
       "      <td>5</td>\n",
       "      <td>4</td>\n",
       "      <td>3</td>\n",
       "      <td>3</td>\n",
       "      <td>4</td>\n",
       "      <td>4</td>\n",
       "      <td>2</td>\n",
       "      <td>2</td>\n",
       "      <td>4</td>\n",
       "      <td>4</td>\n",
       "    </tr>\n",
       "    <tr>\n",
       "      <th>P</th>\n",
       "      <td>5</td>\n",
       "      <td>5</td>\n",
       "      <td>4</td>\n",
       "      <td>5</td>\n",
       "      <td>5</td>\n",
       "      <td>4</td>\n",
       "      <td>5</td>\n",
       "      <td>4</td>\n",
       "      <td>3</td>\n",
       "      <td>3</td>\n",
       "    </tr>\n",
       "  </tbody>\n",
       "</table>\n",
       "</div>"
      ],
      "text/plain": [
       "       task11_y3  task12_y3  task13_y3  task14_y3  task15_y3  task16_y4  \\\n",
       "group                                                                     \n",
       "I              5          5          5          3          5          3   \n",
       "J              5          4          5          4          3          4   \n",
       "K              4          3          5          5          5          5   \n",
       "L              5          3          4          4          4          5   \n",
       "M              5          3          5          5          5          4   \n",
       "N              5          4          5          3          5          5   \n",
       "O              5          4          3          3          4          4   \n",
       "P              5          5          4          5          5          4   \n",
       "\n",
       "       task17_y4  task18_y4  task19_y4  task20_y4  \n",
       "group                                              \n",
       "I              3          5          4          3  \n",
       "J              5          4          3          3  \n",
       "K              4          3          4          2  \n",
       "L              4          2          4          2  \n",
       "M              4          3          3          5  \n",
       "N              5          1          4          4  \n",
       "O              2          2          4          4  \n",
       "P              5          4          3          3  "
      ]
     },
     "execution_count": 4,
     "metadata": {},
     "output_type": "execute_result"
    }
   ],
   "source": [
    "# Загрузка исходного набора данных:  Данные по сложности\n",
    "# Перменная complexity_data = Данные по сложности\n",
    "complexity_data = pd.read_feather(data_path + '/complexity_data.file').set_index(['group'])\n",
    "complexity_data"
   ]
  },
  {
   "cell_type": "markdown",
   "metadata": {},
   "source": [
    "\n",
    "## SECTION 3.1 RESEARCH"
   ]
  },
  {
   "cell_type": "markdown",
   "metadata": {},
   "source": [
    "### _Descriptive Statistics_\n",
    "\n",
    "---"
   ]
  },
  {
   "cell_type": "code",
   "execution_count": 5,
   "metadata": {},
   "outputs": [
    {
     "data": {
      "text/html": [
       "<div>\n",
       "<style scoped>\n",
       "    .dataframe tbody tr th:only-of-type {\n",
       "        vertical-align: middle;\n",
       "    }\n",
       "\n",
       "    .dataframe tbody tr th {\n",
       "        vertical-align: top;\n",
       "    }\n",
       "\n",
       "    .dataframe thead th {\n",
       "        text-align: right;\n",
       "    }\n",
       "</style>\n",
       "<table border=\"1\" class=\"dataframe\">\n",
       "  <thead>\n",
       "    <tr style=\"text-align: right;\">\n",
       "      <th></th>\n",
       "      <th>task1_y1</th>\n",
       "      <th>task2_y1</th>\n",
       "      <th>task3_y1</th>\n",
       "      <th>task4_y1</th>\n",
       "      <th>task5_y1</th>\n",
       "      <th>task6_y2</th>\n",
       "      <th>task7_y2</th>\n",
       "      <th>task8_y2</th>\n",
       "      <th>task9_y2</th>\n",
       "      <th>task10_y2</th>\n",
       "    </tr>\n",
       "  </thead>\n",
       "  <tbody>\n",
       "    <tr>\n",
       "      <th>count</th>\n",
       "      <td>10.000000</td>\n",
       "      <td>10.000000</td>\n",
       "      <td>10.000000</td>\n",
       "      <td>10.000000</td>\n",
       "      <td>10.000000</td>\n",
       "      <td>10.000000</td>\n",
       "      <td>10.000000</td>\n",
       "      <td>10.000000</td>\n",
       "      <td>10.000000</td>\n",
       "      <td>10.000000</td>\n",
       "    </tr>\n",
       "    <tr>\n",
       "      <th>mean</th>\n",
       "      <td>4.900000</td>\n",
       "      <td>3.200000</td>\n",
       "      <td>3.600000</td>\n",
       "      <td>2.700000</td>\n",
       "      <td>2.200000</td>\n",
       "      <td>4.000000</td>\n",
       "      <td>3.100000</td>\n",
       "      <td>1.800000</td>\n",
       "      <td>2.900000</td>\n",
       "      <td>2.300000</td>\n",
       "    </tr>\n",
       "    <tr>\n",
       "      <th>std</th>\n",
       "      <td>0.316228</td>\n",
       "      <td>1.032796</td>\n",
       "      <td>0.966092</td>\n",
       "      <td>0.948683</td>\n",
       "      <td>0.918937</td>\n",
       "      <td>0.816497</td>\n",
       "      <td>1.197219</td>\n",
       "      <td>1.135292</td>\n",
       "      <td>0.875595</td>\n",
       "      <td>0.674949</td>\n",
       "    </tr>\n",
       "    <tr>\n",
       "      <th>min</th>\n",
       "      <td>4.000000</td>\n",
       "      <td>2.000000</td>\n",
       "      <td>2.000000</td>\n",
       "      <td>1.000000</td>\n",
       "      <td>1.000000</td>\n",
       "      <td>3.000000</td>\n",
       "      <td>1.000000</td>\n",
       "      <td>0.000000</td>\n",
       "      <td>1.000000</td>\n",
       "      <td>1.000000</td>\n",
       "    </tr>\n",
       "    <tr>\n",
       "      <th>25%</th>\n",
       "      <td>5.000000</td>\n",
       "      <td>2.250000</td>\n",
       "      <td>3.250000</td>\n",
       "      <td>2.000000</td>\n",
       "      <td>2.000000</td>\n",
       "      <td>3.250000</td>\n",
       "      <td>2.250000</td>\n",
       "      <td>1.000000</td>\n",
       "      <td>3.000000</td>\n",
       "      <td>2.000000</td>\n",
       "    </tr>\n",
       "    <tr>\n",
       "      <th>50%</th>\n",
       "      <td>5.000000</td>\n",
       "      <td>3.000000</td>\n",
       "      <td>4.000000</td>\n",
       "      <td>3.000000</td>\n",
       "      <td>2.000000</td>\n",
       "      <td>4.000000</td>\n",
       "      <td>3.000000</td>\n",
       "      <td>2.000000</td>\n",
       "      <td>3.000000</td>\n",
       "      <td>2.000000</td>\n",
       "    </tr>\n",
       "    <tr>\n",
       "      <th>75%</th>\n",
       "      <td>5.000000</td>\n",
       "      <td>4.000000</td>\n",
       "      <td>4.000000</td>\n",
       "      <td>3.000000</td>\n",
       "      <td>2.750000</td>\n",
       "      <td>4.750000</td>\n",
       "      <td>4.000000</td>\n",
       "      <td>2.000000</td>\n",
       "      <td>3.000000</td>\n",
       "      <td>3.000000</td>\n",
       "    </tr>\n",
       "    <tr>\n",
       "      <th>max</th>\n",
       "      <td>5.000000</td>\n",
       "      <td>5.000000</td>\n",
       "      <td>5.000000</td>\n",
       "      <td>4.000000</td>\n",
       "      <td>4.000000</td>\n",
       "      <td>5.000000</td>\n",
       "      <td>5.000000</td>\n",
       "      <td>4.000000</td>\n",
       "      <td>4.000000</td>\n",
       "      <td>3.000000</td>\n",
       "    </tr>\n",
       "  </tbody>\n",
       "</table>\n",
       "</div>"
      ],
      "text/plain": [
       "        task1_y1   task2_y1   task3_y1   task4_y1   task5_y1   task6_y2  \\\n",
       "count  10.000000  10.000000  10.000000  10.000000  10.000000  10.000000   \n",
       "mean    4.900000   3.200000   3.600000   2.700000   2.200000   4.000000   \n",
       "std     0.316228   1.032796   0.966092   0.948683   0.918937   0.816497   \n",
       "min     4.000000   2.000000   2.000000   1.000000   1.000000   3.000000   \n",
       "25%     5.000000   2.250000   3.250000   2.000000   2.000000   3.250000   \n",
       "50%     5.000000   3.000000   4.000000   3.000000   2.000000   4.000000   \n",
       "75%     5.000000   4.000000   4.000000   3.000000   2.750000   4.750000   \n",
       "max     5.000000   5.000000   5.000000   4.000000   4.000000   5.000000   \n",
       "\n",
       "        task7_y2   task8_y2   task9_y2  task10_y2  \n",
       "count  10.000000  10.000000  10.000000  10.000000  \n",
       "mean    3.100000   1.800000   2.900000   2.300000  \n",
       "std     1.197219   1.135292   0.875595   0.674949  \n",
       "min     1.000000   0.000000   1.000000   1.000000  \n",
       "25%     2.250000   1.000000   3.000000   2.000000  \n",
       "50%     3.000000   2.000000   3.000000   2.000000  \n",
       "75%     4.000000   2.000000   3.000000   3.000000  \n",
       "max     5.000000   4.000000   4.000000   3.000000  "
      ]
     },
     "execution_count": 5,
     "metadata": {},
     "output_type": "execute_result"
    }
   ],
   "source": [
    "# Описательные статистики по обучению\n",
    "teaching_data.describe()"
   ]
  },
  {
   "cell_type": "code",
   "execution_count": 6,
   "metadata": {},
   "outputs": [
    {
     "data": {
      "text/html": [
       "<div>\n",
       "<style scoped>\n",
       "    .dataframe tbody tr th:only-of-type {\n",
       "        vertical-align: middle;\n",
       "    }\n",
       "\n",
       "    .dataframe tbody tr th {\n",
       "        vertical-align: top;\n",
       "    }\n",
       "\n",
       "    .dataframe thead th {\n",
       "        text-align: right;\n",
       "    }\n",
       "</style>\n",
       "<table border=\"1\" class=\"dataframe\">\n",
       "  <thead>\n",
       "    <tr style=\"text-align: right;\">\n",
       "      <th></th>\n",
       "      <th>task11_y3</th>\n",
       "      <th>task12_y3</th>\n",
       "      <th>task13_y3</th>\n",
       "      <th>task14_y3</th>\n",
       "      <th>task15_y3</th>\n",
       "      <th>task16_y4</th>\n",
       "      <th>task17_y4</th>\n",
       "      <th>task18_y4</th>\n",
       "      <th>task19_y4</th>\n",
       "      <th>task20_y4</th>\n",
       "    </tr>\n",
       "  </thead>\n",
       "  <tbody>\n",
       "    <tr>\n",
       "      <th>count</th>\n",
       "      <td>8.000000</td>\n",
       "      <td>8.000000</td>\n",
       "      <td>8.000000</td>\n",
       "      <td>8.00000</td>\n",
       "      <td>8.000000</td>\n",
       "      <td>8.000000</td>\n",
       "      <td>8.000000</td>\n",
       "      <td>8.000000</td>\n",
       "      <td>8.000000</td>\n",
       "      <td>8.000000</td>\n",
       "    </tr>\n",
       "    <tr>\n",
       "      <th>mean</th>\n",
       "      <td>4.875000</td>\n",
       "      <td>3.875000</td>\n",
       "      <td>4.500000</td>\n",
       "      <td>4.00000</td>\n",
       "      <td>4.500000</td>\n",
       "      <td>4.250000</td>\n",
       "      <td>4.000000</td>\n",
       "      <td>3.000000</td>\n",
       "      <td>3.625000</td>\n",
       "      <td>3.250000</td>\n",
       "    </tr>\n",
       "    <tr>\n",
       "      <th>std</th>\n",
       "      <td>0.353553</td>\n",
       "      <td>0.834523</td>\n",
       "      <td>0.755929</td>\n",
       "      <td>0.92582</td>\n",
       "      <td>0.755929</td>\n",
       "      <td>0.707107</td>\n",
       "      <td>1.069045</td>\n",
       "      <td>1.309307</td>\n",
       "      <td>0.517549</td>\n",
       "      <td>1.035098</td>\n",
       "    </tr>\n",
       "    <tr>\n",
       "      <th>min</th>\n",
       "      <td>4.000000</td>\n",
       "      <td>3.000000</td>\n",
       "      <td>3.000000</td>\n",
       "      <td>3.00000</td>\n",
       "      <td>3.000000</td>\n",
       "      <td>3.000000</td>\n",
       "      <td>2.000000</td>\n",
       "      <td>1.000000</td>\n",
       "      <td>3.000000</td>\n",
       "      <td>2.000000</td>\n",
       "    </tr>\n",
       "    <tr>\n",
       "      <th>25%</th>\n",
       "      <td>5.000000</td>\n",
       "      <td>3.000000</td>\n",
       "      <td>4.000000</td>\n",
       "      <td>3.00000</td>\n",
       "      <td>4.000000</td>\n",
       "      <td>4.000000</td>\n",
       "      <td>3.750000</td>\n",
       "      <td>2.000000</td>\n",
       "      <td>3.000000</td>\n",
       "      <td>2.750000</td>\n",
       "    </tr>\n",
       "    <tr>\n",
       "      <th>50%</th>\n",
       "      <td>5.000000</td>\n",
       "      <td>4.000000</td>\n",
       "      <td>5.000000</td>\n",
       "      <td>4.00000</td>\n",
       "      <td>5.000000</td>\n",
       "      <td>4.000000</td>\n",
       "      <td>4.000000</td>\n",
       "      <td>3.000000</td>\n",
       "      <td>4.000000</td>\n",
       "      <td>3.000000</td>\n",
       "    </tr>\n",
       "    <tr>\n",
       "      <th>75%</th>\n",
       "      <td>5.000000</td>\n",
       "      <td>4.250000</td>\n",
       "      <td>5.000000</td>\n",
       "      <td>5.00000</td>\n",
       "      <td>5.000000</td>\n",
       "      <td>5.000000</td>\n",
       "      <td>5.000000</td>\n",
       "      <td>4.000000</td>\n",
       "      <td>4.000000</td>\n",
       "      <td>4.000000</td>\n",
       "    </tr>\n",
       "    <tr>\n",
       "      <th>max</th>\n",
       "      <td>5.000000</td>\n",
       "      <td>5.000000</td>\n",
       "      <td>5.000000</td>\n",
       "      <td>5.00000</td>\n",
       "      <td>5.000000</td>\n",
       "      <td>5.000000</td>\n",
       "      <td>5.000000</td>\n",
       "      <td>5.000000</td>\n",
       "      <td>4.000000</td>\n",
       "      <td>5.000000</td>\n",
       "    </tr>\n",
       "  </tbody>\n",
       "</table>\n",
       "</div>"
      ],
      "text/plain": [
       "       task11_y3  task12_y3  task13_y3  task14_y3  task15_y3  task16_y4  \\\n",
       "count   8.000000   8.000000   8.000000    8.00000   8.000000   8.000000   \n",
       "mean    4.875000   3.875000   4.500000    4.00000   4.500000   4.250000   \n",
       "std     0.353553   0.834523   0.755929    0.92582   0.755929   0.707107   \n",
       "min     4.000000   3.000000   3.000000    3.00000   3.000000   3.000000   \n",
       "25%     5.000000   3.000000   4.000000    3.00000   4.000000   4.000000   \n",
       "50%     5.000000   4.000000   5.000000    4.00000   5.000000   4.000000   \n",
       "75%     5.000000   4.250000   5.000000    5.00000   5.000000   5.000000   \n",
       "max     5.000000   5.000000   5.000000    5.00000   5.000000   5.000000   \n",
       "\n",
       "       task17_y4  task18_y4  task19_y4  task20_y4  \n",
       "count   8.000000   8.000000   8.000000   8.000000  \n",
       "mean    4.000000   3.000000   3.625000   3.250000  \n",
       "std     1.069045   1.309307   0.517549   1.035098  \n",
       "min     2.000000   1.000000   3.000000   2.000000  \n",
       "25%     3.750000   2.000000   3.000000   2.750000  \n",
       "50%     4.000000   3.000000   4.000000   3.000000  \n",
       "75%     5.000000   4.000000   4.000000   4.000000  \n",
       "max     5.000000   5.000000   4.000000   5.000000  "
      ]
     },
     "execution_count": 6,
     "metadata": {},
     "output_type": "execute_result"
    }
   ],
   "source": [
    "# Описательные статистики по сложности\n",
    "complexity_data.describe()"
   ]
  },
  {
   "cell_type": "markdown",
   "metadata": {},
   "source": [
    "### _Distribution of data_\n",
    "\n",
    "---"
   ]
  },
  {
   "cell_type": "code",
   "execution_count": 7,
   "metadata": {},
   "outputs": [
    {
     "data": {
      "image/png": "[encoded data removed]",
      "text/plain": [
       "<Figure size 1080x1080 with 12 Axes>"
      ]
     },
     "metadata": {},
     "output_type": "display_data"
    }
   ],
   "source": [
    "# Распределение данных по по обучению\n",
    "teaching_data.hist(bins=10, figsize=(15,15))\n",
    "plt.show()"
   ]
  },
  {
   "cell_type": "code",
   "execution_count": 8,
   "metadata": {},
   "outputs": [
    {
     "data": {
      "image/png": "[encoded data removed]",
      "text/plain": [
       "<Figure size 1080x1080 with 12 Axes>"
      ]
     },
     "metadata": {},
     "output_type": "display_data"
    }
   ],
   "source": [
    "# Распределение данных по по сложности\n",
    "complexity_data.hist(bins=8, figsize=(15,15))\n",
    "plt.show()"
   ]
  },
  {
   "cell_type": "markdown",
   "metadata": {},
   "source": [
    "### _Outliers detection_\n",
    "\n",
    "---"
   ]
  },
  {
   "cell_type": "code",
   "execution_count": 9,
   "metadata": {},
   "outputs": [
    {
     "data": {
      "image/png": "[encoded data removed]",
      "text/plain": [
       "<Figure size 576x396 with 1 Axes>"
      ]
     },
     "metadata": {},
     "output_type": "display_data"
    }
   ],
   "source": [
    "# Распределение данных по по обучению\n",
    "teaching_data.boxplot()\n",
    "plt.show()"
   ]
  },
  {
   "cell_type": "code",
   "execution_count": 10,
   "metadata": {},
   "outputs": [
    {
     "data": {
      "image/png": "[encoded data removed]",
      "text/plain": [
       "<Figure size 576x396 with 1 Axes>"
      ]
     },
     "metadata": {},
     "output_type": "display_data"
    }
   ],
   "source": [
    "# Распределение данных по сложности\n",
    "complexity_data.boxplot()\n",
    "plt.show()"
   ]
  },
  {
   "cell_type": "markdown",
   "metadata": {},
   "source": [
    "# _Questions and tasks_\n",
    "\n",
    "---"
   ]
  },
  {
   "cell_type": "markdown",
   "metadata": {},
   "source": [
    "#### Описание эксперемента\n",
    "\n",
    "- Оценка влияния специального обучения на то, как человек воспринимает текст на слух в ускоренном режиме. \n",
    "\n",
    "- Оценка качества восприятия человеком информации основывалась на тесте, в котором необходимо было ответить на вопросы по прослушанному тексту. \n",
    "\n",
    "- Каждое задание состояло из пяти вопросов и, соответственно, человек мог набрать от нуля до пяти баллов за каждое задание.\n",
    "\n",
    "1. В предположении Y1 = Y2, влияет ли обучение на качество восприятия информации?\n",
    "1. В предположении Y3 < Y4, влияет ли сложность задания на качество восприятия информации?\n",
    "1. Допустим, что по итогам анализа процедуры проведения теста выяснилось, что Y1 = Y3, Y2 = Y4, Y1 < Y2. Как можно (и можно ли вообще) использовать результаты второй группы (I-P) для корректировки результатов первой группы (A-J)? Обосновать метод корректировки и провести переоценку результатов первого теста. "
   ]
  },
  {
   "cell_type": "code",
   "execution_count": 11,
   "metadata": {},
   "outputs": [
    {
     "data": {
      "text/plain": [
       "['task11_y3',\n",
       " 'task12_y3',\n",
       " 'task13_y3',\n",
       " 'task14_y3',\n",
       " 'task15_y3',\n",
       " 'task16_y4',\n",
       " 'task17_y4',\n",
       " 'task18_y4',\n",
       " 'task19_y4',\n",
       " 'task20_y4']"
      ]
     },
     "execution_count": 11,
     "metadata": {},
     "output_type": "execute_result"
    }
   ],
   "source": [
    "complexity_data.columns.tolist()"
   ]
  },
  {
   "cell_type": "code",
   "execution_count": 12,
   "metadata": {},
   "outputs": [],
   "source": [
    "Y1 = teaching_data[['task1_y1','task2_y1','task3_y1','task4_y1','task5_y1']]\n",
    "\n",
    "Y2 = teaching_data[['task6_y2','task7_y2','task8_y2','task9_y2','task10_y2']]\n",
    "\n",
    "Y3 = complexity_data[['task11_y3','task12_y3','task13_y3','task14_y3','task15_y3']]\n",
    "\n",
    "Y4 = complexity_data[['task16_y4','task17_y4','task18_y4','task19_y4','task20_y4']]"
   ]
  },
  {
   "cell_type": "code",
   "execution_count": 13,
   "metadata": {},
   "outputs": [
    {
     "data": {
      "text/plain": [
       "<AxesSubplot:ylabel='Density'>"
      ]
     },
     "execution_count": 13,
     "metadata": {},
     "output_type": "execute_result"
    },
    {
     "data": {
      "image/png": "[encoded data removed]",
      "text/plain": [
       "<Figure size 720x720 with 4 Axes>"
      ]
     },
     "metadata": {},
     "output_type": "display_data"
    }
   ],
   "source": [
    "fig, ax = plt.subplots(2,2, figsize=(10, 10))\n",
    "plt.suptitle(\"Распределение наблюдений\", fontsize=18)\n",
    "\n",
    "sns.histplot(data=Y1, bins=5, stat='density', ax=ax[0, 0])\n",
    "sns.histplot(data=Y2, bins=5, stat='density', ax=ax[0, 1])\n",
    "sns.histplot(data=Y3, bins=5, stat='density', ax=ax[1, 0])\n",
    "sns.histplot(data=Y4, bins=5, stat='density', ax=ax[1, 1])"
   ]
  },
  {
   "cell_type": "markdown",
   "metadata": {},
   "source": [
    "#### Задача 1. "
   ]
  },
  {
   "cell_type": "markdown",
   "metadata": {},
   "source": [
    "- **Вопрос:** Влияет ли обучение на качество восприятия информации?\n",
    "- **Пердположение:** Сложности Y1 = Y2\n",
    "- $H_0$: Обучение влияет на качество воспринимаемой информации \n",
    "- $H_1$: Обучение не влияет на качество воспринимаемой информации \n",
    "- **Критерий:** Критерий Стьюдента (t-test)\n",
    "- **Уровень значимости:** $\\normalsize \\alpha$: 0.05\n",
    "- **Критическая область:** двухсторонняя\n",
    "\n",
    "Так как эксперимент проводился  на одних и тех же людях, поэтому выборки связные в связи с чем используем критерий ```ttest_rel```"
   ]
  },
  {
   "cell_type": "code",
   "execution_count": 14,
   "metadata": {},
   "outputs": [
    {
     "data": {
      "text/plain": [
       "array([4, 2, 4, 4, 2, 5, 4, 5, 3, 2, 5, 3, 3, 2, 1, 5, 4, 4, 2, 4, 5, 5,\n",
       "       4, 3, 3, 5, 3, 4, 1, 1, 5, 2, 4, 3, 3, 5, 4, 4, 3, 2, 5, 2, 2, 2,\n",
       "       2, 5, 3, 2, 4, 2], dtype=int64)"
      ]
     },
     "execution_count": 14,
     "metadata": {},
     "output_type": "execute_result"
    }
   ],
   "source": [
    "# Подготовка выборки для сложности Y1\n",
    "# Переменная Y1_s = выборка Y1\n",
    "Y1_s = Y1.to_numpy().flatten()\n",
    "\n",
    "# Проверка результата\n",
    "Y1_s"
   ]
  },
  {
   "cell_type": "code",
   "execution_count": 15,
   "metadata": {},
   "outputs": [
    {
     "data": {
      "text/plain": [
       "array([3, 1, 1, 3, 2, 4, 2, 1, 2, 2, 5, 4, 1, 3, 3, 5, 4, 2, 3, 2, 5, 3,\n",
       "       2, 1, 1, 4, 5, 2, 3, 2, 3, 3, 0, 4, 3, 4, 2, 2, 3, 3, 4, 3, 3, 4,\n",
       "       3, 3, 4, 4, 3, 2], dtype=int64)"
      ]
     },
     "execution_count": 15,
     "metadata": {},
     "output_type": "execute_result"
    }
   ],
   "source": [
    "# Подготовка выборки для сложности Y2\n",
    "# Переменная Y2_s = выборка Y2\n",
    "Y2_s = Y2.to_numpy().flatten()\n",
    "# Проверка результата\n",
    "Y2_s"
   ]
  },
  {
   "cell_type": "code",
   "execution_count": 16,
   "metadata": {},
   "outputs": [
    {
     "name": "stdout",
     "output_type": "stream",
     "text": [
      "p-value = 0.0287\n"
     ]
    }
   ],
   "source": [
    "# Проверка гипотезы \n",
    "print('p-value = %.4f' %  stats.ttest_rel(Y1_s, Y2_s)[1])"
   ]
  },
  {
   "cell_type": "markdown",
   "metadata": {},
   "source": [
    "##### Вывод\n",
    "Значение p-value больше уровня значимости, значит нулевая гипотеза не отвергнута и **обучение влияет на качество воспринимаемой информации** в предположении равной сложности заданий до и после обучения (Y1 = Y2)."
   ]
  },
  {
   "cell_type": "markdown",
   "metadata": {},
   "source": [
    "#### Задача 2. "
   ]
  },
  {
   "cell_type": "markdown",
   "metadata": {},
   "source": [
    "- **Вопрос:** Влияет ли сложность задания на качество восприятия информации?\n",
    "- **Предположение:** Сложности Y3 < Y4\n",
    "- $H_0$: Сложность задания влияет на качество восприятия информации \n",
    "- $H_1$: Сложность задания не влияет на качество восприятия информации\n",
    "- **Критерий:** Критерий Стьюдента (t-test)\n",
    "- **Уровень значимости:** $\\normalsize \\alpha$: 0.05\n",
    "- **Критическая область:** двухсторонняя\n",
    "\n",
    "Так как эксперимент проводился  на одних и тех же людях, поэтому выборки связные в связи с чем используем критерий ```ttest_rel```"
   ]
  },
  {
   "cell_type": "code",
   "execution_count": 17,
   "metadata": {},
   "outputs": [
    {
     "data": {
      "text/plain": [
       "array([5, 5, 5, 3, 5, 5, 4, 5, 4, 3, 4, 3, 5, 5, 5, 5, 3, 4, 4, 4, 5, 3,\n",
       "       5, 5, 5, 5, 4, 5, 3, 5, 5, 4, 3, 3, 4, 5, 5, 4, 5, 5], dtype=int64)"
      ]
     },
     "execution_count": 17,
     "metadata": {},
     "output_type": "execute_result"
    }
   ],
   "source": [
    "# Подготовка выборки для сложности Y3\n",
    "# Переменная Y3_s = выборка Y3\n",
    "Y3_s = Y3.to_numpy().flatten()\n",
    "\n",
    "# Проверка результата\n",
    "Y3_s"
   ]
  },
  {
   "cell_type": "code",
   "execution_count": 18,
   "metadata": {},
   "outputs": [
    {
     "data": {
      "text/plain": [
       "array([3, 3, 5, 4, 3, 4, 5, 4, 3, 3, 5, 4, 3, 4, 2, 5, 4, 2, 4, 2, 4, 4,\n",
       "       3, 3, 5, 5, 5, 1, 4, 4, 4, 2, 2, 4, 4, 4, 5, 4, 3, 3], dtype=int64)"
      ]
     },
     "execution_count": 18,
     "metadata": {},
     "output_type": "execute_result"
    }
   ],
   "source": [
    "# Подготовка выборки для сложности Y4\n",
    "# Переменная Y4_s = выборка Y4\n",
    "Y4_s = Y4.to_numpy().flatten()\n",
    "\n",
    "# Проверка результата\n",
    "Y4_s"
   ]
  },
  {
   "cell_type": "code",
   "execution_count": 19,
   "metadata": {},
   "outputs": [
    {
     "name": "stdout",
     "output_type": "stream",
     "text": [
      "p-value = 0.0011\n"
     ]
    }
   ],
   "source": [
    "# Проверка гипотезы \n",
    "print('p-value = %.4f' %  stats.ttest_rel(Y3_s, Y4_s)[1])"
   ]
  },
  {
   "cell_type": "markdown",
   "metadata": {},
   "source": [
    "##### Вывод\n",
    "\n",
    "Значение p-value меньше уровня значимости, значит нулевая гипотеза отвергнута в пользу альтернативной гипотезы и **сложность задания не влияет на качество воспринятия информации** в предположении, что уровень сложности Y3 < Y."
   ]
  },
  {
   "cell_type": "markdown",
   "metadata": {},
   "source": [
    "#### Задача 3. \n",
    "\n",
    "Допустим, что по итогам анализа процедуры проведения теста выяснилось, что Y1 = Y3, Y2 = Y4, Y1 < Y2. Как можно (и можно ли вообще) использовать результаты второй группы (I-P) для корректировки результатов первой группы (A-J)? Обосновать метод корректировки и провести переоценку результатов первого теста.\n",
    "\n",
    "\n",
    "- **Вопросы:** \n",
    "    - Как можно (и можно ли вообще) использовать результаты второй группы (I-P) для корректировки результатов первой группы (A-J)?\n",
    "    - Обосновать метод корректировки и провести переоценку результатов первого теста.\n",
    "- **Предположение:** Y1 = Y3, Y2 = Y4, Y1 < Y2\n",
    "\n",
    "- **Корректировка:** Выборки A-J и I-P объединяет характеристика сложность задания Y. По условию предположения Y1 = Y3, Y2 = Y4, а Y1 < Y2, значит мы можем их объединить по этим параметрам  и оценить как качество информации обозначенное уровнем сложности (Y1 < Y2) влияет ее восприятие. При этом нам необходимо воспользоваться другим видом t-критерия т.к. до этого мы использовали критерий ```ttest_rel``` для связанных выборок, а сейчас из-за объединения выборки получаются несвязанными и необходим критерий  ```ttest_ind```   \n",
    "- $H_0$: Обучение и сложность задания влияет на качество воспринимаемой информации \n",
    "- $H_1$: Обучение и сложность задания не влияет на качество воспринимаемой информации \n",
    "- **Критерий:** Критерий Стьюдента (t-test)\n",
    "- **Уровень значимости:** $\\normalsize \\alpha$: 0.05\n",
    "- **Критическая область:** двухсторонняя\n",
    "\n",
    "\n"
   ]
  },
  {
   "cell_type": "code",
   "execution_count": 20,
   "metadata": {},
   "outputs": [
    {
     "name": "stdout",
     "output_type": "stream",
     "text": [
      "['task1_y1', 'task2_y1', 'task3_y1', 'task4_y1', 'task5_y1']\n",
      "\n",
      "['task11_y3', 'task12_y3', 'task13_y3', 'task14_y3', 'task15_y3']\n"
     ]
    }
   ],
   "source": [
    "# Список переменных\n",
    "print(Y1.columns.tolist())\n",
    "print()\n",
    "print(Y3.columns.tolist())"
   ]
  },
  {
   "cell_type": "code",
   "execution_count": 21,
   "metadata": {},
   "outputs": [
    {
     "data": {
      "text/plain": [
       "['task1_y1', 'task2_y1', 'task3_y1', 'task4_y1', 'task5_y1']"
      ]
     },
     "execution_count": 21,
     "metadata": {},
     "output_type": "execute_result"
    }
   ],
   "source": [
    "# Cловарь переменных\n",
    "list_of_variables = {'task11_y3':'task1_y1',\n",
    "                     'task12_y3':'task2_y1',\n",
    "                     'task13_y3':'task3_y1',\n",
    "                     'task14_y3':'task4_y1',\n",
    "                     'task15_y3':'task5_y1'} \n",
    "\n",
    "# Переобозначим переменные\n",
    "Y3 = Y3.rename(columns = list_of_variables)\n",
    "\n",
    "# Проверка результата\n",
    "Y3.columns.tolist()"
   ]
  },
  {
   "cell_type": "code",
   "execution_count": 22,
   "metadata": {},
   "outputs": [
    {
     "data": {
      "text/html": [
       "<div>\n",
       "<style scoped>\n",
       "    .dataframe tbody tr th:only-of-type {\n",
       "        vertical-align: middle;\n",
       "    }\n",
       "\n",
       "    .dataframe tbody tr th {\n",
       "        vertical-align: top;\n",
       "    }\n",
       "\n",
       "    .dataframe thead th {\n",
       "        text-align: right;\n",
       "    }\n",
       "</style>\n",
       "<table border=\"1\" class=\"dataframe\">\n",
       "  <thead>\n",
       "    <tr style=\"text-align: right;\">\n",
       "      <th></th>\n",
       "      <th>task1_y1</th>\n",
       "      <th>task2_y1</th>\n",
       "      <th>task3_y1</th>\n",
       "      <th>task4_y1</th>\n",
       "      <th>task5_y1</th>\n",
       "    </tr>\n",
       "    <tr>\n",
       "      <th>group</th>\n",
       "      <th></th>\n",
       "      <th></th>\n",
       "      <th></th>\n",
       "      <th></th>\n",
       "      <th></th>\n",
       "    </tr>\n",
       "  </thead>\n",
       "  <tbody>\n",
       "    <tr>\n",
       "      <th>A</th>\n",
       "      <td>4</td>\n",
       "      <td>2</td>\n",
       "      <td>4</td>\n",
       "      <td>4</td>\n",
       "      <td>2</td>\n",
       "    </tr>\n",
       "    <tr>\n",
       "      <th>B</th>\n",
       "      <td>5</td>\n",
       "      <td>4</td>\n",
       "      <td>5</td>\n",
       "      <td>3</td>\n",
       "      <td>2</td>\n",
       "    </tr>\n",
       "    <tr>\n",
       "      <th>C</th>\n",
       "      <td>5</td>\n",
       "      <td>3</td>\n",
       "      <td>3</td>\n",
       "      <td>2</td>\n",
       "      <td>1</td>\n",
       "    </tr>\n",
       "    <tr>\n",
       "      <th>D</th>\n",
       "      <td>5</td>\n",
       "      <td>4</td>\n",
       "      <td>4</td>\n",
       "      <td>2</td>\n",
       "      <td>4</td>\n",
       "    </tr>\n",
       "    <tr>\n",
       "      <th>E</th>\n",
       "      <td>5</td>\n",
       "      <td>5</td>\n",
       "      <td>4</td>\n",
       "      <td>3</td>\n",
       "      <td>3</td>\n",
       "    </tr>\n",
       "  </tbody>\n",
       "</table>\n",
       "</div>"
      ],
      "text/plain": [
       "       task1_y1  task2_y1  task3_y1  task4_y1  task5_y1\n",
       "group                                                  \n",
       "A             4         2         4         4         2\n",
       "B             5         4         5         3         2\n",
       "C             5         3         3         2         1\n",
       "D             5         4         4         2         4\n",
       "E             5         5         4         3         3"
      ]
     },
     "execution_count": 22,
     "metadata": {},
     "output_type": "execute_result"
    }
   ],
   "source": [
    "# Объединение выборок Y1 и Y3\n",
    "Y1_3 =  pd.concat([Y1, Y3])\n",
    "\n",
    "# Проверка результата\n",
    "Y1_3.head()"
   ]
  },
  {
   "cell_type": "code",
   "execution_count": 23,
   "metadata": {},
   "outputs": [
    {
     "name": "stdout",
     "output_type": "stream",
     "text": [
      "['task6_y2', 'task7_y2', 'task8_y2', 'task9_y2', 'task10_y2']\n",
      "\n",
      "['task16_y4', 'task17_y4', 'task18_y4', 'task19_y4', 'task20_y4']\n"
     ]
    }
   ],
   "source": [
    "# Список переменных\n",
    "print(Y2.columns.tolist())\n",
    "print()\n",
    "print(Y4.columns.tolist())"
   ]
  },
  {
   "cell_type": "code",
   "execution_count": 24,
   "metadata": {},
   "outputs": [
    {
     "data": {
      "text/plain": [
       "['task6_y2', 'task7_y2', 'task8_y2', 'task9_y2', 'task10_y2']"
      ]
     },
     "execution_count": 24,
     "metadata": {},
     "output_type": "execute_result"
    }
   ],
   "source": [
    "# Cловарь переменных\n",
    "list_of_variables = {'task16_y4':'task6_y2',\n",
    "                     'task17_y4':'task7_y2',\n",
    "                     'task18_y4':'task8_y2',\n",
    "                     'task19_y4':'task9_y2',\n",
    "                     'task20_y4':'task10_y2'} \n",
    "\n",
    "# Переобозначим переменные\n",
    "Y4 = Y4.rename(columns = list_of_variables)\n",
    "\n",
    "# Проверка результата\n",
    "Y4.columns.tolist()"
   ]
  },
  {
   "cell_type": "code",
   "execution_count": 25,
   "metadata": {},
   "outputs": [
    {
     "data": {
      "text/html": [
       "<div>\n",
       "<style scoped>\n",
       "    .dataframe tbody tr th:only-of-type {\n",
       "        vertical-align: middle;\n",
       "    }\n",
       "\n",
       "    .dataframe tbody tr th {\n",
       "        vertical-align: top;\n",
       "    }\n",
       "\n",
       "    .dataframe thead th {\n",
       "        text-align: right;\n",
       "    }\n",
       "</style>\n",
       "<table border=\"1\" class=\"dataframe\">\n",
       "  <thead>\n",
       "    <tr style=\"text-align: right;\">\n",
       "      <th></th>\n",
       "      <th>task6_y2</th>\n",
       "      <th>task7_y2</th>\n",
       "      <th>task8_y2</th>\n",
       "      <th>task9_y2</th>\n",
       "      <th>task10_y2</th>\n",
       "    </tr>\n",
       "    <tr>\n",
       "      <th>group</th>\n",
       "      <th></th>\n",
       "      <th></th>\n",
       "      <th></th>\n",
       "      <th></th>\n",
       "      <th></th>\n",
       "    </tr>\n",
       "  </thead>\n",
       "  <tbody>\n",
       "    <tr>\n",
       "      <th>A</th>\n",
       "      <td>3</td>\n",
       "      <td>1</td>\n",
       "      <td>1</td>\n",
       "      <td>3</td>\n",
       "      <td>2</td>\n",
       "    </tr>\n",
       "    <tr>\n",
       "      <th>B</th>\n",
       "      <td>4</td>\n",
       "      <td>2</td>\n",
       "      <td>1</td>\n",
       "      <td>2</td>\n",
       "      <td>2</td>\n",
       "    </tr>\n",
       "    <tr>\n",
       "      <th>C</th>\n",
       "      <td>5</td>\n",
       "      <td>4</td>\n",
       "      <td>1</td>\n",
       "      <td>3</td>\n",
       "      <td>3</td>\n",
       "    </tr>\n",
       "    <tr>\n",
       "      <th>D</th>\n",
       "      <td>5</td>\n",
       "      <td>4</td>\n",
       "      <td>2</td>\n",
       "      <td>3</td>\n",
       "      <td>2</td>\n",
       "    </tr>\n",
       "    <tr>\n",
       "      <th>E</th>\n",
       "      <td>5</td>\n",
       "      <td>3</td>\n",
       "      <td>2</td>\n",
       "      <td>1</td>\n",
       "      <td>1</td>\n",
       "    </tr>\n",
       "  </tbody>\n",
       "</table>\n",
       "</div>"
      ],
      "text/plain": [
       "       task6_y2  task7_y2  task8_y2  task9_y2  task10_y2\n",
       "group                                                   \n",
       "A             3         1         1         3          2\n",
       "B             4         2         1         2          2\n",
       "C             5         4         1         3          3\n",
       "D             5         4         2         3          2\n",
       "E             5         3         2         1          1"
      ]
     },
     "execution_count": 25,
     "metadata": {},
     "output_type": "execute_result"
    }
   ],
   "source": [
    "# Объединение выборок Y2 и Y4\n",
    "Y2_4 =  pd.concat([Y2, Y4])\n",
    "\n",
    "# Проверка результата\n",
    "Y2_4.head()"
   ]
  },
  {
   "cell_type": "code",
   "execution_count": 26,
   "metadata": {},
   "outputs": [
    {
     "data": {
      "text/plain": [
       "array([4, 2, 4, 4, 2, 5, 4, 5, 3, 2, 5, 3, 3, 2, 1, 5, 4, 4, 2, 4, 5, 5,\n",
       "       4, 3, 3, 5, 3, 4, 1, 1, 5, 2, 4, 3, 3, 5, 4, 4, 3, 2, 5, 2, 2, 2,\n",
       "       2, 5, 3, 2, 4, 2, 5, 5, 5, 3, 5, 5, 4, 5, 4, 3, 4, 3, 5, 5, 5, 5,\n",
       "       3, 4, 4, 4, 5, 3, 5, 5, 5, 5, 4, 5, 3, 5, 5, 4, 3, 3, 4, 5, 5, 4,\n",
       "       5, 5], dtype=int64)"
      ]
     },
     "execution_count": 26,
     "metadata": {},
     "output_type": "execute_result"
    }
   ],
   "source": [
    "# Подготовка выборки Y1_3\n",
    "# Переменная Y1_3_s = выборка Y1_3\n",
    "Y1_3_s = Y1_3.to_numpy().flatten()\n",
    "\n",
    "# Проверка результата\n",
    "Y1_3_s"
   ]
  },
  {
   "cell_type": "code",
   "execution_count": 27,
   "metadata": {},
   "outputs": [
    {
     "data": {
      "text/plain": [
       "array([3, 1, 1, 3, 2, 4, 2, 1, 2, 2, 5, 4, 1, 3, 3, 5, 4, 2, 3, 2, 5, 3,\n",
       "       2, 1, 1, 4, 5, 2, 3, 2, 3, 3, 0, 4, 3, 4, 2, 2, 3, 3, 4, 3, 3, 4,\n",
       "       3, 3, 4, 4, 3, 2, 3, 3, 5, 4, 3, 4, 5, 4, 3, 3, 5, 4, 3, 4, 2, 5,\n",
       "       4, 2, 4, 2, 4, 4, 3, 3, 5, 5, 5, 1, 4, 4, 4, 2, 2, 4, 4, 4, 5, 4,\n",
       "       3, 3], dtype=int64)"
      ]
     },
     "execution_count": 27,
     "metadata": {},
     "output_type": "execute_result"
    }
   ],
   "source": [
    "# Подготовка выборки Y2_4\n",
    "# Переменная Y2_4_s = выборка Y2_4\n",
    "Y2_4_s = Y2_4.to_numpy().flatten()\n",
    "\n",
    "# Проверка результата\n",
    "Y2_4_s"
   ]
  },
  {
   "cell_type": "code",
   "execution_count": 28,
   "metadata": {},
   "outputs": [
    {
     "name": "stdout",
     "output_type": "stream",
     "text": [
      "p-value = 0.0009\n"
     ]
    }
   ],
   "source": [
    "# Проверка гипотезы \n",
    "print('p-value = %.4f' %  stats.ttest_ind(Y1_3_s, Y2_4_s)[1])"
   ]
  },
  {
   "cell_type": "markdown",
   "metadata": {},
   "source": [
    "##### Вывод\n",
    "\n",
    "Значение p-value меньше уровня значимости, значит нулевая гипотеза отвергнута в пользу альтернативной гипотезы и ** обучение и сложность задания не влияет на качество воспринимаемой информации ** в предположении, что Y1 = Y3, Y2 = Y4, Y1 < Y2 и выборки независимы. \n"
   ]
  }
 ],
 "metadata": {
  "kernelspec": {
   "display_name": "Python 3",
   "language": "python",
   "name": "python3"
  },
  "language_info": {
   "codemirror_mode": {
    "name": "ipython",
    "version": 3
   },
   "file_extension": ".py",
   "mimetype": "text/x-python",
   "name": "python",
   "nbconvert_exporter": "python",
   "pygments_lexer": "ipython3",
   "version": "3.8.5"
  }
 },
 "nbformat": 4,
 "nbformat_minor": 4
}

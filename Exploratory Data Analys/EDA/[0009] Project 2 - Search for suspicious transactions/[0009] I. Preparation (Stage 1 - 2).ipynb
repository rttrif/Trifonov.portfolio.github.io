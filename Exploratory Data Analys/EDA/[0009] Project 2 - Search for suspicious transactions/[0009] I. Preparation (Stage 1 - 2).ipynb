{
 "cells": [
  {
   "cell_type": "markdown",
   "metadata": {},
   "source": [
    "#### Project Type: Exploratory Data Analysis\n",
    "### Project Number: 0009\n",
    "## Project Title: FinCEN Suspicious Activity Reports\n",
    "---"
   ]
  },
  {
   "cell_type": "markdown",
   "metadata": {},
   "source": [
    "\n",
    "# **STAGE 1. PROBLEM DEFINITION**\n",
    "    \n",
    "\n"
   ]
  },
  {
   "cell_type": "markdown",
   "metadata": {},
   "source": [
    "\n",
    "### Data source\n",
    "\n",
    "---"
   ]
  },
  {
   "cell_type": "markdown",
   "metadata": {},
   "source": [
    "- Large Bitcoin blockchain transactions:  https://inca.digital/files/Bitcoin-large-transactions-2015_2016_2017.zip\n",
    "- FinCEN SAR dataset:  https://www.icij.org/investigations/fincen-files/download-fincen-files-transaction-data/"
   ]
  },
  {
   "cell_type": "markdown",
   "metadata": {},
   "source": [
    "\n",
    "### Project Objectives\n",
    "\n",
    "---"
   ]
  },
  {
   "cell_type": "markdown",
   "metadata": {},
   "source": [
    "Описание тестового задания: https://inca.digital/careers/?form=data-analyst-challenge\n",
    "\n",
    "Задачи:  \n",
    "- Match suspicious bank transactions to blockchain transaction hashes"
   ]
  },
  {
   "cell_type": "markdown",
   "metadata": {},
   "source": [
    "### Success criteria\n",
    "\n",
    "---"
   ]
  },
  {
   "cell_type": "markdown",
   "metadata": {},
   "source": [
    "- Таблица в которой сопаставленны подозрительные банковские операции с хэшами блокчейн-транзакций"
   ]
  },
  {
   "cell_type": "markdown",
   "metadata": {},
   "source": [
    "### Termenology\n",
    "\n",
    "---"
   ]
  },
  {
   "cell_type": "markdown",
   "metadata": {},
   "source": [
    "Источнки информации: \n",
    "- https://vc.ru/legal/154061-kakie-operacii-kompaniy-i-fizicheskih-lic-kontroliruyut-banki\n",
    "- https://brobank.ru/somnitelnye-operacii/\n",
    "- https://www.imolin.org/doc/amlid/Indonesia_Guidelines2_STR_FSP.pdf\n",
    "- http://fiubelize.org/types-of-suspicious-activities-or-transactions/\n",
    "- https://www.fintrac-canafe.gc.ca/guidance-directives/transaction-operation/Guide2/2-eng\n",
    "\n",
    "\n"
   ]
  },
  {
   "cell_type": "markdown",
   "metadata": {},
   "source": [
    "### Task type\n",
    "\n",
    "---"
   ]
  },
  {
   "cell_type": "markdown",
   "metadata": {},
   "source": [
    "Задачи: \n",
    "- Разведочный анализ данных"
   ]
  },
  {
   "cell_type": "markdown",
   "metadata": {},
   "source": [
    "    \n",
    "# **STAGE 2. PRELIMINARY DATA WRANGLING**\n",
    "\n"
   ]
  },
  {
   "cell_type": "markdown",
   "metadata": {},
   "source": [
    "### Import Libraries\n",
    "\n",
    "---"
   ]
  },
  {
   "cell_type": "code",
   "execution_count": 1,
   "metadata": {},
   "outputs": [],
   "source": [
    "# Data manipulation\n",
    "import pandas as pd\n",
    "import numpy as np\n",
    "\n",
    "# Data Visualizations\n",
    "import seaborn as sns\n",
    "import matplotlib.pyplot as plt\n",
    "%matplotlib inline"
   ]
  },
  {
   "cell_type": "markdown",
   "metadata": {},
   "source": [
    "### Import Data\n",
    "\n",
    "---"
   ]
  },
  {
   "cell_type": "code",
   "execution_count": 2,
   "metadata": {},
   "outputs": [],
   "source": [
    "# Путь к данным\n",
    "data_path = r'D:/Data_Science_Project/2. Exploratory Data Analysis/[0009] Project 2 - Search for suspicious transactions'"
   ]
  },
  {
   "cell_type": "markdown",
   "metadata": {},
   "source": [
    "## SECTION 2.1.  DATA UNDERSTANDING"
   ]
  },
  {
   "cell_type": "markdown",
   "metadata": {},
   "source": [
    "### _Collect initial data_\n",
    "\n",
    "---"
   ]
  },
  {
   "cell_type": "markdown",
   "metadata": {},
   "source": [
    "### Bitcoin large transactions"
   ]
  },
  {
   "cell_type": "markdown",
   "metadata": {},
   "source": [
    "Введем переменную __blt_2015__ = bitcoin large transactions за соответсвующий год "
   ]
  },
  {
   "cell_type": "markdown",
   "metadata": {},
   "source": [
    "#### 2015 год"
   ]
  },
  {
   "cell_type": "code",
   "execution_count": 3,
   "metadata": {},
   "outputs": [
    {
     "data": {
      "text/html": [
       "<div>\n",
       "<style scoped>\n",
       "    .dataframe tbody tr th:only-of-type {\n",
       "        vertical-align: middle;\n",
       "    }\n",
       "\n",
       "    .dataframe tbody tr th {\n",
       "        vertical-align: top;\n",
       "    }\n",
       "\n",
       "    .dataframe thead th {\n",
       "        text-align: right;\n",
       "    }\n",
       "</style>\n",
       "<table border=\"1\" class=\"dataframe\">\n",
       "  <thead>\n",
       "    <tr style=\"text-align: right;\">\n",
       "      <th></th>\n",
       "      <th>time</th>\n",
       "      <th>Hash</th>\n",
       "      <th>Sender</th>\n",
       "      <th>Receiver</th>\n",
       "      <th>Transaction_amount_BTC</th>\n",
       "      <th>Price</th>\n",
       "      <th>Transaction_amount_USD</th>\n",
       "    </tr>\n",
       "  </thead>\n",
       "  <tbody>\n",
       "    <tr>\n",
       "      <th>0</th>\n",
       "      <td>2015-03-31</td>\n",
       "      <td>16f27194b06bcf1f61b1531a2a861fdcd027a232428090...</td>\n",
       "      <td>1BtNH4rtj3PVe6PWYsziQMnXofZmoPmGHu</td>\n",
       "      <td>1PrGFmmFFeD6v9ihS74ewjAzSMmQxsQAuw</td>\n",
       "      <td>5272.999900</td>\n",
       "      <td>245.902782</td>\n",
       "      <td>1.296645e+06</td>\n",
       "    </tr>\n",
       "    <tr>\n",
       "      <th>1</th>\n",
       "      <td>2015-03-31</td>\n",
       "      <td>68a4c74ebb211c5c61caa0296d9eae5b0336e0c7b7c68a...</td>\n",
       "      <td>1NE3QFkf4aFUgCNTvGjiZsY59yDsGratiU\\n1Bst4GwKrN...</td>\n",
       "      <td>18zXyBVHCU3hu3ivszZNh3NqA1eA1jVBsm</td>\n",
       "      <td>4509.877141</td>\n",
       "      <td>245.902782</td>\n",
       "      <td>1.108991e+06</td>\n",
       "    </tr>\n",
       "    <tr>\n",
       "      <th>2</th>\n",
       "      <td>2015-03-31</td>\n",
       "      <td>ddf989c7797164150de0764e364f7e01b7253538de753f...</td>\n",
       "      <td>15HgmxddgExHKTfkXwacQgKf9nx8PZEDri</td>\n",
       "      <td>1EdyFyyzgxWsV3P1x41vKDrEeDDyz9QAMe</td>\n",
       "      <td>4138.094249</td>\n",
       "      <td>245.902782</td>\n",
       "      <td>1.017569e+06</td>\n",
       "    </tr>\n",
       "    <tr>\n",
       "      <th>3</th>\n",
       "      <td>2015-03-31</td>\n",
       "      <td>1866b030f8a3a6f83393fa23215759c05d13a2bf30d716...</td>\n",
       "      <td>18uvUoZuDFXaPjKBDHu8w2PNYqY6dXDs8G</td>\n",
       "      <td>1HoiNQf18RwzeLhBmcGM8Pqqyqc9KCSiYE</td>\n",
       "      <td>4458.364297</td>\n",
       "      <td>245.902782</td>\n",
       "      <td>1.096324e+06</td>\n",
       "    </tr>\n",
       "    <tr>\n",
       "      <th>4</th>\n",
       "      <td>2015-03-31</td>\n",
       "      <td>1866b030f8a3a6f83393fa23215759c05d13a2bf30d716...</td>\n",
       "      <td>18uvUoZuDFXaPjKBDHu8w2PNYqY6dXDs8G</td>\n",
       "      <td>14LPd6dcAZpJD3jfz8FPJcgdL8G1hMWZTq</td>\n",
       "      <td>8000.000000</td>\n",
       "      <td>245.902782</td>\n",
       "      <td>1.967222e+06</td>\n",
       "    </tr>\n",
       "  </tbody>\n",
       "</table>\n",
       "</div>"
      ],
      "text/plain": [
       "         time                                               Hash  \\\n",
       "0  2015-03-31  16f27194b06bcf1f61b1531a2a861fdcd027a232428090...   \n",
       "1  2015-03-31  68a4c74ebb211c5c61caa0296d9eae5b0336e0c7b7c68a...   \n",
       "2  2015-03-31  ddf989c7797164150de0764e364f7e01b7253538de753f...   \n",
       "3  2015-03-31  1866b030f8a3a6f83393fa23215759c05d13a2bf30d716...   \n",
       "4  2015-03-31  1866b030f8a3a6f83393fa23215759c05d13a2bf30d716...   \n",
       "\n",
       "                                              Sender  \\\n",
       "0                 1BtNH4rtj3PVe6PWYsziQMnXofZmoPmGHu   \n",
       "1  1NE3QFkf4aFUgCNTvGjiZsY59yDsGratiU\\n1Bst4GwKrN...   \n",
       "2                 15HgmxddgExHKTfkXwacQgKf9nx8PZEDri   \n",
       "3                 18uvUoZuDFXaPjKBDHu8w2PNYqY6dXDs8G   \n",
       "4                 18uvUoZuDFXaPjKBDHu8w2PNYqY6dXDs8G   \n",
       "\n",
       "                             Receiver  Transaction_amount_BTC       Price  \\\n",
       "0  1PrGFmmFFeD6v9ihS74ewjAzSMmQxsQAuw             5272.999900  245.902782   \n",
       "1  18zXyBVHCU3hu3ivszZNh3NqA1eA1jVBsm             4509.877141  245.902782   \n",
       "2  1EdyFyyzgxWsV3P1x41vKDrEeDDyz9QAMe             4138.094249  245.902782   \n",
       "3  1HoiNQf18RwzeLhBmcGM8Pqqyqc9KCSiYE             4458.364297  245.902782   \n",
       "4  14LPd6dcAZpJD3jfz8FPJcgdL8G1hMWZTq             8000.000000  245.902782   \n",
       "\n",
       "   Transaction_amount_USD  \n",
       "0            1.296645e+06  \n",
       "1            1.108991e+06  \n",
       "2            1.017569e+06  \n",
       "3            1.096324e+06  \n",
       "4            1.967222e+06  "
      ]
     },
     "execution_count": 3,
     "metadata": {},
     "output_type": "execute_result"
    }
   ],
   "source": [
    "# Загрузка исходных данных по транзанкциям за 2015 \n",
    "blt_2015 = pd.read_csv(data_path + '/Bitcoin-large-transactions-2015_2016_2017/2015.csv')\n",
    "\n",
    "# Предварительная оценка результата \n",
    "blt_2015.head()"
   ]
  },
  {
   "cell_type": "markdown",
   "metadata": {},
   "source": [
    "#### 2016 год"
   ]
  },
  {
   "cell_type": "code",
   "execution_count": 4,
   "metadata": {},
   "outputs": [
    {
     "data": {
      "text/html": [
       "<div>\n",
       "<style scoped>\n",
       "    .dataframe tbody tr th:only-of-type {\n",
       "        vertical-align: middle;\n",
       "    }\n",
       "\n",
       "    .dataframe tbody tr th {\n",
       "        vertical-align: top;\n",
       "    }\n",
       "\n",
       "    .dataframe thead th {\n",
       "        text-align: right;\n",
       "    }\n",
       "</style>\n",
       "<table border=\"1\" class=\"dataframe\">\n",
       "  <thead>\n",
       "    <tr style=\"text-align: right;\">\n",
       "      <th></th>\n",
       "      <th>time</th>\n",
       "      <th>Hash</th>\n",
       "      <th>Sender</th>\n",
       "      <th>Receiver</th>\n",
       "      <th>Transaction_amount_BTC</th>\n",
       "      <th>Price</th>\n",
       "      <th>Transaction_amount_USD</th>\n",
       "    </tr>\n",
       "  </thead>\n",
       "  <tbody>\n",
       "    <tr>\n",
       "      <th>0</th>\n",
       "      <td>2016-04-01</td>\n",
       "      <td>2a024be6047fd7875cc135a23432da8a47ae66652d9171...</td>\n",
       "      <td>1A4x26mbtYHJ7YHW9Sy5w8v5AvQE2oBmKo</td>\n",
       "      <td>1FRdy9kq2BmKg4GCDqWsBfC7KxXBphUVez</td>\n",
       "      <td>5733.810145</td>\n",
       "      <td>415.703924</td>\n",
       "      <td>2.383567e+06</td>\n",
       "    </tr>\n",
       "    <tr>\n",
       "      <th>1</th>\n",
       "      <td>2016-04-01</td>\n",
       "      <td>c9214e4c9776be449697c09517bcc152ea3af6c218010a...</td>\n",
       "      <td>1wiYByyCBbNo52s4py89Rxp8b2AwDLX6n</td>\n",
       "      <td>1A4x26mbtYHJ7YHW9Sy5w8v5AvQE2oBmKo</td>\n",
       "      <td>6698.999845</td>\n",
       "      <td>415.703924</td>\n",
       "      <td>2.784801e+06</td>\n",
       "    </tr>\n",
       "    <tr>\n",
       "      <th>2</th>\n",
       "      <td>2016-04-01</td>\n",
       "      <td>1dd365a81a9c7b2f7ceb8407a127f95e916e6432952b1a...</td>\n",
       "      <td>17irB8xLxhVRerCoUyypnmpoak3QBpVp2z</td>\n",
       "      <td>3Jar2U9ZMwHr2eYDQP56tpczXG5W6jQtQ1</td>\n",
       "      <td>3000.000000</td>\n",
       "      <td>415.703924</td>\n",
       "      <td>1.247112e+06</td>\n",
       "    </tr>\n",
       "    <tr>\n",
       "      <th>3</th>\n",
       "      <td>2016-04-01</td>\n",
       "      <td>825d31c7a9dfbfba0200fb1e844418941e6fb0dc7306c5...</td>\n",
       "      <td>3P3LXtymthf9Z38CqTsBPu8FYDzE6xDhn4\\n3MyCd2bbU9...</td>\n",
       "      <td>3JSFA7MzqdZkWe8aouPqKYh5erpg5xKGgY</td>\n",
       "      <td>4000.000000</td>\n",
       "      <td>415.703924</td>\n",
       "      <td>1.662816e+06</td>\n",
       "    </tr>\n",
       "    <tr>\n",
       "      <th>4</th>\n",
       "      <td>2016-04-01</td>\n",
       "      <td>825d31c7a9dfbfba0200fb1e844418941e6fb0dc7306c5...</td>\n",
       "      <td>3P3LXtymthf9Z38CqTsBPu8FYDzE6xDhn4\\n3MyCd2bbU9...</td>\n",
       "      <td>34CEB12rZ24enWqcqw2SBKcKdcVPnCvXLA</td>\n",
       "      <td>7000.000000</td>\n",
       "      <td>415.703924</td>\n",
       "      <td>2.909927e+06</td>\n",
       "    </tr>\n",
       "  </tbody>\n",
       "</table>\n",
       "</div>"
      ],
      "text/plain": [
       "         time                                               Hash  \\\n",
       "0  2016-04-01  2a024be6047fd7875cc135a23432da8a47ae66652d9171...   \n",
       "1  2016-04-01  c9214e4c9776be449697c09517bcc152ea3af6c218010a...   \n",
       "2  2016-04-01  1dd365a81a9c7b2f7ceb8407a127f95e916e6432952b1a...   \n",
       "3  2016-04-01  825d31c7a9dfbfba0200fb1e844418941e6fb0dc7306c5...   \n",
       "4  2016-04-01  825d31c7a9dfbfba0200fb1e844418941e6fb0dc7306c5...   \n",
       "\n",
       "                                              Sender  \\\n",
       "0                 1A4x26mbtYHJ7YHW9Sy5w8v5AvQE2oBmKo   \n",
       "1                  1wiYByyCBbNo52s4py89Rxp8b2AwDLX6n   \n",
       "2                 17irB8xLxhVRerCoUyypnmpoak3QBpVp2z   \n",
       "3  3P3LXtymthf9Z38CqTsBPu8FYDzE6xDhn4\\n3MyCd2bbU9...   \n",
       "4  3P3LXtymthf9Z38CqTsBPu8FYDzE6xDhn4\\n3MyCd2bbU9...   \n",
       "\n",
       "                             Receiver  Transaction_amount_BTC       Price  \\\n",
       "0  1FRdy9kq2BmKg4GCDqWsBfC7KxXBphUVez             5733.810145  415.703924   \n",
       "1  1A4x26mbtYHJ7YHW9Sy5w8v5AvQE2oBmKo             6698.999845  415.703924   \n",
       "2  3Jar2U9ZMwHr2eYDQP56tpczXG5W6jQtQ1             3000.000000  415.703924   \n",
       "3  3JSFA7MzqdZkWe8aouPqKYh5erpg5xKGgY             4000.000000  415.703924   \n",
       "4  34CEB12rZ24enWqcqw2SBKcKdcVPnCvXLA             7000.000000  415.703924   \n",
       "\n",
       "   Transaction_amount_USD  \n",
       "0            2.383567e+06  \n",
       "1            2.784801e+06  \n",
       "2            1.247112e+06  \n",
       "3            1.662816e+06  \n",
       "4            2.909927e+06  "
      ]
     },
     "execution_count": 4,
     "metadata": {},
     "output_type": "execute_result"
    }
   ],
   "source": [
    "# Загрузка исходных данных по транзанкциям за 2016 \n",
    "blt_2016 = pd.read_csv(data_path + '/Bitcoin-large-transactions-2015_2016_2017/2016.csv')\n",
    "\n",
    "# Предварительная оценка результата \n",
    "blt_2016.head()"
   ]
  },
  {
   "cell_type": "markdown",
   "metadata": {},
   "source": [
    "#### 2017 год"
   ]
  },
  {
   "cell_type": "code",
   "execution_count": 5,
   "metadata": {},
   "outputs": [
    {
     "data": {
      "text/html": [
       "<div>\n",
       "<style scoped>\n",
       "    .dataframe tbody tr th:only-of-type {\n",
       "        vertical-align: middle;\n",
       "    }\n",
       "\n",
       "    .dataframe tbody tr th {\n",
       "        vertical-align: top;\n",
       "    }\n",
       "\n",
       "    .dataframe thead th {\n",
       "        text-align: right;\n",
       "    }\n",
       "</style>\n",
       "<table border=\"1\" class=\"dataframe\">\n",
       "  <thead>\n",
       "    <tr style=\"text-align: right;\">\n",
       "      <th></th>\n",
       "      <th>time</th>\n",
       "      <th>Hash</th>\n",
       "      <th>Sender</th>\n",
       "      <th>Receiver</th>\n",
       "      <th>Transaction_amount_BTC</th>\n",
       "      <th>Price</th>\n",
       "      <th>Transaction_amount_USD</th>\n",
       "    </tr>\n",
       "  </thead>\n",
       "  <tbody>\n",
       "    <tr>\n",
       "      <th>0</th>\n",
       "      <td>2017-05-01</td>\n",
       "      <td>e9a9f4b62d7f716eda4ebb46e9631f17b10e9849ded533...</td>\n",
       "      <td>36BFtUyTe7AyTyH8VMaGe3e9EixH1VeLQ6\\n3KBvXWpn2y...</td>\n",
       "      <td>3Pm3KWxdW7yE8To7s3TgizgqPwkWG4CANk</td>\n",
       "      <td>1480.327135</td>\n",
       "      <td>1372.148194</td>\n",
       "      <td>2.031228e+06</td>\n",
       "    </tr>\n",
       "    <tr>\n",
       "      <th>1</th>\n",
       "      <td>2017-05-01</td>\n",
       "      <td>70d5a9354623cd31f44f4b36ad5706f42ba6bb5c3398ce...</td>\n",
       "      <td>12cgpFdJViXbwHbhrA3TuW1EGnL25Zqc3P</td>\n",
       "      <td>17A16QmavnUfCW11DAApiJxp7ARnxN5pGX</td>\n",
       "      <td>3604.226297</td>\n",
       "      <td>1372.148194</td>\n",
       "      <td>4.945533e+06</td>\n",
       "    </tr>\n",
       "    <tr>\n",
       "      <th>2</th>\n",
       "      <td>2017-05-01</td>\n",
       "      <td>bff73d5418a813dc5c17ea11237000520a55b8beef8319...</td>\n",
       "      <td>31mrqtk7rneZdos7L2QDPh9czwQWB6L3tA</td>\n",
       "      <td>3HXG1S1DCeMsynttXyoy62iF6mibvmPRcZ</td>\n",
       "      <td>1536.760275</td>\n",
       "      <td>1372.148194</td>\n",
       "      <td>2.108663e+06</td>\n",
       "    </tr>\n",
       "    <tr>\n",
       "      <th>3</th>\n",
       "      <td>2017-05-01</td>\n",
       "      <td>6dea9ed31af9e7c5ad6b3a68fc16ec6fa7403701d1f50e...</td>\n",
       "      <td>1PqeMdCUq8rd7yywbkhoW8oKQZSUEyoddF\\n1ZTG4qqz7B...</td>\n",
       "      <td>13odri1aZgf8r3gymdAxmkANaE1gRQU3HE</td>\n",
       "      <td>5521.000000</td>\n",
       "      <td>1372.148194</td>\n",
       "      <td>7.575630e+06</td>\n",
       "    </tr>\n",
       "    <tr>\n",
       "      <th>4</th>\n",
       "      <td>2017-05-01</td>\n",
       "      <td>735ea3f79db5f110a73a84f8b383d474712ab5f0dd3edc...</td>\n",
       "      <td>1QBWQZpM3qRDdwdfo6VmPTN7TBXmrr9rFX</td>\n",
       "      <td>3QtrSuLPVpXrnhzR59DLEoTW2aNi8AtaZZ</td>\n",
       "      <td>3500.000000</td>\n",
       "      <td>1372.148194</td>\n",
       "      <td>4.802519e+06</td>\n",
       "    </tr>\n",
       "  </tbody>\n",
       "</table>\n",
       "</div>"
      ],
      "text/plain": [
       "         time                                               Hash  \\\n",
       "0  2017-05-01  e9a9f4b62d7f716eda4ebb46e9631f17b10e9849ded533...   \n",
       "1  2017-05-01  70d5a9354623cd31f44f4b36ad5706f42ba6bb5c3398ce...   \n",
       "2  2017-05-01  bff73d5418a813dc5c17ea11237000520a55b8beef8319...   \n",
       "3  2017-05-01  6dea9ed31af9e7c5ad6b3a68fc16ec6fa7403701d1f50e...   \n",
       "4  2017-05-01  735ea3f79db5f110a73a84f8b383d474712ab5f0dd3edc...   \n",
       "\n",
       "                                              Sender  \\\n",
       "0  36BFtUyTe7AyTyH8VMaGe3e9EixH1VeLQ6\\n3KBvXWpn2y...   \n",
       "1                 12cgpFdJViXbwHbhrA3TuW1EGnL25Zqc3P   \n",
       "2                 31mrqtk7rneZdos7L2QDPh9czwQWB6L3tA   \n",
       "3  1PqeMdCUq8rd7yywbkhoW8oKQZSUEyoddF\\n1ZTG4qqz7B...   \n",
       "4                 1QBWQZpM3qRDdwdfo6VmPTN7TBXmrr9rFX   \n",
       "\n",
       "                             Receiver  Transaction_amount_BTC        Price  \\\n",
       "0  3Pm3KWxdW7yE8To7s3TgizgqPwkWG4CANk             1480.327135  1372.148194   \n",
       "1  17A16QmavnUfCW11DAApiJxp7ARnxN5pGX             3604.226297  1372.148194   \n",
       "2  3HXG1S1DCeMsynttXyoy62iF6mibvmPRcZ             1536.760275  1372.148194   \n",
       "3  13odri1aZgf8r3gymdAxmkANaE1gRQU3HE             5521.000000  1372.148194   \n",
       "4  3QtrSuLPVpXrnhzR59DLEoTW2aNi8AtaZZ             3500.000000  1372.148194   \n",
       "\n",
       "   Transaction_amount_USD  \n",
       "0            2.031228e+06  \n",
       "1            4.945533e+06  \n",
       "2            2.108663e+06  \n",
       "3            7.575630e+06  \n",
       "4            4.802519e+06  "
      ]
     },
     "execution_count": 5,
     "metadata": {},
     "output_type": "execute_result"
    }
   ],
   "source": [
    "# Загрузка исходных данных по транзанкциям за 2017 \n",
    "blt_2017 = pd.read_csv(data_path + '/Bitcoin-large-transactions-2015_2016_2017/2017.csv')\n",
    "\n",
    "# Предварительная оценка результата \n",
    "blt_2017.head()"
   ]
  },
  {
   "cell_type": "markdown",
   "metadata": {},
   "source": [
    "### The FinCEN Files"
   ]
  },
  {
   "cell_type": "markdown",
   "metadata": {},
   "source": [
    "Введем переменные:\n",
    "- __fc_bc__ = FinCEN Bank connections\n",
    "- __fc_tm__ = FinCEN Transactions map"
   ]
  },
  {
   "cell_type": "markdown",
   "metadata": {},
   "source": [
    "#### Bank connections"
   ]
  },
  {
   "cell_type": "code",
   "execution_count": 6,
   "metadata": {},
   "outputs": [
    {
     "data": {
      "text/html": [
       "<div>\n",
       "<style scoped>\n",
       "    .dataframe tbody tr th:only-of-type {\n",
       "        vertical-align: middle;\n",
       "    }\n",
       "\n",
       "    .dataframe tbody tr th {\n",
       "        vertical-align: top;\n",
       "    }\n",
       "\n",
       "    .dataframe thead th {\n",
       "        text-align: right;\n",
       "    }\n",
       "</style>\n",
       "<table border=\"1\" class=\"dataframe\">\n",
       "  <thead>\n",
       "    <tr style=\"text-align: right;\">\n",
       "      <th></th>\n",
       "      <th>0</th>\n",
       "      <th>1</th>\n",
       "      <th>2</th>\n",
       "      <th>3</th>\n",
       "      <th>4</th>\n",
       "    </tr>\n",
       "  </thead>\n",
       "  <tbody>\n",
       "    <tr>\n",
       "      <th>icij_sar_id</th>\n",
       "      <td>4132</td>\n",
       "      <td>3181</td>\n",
       "      <td>3181</td>\n",
       "      <td>3181</td>\n",
       "      <td>3181</td>\n",
       "    </tr>\n",
       "    <tr>\n",
       "      <th>filer_org_name_id</th>\n",
       "      <td>standard-chartered-plc</td>\n",
       "      <td>standard-chartered-plc</td>\n",
       "      <td>standard-chartered-plc</td>\n",
       "      <td>standard-chartered-plc</td>\n",
       "      <td>standard-chartered-plc</td>\n",
       "    </tr>\n",
       "    <tr>\n",
       "      <th>filer_org_name</th>\n",
       "      <td>Standard Chartered Plc</td>\n",
       "      <td>Standard Chartered Plc</td>\n",
       "      <td>Standard Chartered Plc</td>\n",
       "      <td>Standard Chartered Plc</td>\n",
       "      <td>Standard Chartered Plc</td>\n",
       "    </tr>\n",
       "    <tr>\n",
       "      <th>entity_b_id</th>\n",
       "      <td>habib-metropolitan-bank-limited-karachi-pakist...</td>\n",
       "      <td>standard-chartered-bank-dubai-uae-are</td>\n",
       "      <td>al-rostamani-international-exchange-uae-are</td>\n",
       "      <td>kuwait-turkish-participation-bank-inc-istanbul...</td>\n",
       "      <td>wall-street-exchange-center-llc-dubai-uae-are</td>\n",
       "    </tr>\n",
       "    <tr>\n",
       "      <th>entity_b</th>\n",
       "      <td>Habib Metropolitan Bank Limited</td>\n",
       "      <td>Standard Chartered Bank</td>\n",
       "      <td>Al Rostamani International Exchange</td>\n",
       "      <td>Kuwait Turkish Participation Bank Inc</td>\n",
       "      <td>Wall Street Exchange Center Llc</td>\n",
       "    </tr>\n",
       "    <tr>\n",
       "      <th>entity_b_country</th>\n",
       "      <td>Pakistan</td>\n",
       "      <td>United Arab Emirates</td>\n",
       "      <td>United Arab Emirates</td>\n",
       "      <td>Turkey</td>\n",
       "      <td>United Arab Emirates</td>\n",
       "    </tr>\n",
       "    <tr>\n",
       "      <th>entity_b_iso_code</th>\n",
       "      <td>PAK</td>\n",
       "      <td>ARE</td>\n",
       "      <td>ARE</td>\n",
       "      <td>TUR</td>\n",
       "      <td>ARE</td>\n",
       "    </tr>\n",
       "  </tbody>\n",
       "</table>\n",
       "</div>"
      ],
      "text/plain": [
       "                                                                   0  \\\n",
       "icij_sar_id                                                     4132   \n",
       "filer_org_name_id                             standard-chartered-plc   \n",
       "filer_org_name                                Standard Chartered Plc   \n",
       "entity_b_id        habib-metropolitan-bank-limited-karachi-pakist...   \n",
       "entity_b                             Habib Metropolitan Bank Limited   \n",
       "entity_b_country                                            Pakistan   \n",
       "entity_b_iso_code                                                PAK   \n",
       "\n",
       "                                                       1  \\\n",
       "icij_sar_id                                         3181   \n",
       "filer_org_name_id                 standard-chartered-plc   \n",
       "filer_org_name                    Standard Chartered Plc   \n",
       "entity_b_id        standard-chartered-bank-dubai-uae-are   \n",
       "entity_b                         Standard Chartered Bank   \n",
       "entity_b_country                    United Arab Emirates   \n",
       "entity_b_iso_code                                    ARE   \n",
       "\n",
       "                                                             2  \\\n",
       "icij_sar_id                                               3181   \n",
       "filer_org_name_id                       standard-chartered-plc   \n",
       "filer_org_name                          Standard Chartered Plc   \n",
       "entity_b_id        al-rostamani-international-exchange-uae-are   \n",
       "entity_b                   Al Rostamani International Exchange   \n",
       "entity_b_country                          United Arab Emirates   \n",
       "entity_b_iso_code                                          ARE   \n",
       "\n",
       "                                                                   3  \\\n",
       "icij_sar_id                                                     3181   \n",
       "filer_org_name_id                             standard-chartered-plc   \n",
       "filer_org_name                                Standard Chartered Plc   \n",
       "entity_b_id        kuwait-turkish-participation-bank-inc-istanbul...   \n",
       "entity_b                       Kuwait Turkish Participation Bank Inc   \n",
       "entity_b_country                                              Turkey   \n",
       "entity_b_iso_code                                                TUR   \n",
       "\n",
       "                                                               4  \n",
       "icij_sar_id                                                 3181  \n",
       "filer_org_name_id                         standard-chartered-plc  \n",
       "filer_org_name                            Standard Chartered Plc  \n",
       "entity_b_id        wall-street-exchange-center-llc-dubai-uae-are  \n",
       "entity_b                         Wall Street Exchange Center Llc  \n",
       "entity_b_country                            United Arab Emirates  \n",
       "entity_b_iso_code                                            ARE  "
      ]
     },
     "execution_count": 6,
     "metadata": {},
     "output_type": "execute_result"
    }
   ],
   "source": [
    "# Загрузка исходных данных FinCEN Bank connections\n",
    "fc_bc = pd.read_csv(data_path + '/download_data_fincen_files/download_bank_connections.csv')\n",
    "\n",
    "# Предварительная оценка результата \n",
    "fc_bc.head().T"
   ]
  },
  {
   "cell_type": "markdown",
   "metadata": {},
   "source": [
    "#### Transactions map"
   ]
  },
  {
   "cell_type": "code",
   "execution_count": 7,
   "metadata": {},
   "outputs": [
    {
     "data": {
      "text/html": [
       "<div>\n",
       "<style scoped>\n",
       "    .dataframe tbody tr th:only-of-type {\n",
       "        vertical-align: middle;\n",
       "    }\n",
       "\n",
       "    .dataframe tbody tr th {\n",
       "        vertical-align: top;\n",
       "    }\n",
       "\n",
       "    .dataframe thead th {\n",
       "        text-align: right;\n",
       "    }\n",
       "</style>\n",
       "<table border=\"1\" class=\"dataframe\">\n",
       "  <thead>\n",
       "    <tr style=\"text-align: right;\">\n",
       "      <th></th>\n",
       "      <th>0</th>\n",
       "      <th>1</th>\n",
       "      <th>2</th>\n",
       "      <th>3</th>\n",
       "      <th>4</th>\n",
       "    </tr>\n",
       "  </thead>\n",
       "  <tbody>\n",
       "    <tr>\n",
       "      <th>id</th>\n",
       "      <td>223254</td>\n",
       "      <td>223255</td>\n",
       "      <td>223258</td>\n",
       "      <td>223259</td>\n",
       "      <td>223260</td>\n",
       "    </tr>\n",
       "    <tr>\n",
       "      <th>icij_sar_id</th>\n",
       "      <td>3297</td>\n",
       "      <td>3297</td>\n",
       "      <td>2924</td>\n",
       "      <td>2924</td>\n",
       "      <td>2924</td>\n",
       "    </tr>\n",
       "    <tr>\n",
       "      <th>filer_org_name_id</th>\n",
       "      <td>the-bank-of-new-york-mellon-corp</td>\n",
       "      <td>the-bank-of-new-york-mellon-corp</td>\n",
       "      <td>the-bank-of-new-york-mellon-corp</td>\n",
       "      <td>the-bank-of-new-york-mellon-corp</td>\n",
       "      <td>the-bank-of-new-york-mellon-corp</td>\n",
       "    </tr>\n",
       "    <tr>\n",
       "      <th>filer_org_name</th>\n",
       "      <td>The Bank of New York Mellon Corp.</td>\n",
       "      <td>The Bank of New York Mellon Corp.</td>\n",
       "      <td>The Bank of New York Mellon Corp.</td>\n",
       "      <td>The Bank of New York Mellon Corp.</td>\n",
       "      <td>The Bank of New York Mellon Corp.</td>\n",
       "    </tr>\n",
       "    <tr>\n",
       "      <th>begin_date</th>\n",
       "      <td>Mar 25, 2015</td>\n",
       "      <td>Mar 30, 2015</td>\n",
       "      <td>Jul 5, 2012</td>\n",
       "      <td>Jun 20, 2012</td>\n",
       "      <td>May 31, 2012</td>\n",
       "    </tr>\n",
       "    <tr>\n",
       "      <th>end_date</th>\n",
       "      <td>Sep 25, 2015</td>\n",
       "      <td>Sep 25, 2015</td>\n",
       "      <td>Jul 5, 2012</td>\n",
       "      <td>Jun 20, 2012</td>\n",
       "      <td>May 31, 2012</td>\n",
       "    </tr>\n",
       "    <tr>\n",
       "      <th>originator_bank_id</th>\n",
       "      <td>cimb-bank-berhad</td>\n",
       "      <td>cimb-bank-berhad</td>\n",
       "      <td>barclays-bank-plc-ho-uk</td>\n",
       "      <td>barclays-bank-plc-ho-uk</td>\n",
       "      <td>barclays-bank-plc-ho-uk</td>\n",
       "    </tr>\n",
       "    <tr>\n",
       "      <th>originator_bank</th>\n",
       "      <td>CIMB Bank Berhad</td>\n",
       "      <td>CIMB Bank Berhad</td>\n",
       "      <td>Barclays Bank Plc Ho UK</td>\n",
       "      <td>Barclays Bank Plc Ho UK</td>\n",
       "      <td>Barclays Bank Plc Ho UK</td>\n",
       "    </tr>\n",
       "    <tr>\n",
       "      <th>originator_bank_country</th>\n",
       "      <td>Singapore</td>\n",
       "      <td>Singapore</td>\n",
       "      <td>United Kingdom</td>\n",
       "      <td>United Kingdom</td>\n",
       "      <td>United Kingdom</td>\n",
       "    </tr>\n",
       "    <tr>\n",
       "      <th>originator_iso</th>\n",
       "      <td>SGP</td>\n",
       "      <td>SGP</td>\n",
       "      <td>GBR</td>\n",
       "      <td>GBR</td>\n",
       "      <td>GBR</td>\n",
       "    </tr>\n",
       "    <tr>\n",
       "      <th>beneficiary_bank_id</th>\n",
       "      <td>barclays-bank-plc-london-england-gbr</td>\n",
       "      <td>barclays-bank-plc-london-england-gbr</td>\n",
       "      <td>skandinaviska-enskilda-banken-stockholm-sweden...</td>\n",
       "      <td>skandinaviska-enskilda-banken-stockholm-sweden...</td>\n",
       "      <td>skandinaviska-enskilda-banken-stockholm-sweden...</td>\n",
       "    </tr>\n",
       "    <tr>\n",
       "      <th>beneficiary_bank</th>\n",
       "      <td>Barclays Bank Plc</td>\n",
       "      <td>Barclays Bank Plc</td>\n",
       "      <td>Skandinaviska Enskilda Banken</td>\n",
       "      <td>Skandinaviska Enskilda Banken</td>\n",
       "      <td>Skandinaviska Enskilda Banken</td>\n",
       "    </tr>\n",
       "    <tr>\n",
       "      <th>beneficiary_bank_country</th>\n",
       "      <td>United Kingdom</td>\n",
       "      <td>United Kingdom</td>\n",
       "      <td>Sweden</td>\n",
       "      <td>Sweden</td>\n",
       "      <td>Sweden</td>\n",
       "    </tr>\n",
       "    <tr>\n",
       "      <th>beneficiary_iso</th>\n",
       "      <td>GBR</td>\n",
       "      <td>GBR</td>\n",
       "      <td>SWE</td>\n",
       "      <td>SWE</td>\n",
       "      <td>SWE</td>\n",
       "    </tr>\n",
       "    <tr>\n",
       "      <th>number_transactions</th>\n",
       "      <td>68</td>\n",
       "      <td>118</td>\n",
       "      <td>NaN</td>\n",
       "      <td>NaN</td>\n",
       "      <td>NaN</td>\n",
       "    </tr>\n",
       "    <tr>\n",
       "      <th>amount_transactions</th>\n",
       "      <td>5.68985e+07</td>\n",
       "      <td>1.16238e+08</td>\n",
       "      <td>5000</td>\n",
       "      <td>9990</td>\n",
       "      <td>12000</td>\n",
       "    </tr>\n",
       "  </tbody>\n",
       "</table>\n",
       "</div>"
      ],
      "text/plain": [
       "                                                             0  \\\n",
       "id                                                      223254   \n",
       "icij_sar_id                                               3297   \n",
       "filer_org_name_id             the-bank-of-new-york-mellon-corp   \n",
       "filer_org_name               The Bank of New York Mellon Corp.   \n",
       "begin_date                                        Mar 25, 2015   \n",
       "end_date                                          Sep 25, 2015   \n",
       "originator_bank_id                            cimb-bank-berhad   \n",
       "originator_bank                               CIMB Bank Berhad   \n",
       "originator_bank_country                              Singapore   \n",
       "originator_iso                                             SGP   \n",
       "beneficiary_bank_id       barclays-bank-plc-london-england-gbr   \n",
       "beneficiary_bank                             Barclays Bank Plc   \n",
       "beneficiary_bank_country                        United Kingdom   \n",
       "beneficiary_iso                                            GBR   \n",
       "number_transactions                                         68   \n",
       "amount_transactions                                5.68985e+07   \n",
       "\n",
       "                                                             1  \\\n",
       "id                                                      223255   \n",
       "icij_sar_id                                               3297   \n",
       "filer_org_name_id             the-bank-of-new-york-mellon-corp   \n",
       "filer_org_name               The Bank of New York Mellon Corp.   \n",
       "begin_date                                        Mar 30, 2015   \n",
       "end_date                                          Sep 25, 2015   \n",
       "originator_bank_id                            cimb-bank-berhad   \n",
       "originator_bank                               CIMB Bank Berhad   \n",
       "originator_bank_country                              Singapore   \n",
       "originator_iso                                             SGP   \n",
       "beneficiary_bank_id       barclays-bank-plc-london-england-gbr   \n",
       "beneficiary_bank                             Barclays Bank Plc   \n",
       "beneficiary_bank_country                        United Kingdom   \n",
       "beneficiary_iso                                            GBR   \n",
       "number_transactions                                        118   \n",
       "amount_transactions                                1.16238e+08   \n",
       "\n",
       "                                                                          2  \\\n",
       "id                                                                   223258   \n",
       "icij_sar_id                                                            2924   \n",
       "filer_org_name_id                          the-bank-of-new-york-mellon-corp   \n",
       "filer_org_name                            The Bank of New York Mellon Corp.   \n",
       "begin_date                                                      Jul 5, 2012   \n",
       "end_date                                                        Jul 5, 2012   \n",
       "originator_bank_id                                  barclays-bank-plc-ho-uk   \n",
       "originator_bank                                     Barclays Bank Plc Ho UK   \n",
       "originator_bank_country                                      United Kingdom   \n",
       "originator_iso                                                          GBR   \n",
       "beneficiary_bank_id       skandinaviska-enskilda-banken-stockholm-sweden...   \n",
       "beneficiary_bank                              Skandinaviska Enskilda Banken   \n",
       "beneficiary_bank_country                                             Sweden   \n",
       "beneficiary_iso                                                         SWE   \n",
       "number_transactions                                                     NaN   \n",
       "amount_transactions                                                    5000   \n",
       "\n",
       "                                                                          3  \\\n",
       "id                                                                   223259   \n",
       "icij_sar_id                                                            2924   \n",
       "filer_org_name_id                          the-bank-of-new-york-mellon-corp   \n",
       "filer_org_name                            The Bank of New York Mellon Corp.   \n",
       "begin_date                                                     Jun 20, 2012   \n",
       "end_date                                                       Jun 20, 2012   \n",
       "originator_bank_id                                  barclays-bank-plc-ho-uk   \n",
       "originator_bank                                     Barclays Bank Plc Ho UK   \n",
       "originator_bank_country                                      United Kingdom   \n",
       "originator_iso                                                          GBR   \n",
       "beneficiary_bank_id       skandinaviska-enskilda-banken-stockholm-sweden...   \n",
       "beneficiary_bank                              Skandinaviska Enskilda Banken   \n",
       "beneficiary_bank_country                                             Sweden   \n",
       "beneficiary_iso                                                         SWE   \n",
       "number_transactions                                                     NaN   \n",
       "amount_transactions                                                    9990   \n",
       "\n",
       "                                                                          4  \n",
       "id                                                                   223260  \n",
       "icij_sar_id                                                            2924  \n",
       "filer_org_name_id                          the-bank-of-new-york-mellon-corp  \n",
       "filer_org_name                            The Bank of New York Mellon Corp.  \n",
       "begin_date                                                     May 31, 2012  \n",
       "end_date                                                       May 31, 2012  \n",
       "originator_bank_id                                  barclays-bank-plc-ho-uk  \n",
       "originator_bank                                     Barclays Bank Plc Ho UK  \n",
       "originator_bank_country                                      United Kingdom  \n",
       "originator_iso                                                          GBR  \n",
       "beneficiary_bank_id       skandinaviska-enskilda-banken-stockholm-sweden...  \n",
       "beneficiary_bank                              Skandinaviska Enskilda Banken  \n",
       "beneficiary_bank_country                                             Sweden  \n",
       "beneficiary_iso                                                         SWE  \n",
       "number_transactions                                                     NaN  \n",
       "amount_transactions                                                   12000  "
      ]
     },
     "execution_count": 7,
     "metadata": {},
     "output_type": "execute_result"
    }
   ],
   "source": [
    "# Загрузка исходных данных FinCEN Transactions map\n",
    "fc_tm = pd.read_csv(data_path + '/download_data_fincen_files/download_transactions_map.csv')\n",
    "\n",
    "# Предварительная оценка результата \n",
    "fc_tm.head().T"
   ]
  },
  {
   "cell_type": "markdown",
   "metadata": {},
   "source": [
    "### _Describe data_\n",
    "\n",
    "---"
   ]
  },
  {
   "cell_type": "markdown",
   "metadata": {},
   "source": [
    "### Bitcoin large transactions"
   ]
  },
  {
   "cell_type": "markdown",
   "metadata": {},
   "source": [
    "- **time** - Дата отправления \n",
    "- **Hash** - Хэш \n",
    "- **Sender** - Отправитель\n",
    "- **Receiver** - Получатель\n",
    "- **Transaction_amount_BTC** - Сумма транзакции BTC\n",
    "- **Price - Цена BTC в USD**\n",
    "- **Transaction_amount_USD** - Сумма транзакции USD"
   ]
  },
  {
   "cell_type": "markdown",
   "metadata": {},
   "source": [
    "### The FinCEN Files"
   ]
  },
  {
   "cell_type": "markdown",
   "metadata": {},
   "source": [
    "#### Bank connections"
   ]
  },
  {
   "cell_type": "markdown",
   "metadata": {},
   "source": [
    "- **icij_sar_id**  - id подозрительной транзакции \n",
    "- **filer_org_name_id** - Идентификатор регистрационного имя организации \n",
    "- **filer_org_name** - Зарегистрированное имя организации\n",
    "- **entity_b_id** - Идентификатор банка \n",
    "- **entity_b** - Название банка\n",
    "- **entity_b_country** - Название страны \n",
    "- **entity_b_iso_code**  - Международный код страны"
   ]
  },
  {
   "cell_type": "markdown",
   "metadata": {},
   "source": [
    "#### Transactions map"
   ]
  },
  {
   "cell_type": "markdown",
   "metadata": {},
   "source": [
    "- **id** - Идентификатор \n",
    "- **icij_sar_id** - Идентификатор подозрительной транзакции \n",
    "- **filer_org_name_id** - Идентификатор регистрационного имя организации\n",
    "- **filer_org_name** - Зарегистрированное имя организации\n",
    "- **begin_date** - Дата начала транзакции\n",
    "- **end_date** - Дата завершения транзакции\n",
    "- **originator_bank_id** - Идентификатор банка инициатора \n",
    "- **originator_bank** - Название банка инициатора\n",
    "- **originator_bank_country** - Название страны банка инициатора\n",
    "- **originator_iso** - Международный код страны банка инициатора\n",
    "- **beneficiary_bank_id** - Идентификатор банка получателя \n",
    "- **beneficiary_bank** - Название банка получателя\n",
    "- **beneficiary_bank_country** - Название страны банка получателя\n",
    "- **beneficiary_iso** - Международный код страны банка получателя\n",
    "- **number_transactions** - Количество транзакций\n",
    "- **amount_transactions** - Сумма транзакций"
   ]
  },
  {
   "cell_type": "markdown",
   "metadata": {},
   "source": [
    "## SECTION 2.2 DATA PREPARATION"
   ]
  },
  {
   "cell_type": "markdown",
   "metadata": {},
   "source": [
    "### _Renaming_\n",
    "\n",
    "---"
   ]
  },
  {
   "cell_type": "code",
   "execution_count": 8,
   "metadata": {},
   "outputs": [
    {
     "data": {
      "text/html": [
       "<div>\n",
       "<style scoped>\n",
       "    .dataframe tbody tr th:only-of-type {\n",
       "        vertical-align: middle;\n",
       "    }\n",
       "\n",
       "    .dataframe tbody tr th {\n",
       "        vertical-align: top;\n",
       "    }\n",
       "\n",
       "    .dataframe thead th {\n",
       "        text-align: right;\n",
       "    }\n",
       "</style>\n",
       "<table border=\"1\" class=\"dataframe\">\n",
       "  <thead>\n",
       "    <tr style=\"text-align: right;\">\n",
       "      <th></th>\n",
       "      <th>time</th>\n",
       "      <th>hash</th>\n",
       "      <th>sender</th>\n",
       "      <th>receiver</th>\n",
       "      <th>transaction_amount_btc</th>\n",
       "      <th>price</th>\n",
       "      <th>transaction_amount_usd</th>\n",
       "    </tr>\n",
       "  </thead>\n",
       "  <tbody>\n",
       "    <tr>\n",
       "      <th>0</th>\n",
       "      <td>2017-05-01</td>\n",
       "      <td>e9a9f4b62d7f716eda4ebb46e9631f17b10e9849ded533...</td>\n",
       "      <td>36BFtUyTe7AyTyH8VMaGe3e9EixH1VeLQ6\\n3KBvXWpn2y...</td>\n",
       "      <td>3Pm3KWxdW7yE8To7s3TgizgqPwkWG4CANk</td>\n",
       "      <td>1480.327135</td>\n",
       "      <td>1372.148194</td>\n",
       "      <td>2.031228e+06</td>\n",
       "    </tr>\n",
       "  </tbody>\n",
       "</table>\n",
       "</div>"
      ],
      "text/plain": [
       "         time                                               hash  \\\n",
       "0  2017-05-01  e9a9f4b62d7f716eda4ebb46e9631f17b10e9849ded533...   \n",
       "\n",
       "                                              sender  \\\n",
       "0  36BFtUyTe7AyTyH8VMaGe3e9EixH1VeLQ6\\n3KBvXWpn2y...   \n",
       "\n",
       "                             receiver  transaction_amount_btc        price  \\\n",
       "0  3Pm3KWxdW7yE8To7s3TgizgqPwkWG4CANk             1480.327135  1372.148194   \n",
       "\n",
       "   transaction_amount_usd  \n",
       "0            2.031228e+06  "
      ]
     },
     "execution_count": 8,
     "metadata": {},
     "output_type": "execute_result"
    }
   ],
   "source": [
    "# Приведём название переменных в наборе Bitcoin large transactions к виду принятому в анализе \n",
    "blt_2015.columns = [i.replace(' ', '_').lower() for i in blt_2015.columns]\n",
    "blt_2016.columns = [i.replace(' ', '_').lower() for i in blt_2016.columns]\n",
    "blt_2017.columns = [i.replace(' ', '_').lower() for i in blt_2017.columns]\n",
    "\n",
    "# Проверка результата \n",
    "blt_2017.head(1)"
   ]
  },
  {
   "cell_type": "markdown",
   "metadata": {},
   "source": [
    "### _Verify data quality_\n",
    "\n",
    "---"
   ]
  },
  {
   "cell_type": "code",
   "execution_count": 9,
   "metadata": {},
   "outputs": [],
   "source": [
    "def verify_data_quality(evaluated_dataset):\n",
    "    '''\n",
    "    ФУНКЦИЯ КОМПЛЕКСНОЙ ОЦЕНКИ КАЧЕСТВА ДАННЫХ\n",
    "    '''\n",
    "    # Проверка типов данных\n",
    "    print(\"Типы данных:\\n{}\\n\".format(evaluated_dataset.dtypes) + '_' * 50+ '\\n')\n",
    "   \n",
    "    # Проверка наличия значений NaN\n",
    "    print(\"Общее количество пропущенных значений:\\n{}\\n\".format(evaluated_dataset.isnull().sum().sum()) + '_' * 50+ '\\n')\n",
    "    \n",
    "    evaluated_dataset.isnull().sum().plot(kind='bar')\n",
    "    # Add a title and show the plot.\n",
    "    plt.title('Распределение пропущенных значений по столбцам')\n",
    "    # Create tick mark labels on the Y axis and rotate them.\n",
    "    plt.xticks(rotation = 90)\n",
    "    # Create X axis label.\n",
    "    plt.xlabel(\"Columns\")\n",
    "    # Create Y axis label.\n",
    "    plt.ylabel(\"NaN Values\");\n",
    "    \n",
    "    # Количество значений, отличных от NaN\n",
    "    print(\"Количество значений, отличных от NaN:\\n{}\\n\".format(evaluated_dataset.count().sum()) + '_' * 50+ '\\n')\n",
    "    \n",
    "    # Поиск дублирующих строк \n",
    "    print(\"Дублирующих строк:\\n{}\\n\".format(evaluated_dataset.duplicated().sum()) + '_' * 50+ '\\n')\n",
    "    \n",
    "    # Форма нарбора данных\n",
    "    print(\"Форма нарбора данных:\\n{}\\n\".format(evaluated_dataset.shape) + '_' * 50+ '\\n')\n",
    "   \n",
    "    # Тип индекса набора данных\n",
    "    print(\"Тип индекса набора данных:\\n{}\\n\".format(evaluated_dataset.index) + '_' * 50+ '\\n')"
   ]
  },
  {
   "cell_type": "markdown",
   "metadata": {},
   "source": [
    "### Bitcoin large transactions"
   ]
  },
  {
   "cell_type": "code",
   "execution_count": 10,
   "metadata": {},
   "outputs": [
    {
     "name": "stdout",
     "output_type": "stream",
     "text": [
      "Типы данных:\n",
      "time                       object\n",
      "hash                       object\n",
      "sender                     object\n",
      "receiver                   object\n",
      "transaction_amount_btc    float64\n",
      "price                     float64\n",
      "transaction_amount_usd    float64\n",
      "dtype: object\n",
      "__________________________________________________\n",
      "\n",
      "Общее количество пропущенных значений:\n",
      "0\n",
      "__________________________________________________\n",
      "\n",
      "Количество значений, отличных от NaN:\n",
      "59892\n",
      "__________________________________________________\n",
      "\n",
      "Дублирующих строк:\n",
      "77\n",
      "__________________________________________________\n",
      "\n",
      "Форма нарбора данных:\n",
      "(8556, 7)\n",
      "__________________________________________________\n",
      "\n",
      "Тип индекса набора данных:\n",
      "RangeIndex(start=0, stop=8556, step=1)\n",
      "__________________________________________________\n",
      "\n"
     ]
    },
    {
     "data": {
      "image/png": "[encoded data removed]",
      "text/plain": [
       "<Figure size 432x288 with 1 Axes>"
      ]
     },
     "metadata": {
      "needs_background": "light"
     },
     "output_type": "display_data"
    }
   ],
   "source": [
    "# Оценка качества данных за 2015\n",
    "verify_data_quality(blt_2015)"
   ]
  },
  {
   "cell_type": "code",
   "execution_count": 11,
   "metadata": {},
   "outputs": [
    {
     "name": "stdout",
     "output_type": "stream",
     "text": [
      "Типы данных:\n",
      "time                       object\n",
      "hash                       object\n",
      "sender                     object\n",
      "receiver                   object\n",
      "transaction_amount_btc    float64\n",
      "price                     float64\n",
      "transaction_amount_usd    float64\n",
      "dtype: object\n",
      "__________________________________________________\n",
      "\n",
      "Общее количество пропущенных значений:\n",
      "0\n",
      "__________________________________________________\n",
      "\n",
      "Количество значений, отличных от NaN:\n",
      "306719\n",
      "__________________________________________________\n",
      "\n",
      "Дублирующих строк:\n",
      "77\n",
      "__________________________________________________\n",
      "\n",
      "Форма нарбора данных:\n",
      "(43817, 7)\n",
      "__________________________________________________\n",
      "\n",
      "Тип индекса набора данных:\n",
      "RangeIndex(start=0, stop=43817, step=1)\n",
      "__________________________________________________\n",
      "\n"
     ]
    },
    {
     "data": {
      "image/png": "[encoded data removed]",
      "text/plain": [
       "<Figure size 432x288 with 1 Axes>"
      ]
     },
     "metadata": {
      "needs_background": "light"
     },
     "output_type": "display_data"
    }
   ],
   "source": [
    "# Оценка качества данных за 2016\n",
    "verify_data_quality(blt_2016)"
   ]
  },
  {
   "cell_type": "code",
   "execution_count": 12,
   "metadata": {},
   "outputs": [
    {
     "name": "stdout",
     "output_type": "stream",
     "text": [
      "Типы данных:\n",
      "time                       object\n",
      "hash                       object\n",
      "sender                     object\n",
      "receiver                   object\n",
      "transaction_amount_btc    float64\n",
      "price                     float64\n",
      "transaction_amount_usd    float64\n",
      "dtype: object\n",
      "__________________________________________________\n",
      "\n",
      "Общее количество пропущенных значений:\n",
      "0\n",
      "__________________________________________________\n",
      "\n",
      "Количество значений, отличных от NaN:\n",
      "69888\n",
      "__________________________________________________\n",
      "\n",
      "Дублирующих строк:\n",
      "310\n",
      "__________________________________________________\n",
      "\n",
      "Форма нарбора данных:\n",
      "(9984, 7)\n",
      "__________________________________________________\n",
      "\n",
      "Тип индекса набора данных:\n",
      "RangeIndex(start=0, stop=9984, step=1)\n",
      "__________________________________________________\n",
      "\n"
     ]
    },
    {
     "data": {
      "image/png": "[encoded data removed]",
      "text/plain": [
       "<Figure size 432x288 with 1 Axes>"
      ]
     },
     "metadata": {
      "needs_background": "light"
     },
     "output_type": "display_data"
    }
   ],
   "source": [
    "# Оценка качества данных за 2017\n",
    "verify_data_quality(blt_2017)"
   ]
  },
  {
   "cell_type": "markdown",
   "metadata": {},
   "source": [
    "### The FinCEN Files"
   ]
  },
  {
   "cell_type": "code",
   "execution_count": 13,
   "metadata": {},
   "outputs": [
    {
     "name": "stdout",
     "output_type": "stream",
     "text": [
      "Типы данных:\n",
      "icij_sar_id           int64\n",
      "filer_org_name_id    object\n",
      "filer_org_name       object\n",
      "entity_b_id          object\n",
      "entity_b             object\n",
      "entity_b_country     object\n",
      "entity_b_iso_code    object\n",
      "dtype: object\n",
      "__________________________________________________\n",
      "\n",
      "Общее количество пропущенных значений:\n",
      "0\n",
      "__________________________________________________\n",
      "\n",
      "Количество значений, отличных от NaN:\n",
      "38486\n",
      "__________________________________________________\n",
      "\n",
      "Дублирующих строк:\n",
      "14\n",
      "__________________________________________________\n",
      "\n",
      "Форма нарбора данных:\n",
      "(5498, 7)\n",
      "__________________________________________________\n",
      "\n",
      "Тип индекса набора данных:\n",
      "RangeIndex(start=0, stop=5498, step=1)\n",
      "__________________________________________________\n",
      "\n"
     ]
    },
    {
     "data": {
      "image/png": "[encoded data removed]",
      "text/plain": [
       "<Figure size 432x288 with 1 Axes>"
      ]
     },
     "metadata": {
      "needs_background": "light"
     },
     "output_type": "display_data"
    }
   ],
   "source": [
    "# Оценка качества данных набора Bank connections\n",
    "verify_data_quality(fc_bc)"
   ]
  },
  {
   "cell_type": "code",
   "execution_count": 14,
   "metadata": {},
   "outputs": [
    {
     "name": "stdout",
     "output_type": "stream",
     "text": [
      "Типы данных:\n",
      "id                            int64\n",
      "icij_sar_id                   int64\n",
      "filer_org_name_id            object\n",
      "filer_org_name               object\n",
      "begin_date                   object\n",
      "end_date                     object\n",
      "originator_bank_id           object\n",
      "originator_bank              object\n",
      "originator_bank_country      object\n",
      "originator_iso               object\n",
      "beneficiary_bank_id          object\n",
      "beneficiary_bank             object\n",
      "beneficiary_bank_country     object\n",
      "beneficiary_iso              object\n",
      "number_transactions         float64\n",
      "amount_transactions         float64\n",
      "dtype: object\n",
      "__________________________________________________\n",
      "\n",
      "Общее количество пропущенных значений:\n",
      "123\n",
      "__________________________________________________\n",
      "\n",
      "Количество значений, отличных от NaN:\n",
      "71989\n",
      "__________________________________________________\n",
      "\n",
      "Дублирующих строк:\n",
      "0\n",
      "__________________________________________________\n",
      "\n",
      "Форма нарбора данных:\n",
      "(4507, 16)\n",
      "__________________________________________________\n",
      "\n",
      "Тип индекса набора данных:\n",
      "RangeIndex(start=0, stop=4507, step=1)\n",
      "__________________________________________________\n",
      "\n"
     ]
    },
    {
     "data": {
      "image/png": "[encoded data removed]",
      "text/plain": [
       "<Figure size 432x288 with 1 Axes>"
      ]
     },
     "metadata": {
      "needs_background": "light"
     },
     "output_type": "display_data"
    }
   ],
   "source": [
    "# Оценка качества данных набора Transactions map\n",
    "verify_data_quality(fc_tm)"
   ]
  },
  {
   "cell_type": "markdown",
   "metadata": {},
   "source": [
    "### _Data type conversions_\n",
    "\n",
    "---"
   ]
  },
  {
   "cell_type": "markdown",
   "metadata": {},
   "source": [
    "### Bitcoin large transactions"
   ]
  },
  {
   "cell_type": "markdown",
   "metadata": {},
   "source": [
    "Преобразуем тип данных даты и времени для анализа"
   ]
  },
  {
   "cell_type": "code",
   "execution_count": 15,
   "metadata": {},
   "outputs": [
    {
     "data": {
      "text/plain": [
       "time                      datetime64[ns]\n",
       "hash                              object\n",
       "sender                            object\n",
       "receiver                          object\n",
       "transaction_amount_btc           float64\n",
       "price                            float64\n",
       "transaction_amount_usd           float64\n",
       "dtype: object"
      ]
     },
     "execution_count": 15,
     "metadata": {},
     "output_type": "execute_result"
    }
   ],
   "source": [
    "# Преобразование даты \n",
    "blt_2015['time'] = pd.to_datetime(blt_2015['time'])\n",
    "# Проверка результата\n",
    "blt_2015.dtypes"
   ]
  },
  {
   "cell_type": "code",
   "execution_count": 16,
   "metadata": {},
   "outputs": [
    {
     "data": {
      "text/plain": [
       "time                      datetime64[ns]\n",
       "hash                              object\n",
       "sender                            object\n",
       "receiver                          object\n",
       "transaction_amount_btc           float64\n",
       "price                            float64\n",
       "transaction_amount_usd           float64\n",
       "dtype: object"
      ]
     },
     "execution_count": 16,
     "metadata": {},
     "output_type": "execute_result"
    }
   ],
   "source": [
    "# Преобразование даты \n",
    "blt_2016['time'] = pd.to_datetime(blt_2016['time'])\n",
    "\n",
    "# Проверка результата\n",
    "blt_2016.dtypes"
   ]
  },
  {
   "cell_type": "code",
   "execution_count": 17,
   "metadata": {},
   "outputs": [
    {
     "data": {
      "text/plain": [
       "time                      datetime64[ns]\n",
       "hash                              object\n",
       "sender                            object\n",
       "receiver                          object\n",
       "transaction_amount_btc           float64\n",
       "price                            float64\n",
       "transaction_amount_usd           float64\n",
       "dtype: object"
      ]
     },
     "execution_count": 17,
     "metadata": {},
     "output_type": "execute_result"
    }
   ],
   "source": [
    "# Преобразование даты \n",
    "blt_2017['time'] = pd.to_datetime(blt_2017['time'])\n",
    "\n",
    "# Проверка результата\n",
    "blt_2017.dtypes"
   ]
  },
  {
   "cell_type": "markdown",
   "metadata": {},
   "source": [
    "#### The FinCEN Files"
   ]
  },
  {
   "cell_type": "code",
   "execution_count": 18,
   "metadata": {},
   "outputs": [
    {
     "data": {
      "text/plain": [
       "id                                   int64\n",
       "icij_sar_id                          int64\n",
       "filer_org_name_id                   object\n",
       "filer_org_name                      object\n",
       "begin_date                  datetime64[ns]\n",
       "end_date                    datetime64[ns]\n",
       "originator_bank_id                  object\n",
       "originator_bank                     object\n",
       "originator_bank_country             object\n",
       "originator_iso                      object\n",
       "beneficiary_bank_id                 object\n",
       "beneficiary_bank                    object\n",
       "beneficiary_bank_country            object\n",
       "beneficiary_iso                     object\n",
       "number_transactions                float64\n",
       "amount_transactions                float64\n",
       "dtype: object"
      ]
     },
     "execution_count": 18,
     "metadata": {},
     "output_type": "execute_result"
    }
   ],
   "source": [
    "# Преобразование даты \n",
    "fc_tm['begin_date'] = pd.to_datetime(fc_tm['begin_date'])\n",
    "\n",
    "fc_tm['end_date'] = pd.to_datetime(fc_tm['end_date'])\n",
    "\n",
    "# Проверка результата\n",
    "fc_tm.dtypes"
   ]
  },
  {
   "cell_type": "markdown",
   "metadata": {},
   "source": [
    "### _Sorting, reordering, reindexing_\n",
    "\n",
    "---"
   ]
  },
  {
   "cell_type": "markdown",
   "metadata": {},
   "source": [
    "Объединим наборы данных blt_2015, blt_2016, blt_2017  в один набор blt"
   ]
  },
  {
   "cell_type": "code",
   "execution_count": 19,
   "metadata": {},
   "outputs": [
    {
     "name": "stdout",
     "output_type": "stream",
     "text": [
      "Типы данных:\n",
      "time                      datetime64[ns]\n",
      "hash                              object\n",
      "sender                            object\n",
      "receiver                          object\n",
      "transaction_amount_btc           float64\n",
      "price                            float64\n",
      "transaction_amount_usd           float64\n",
      "dtype: object\n",
      "__________________________________________________\n",
      "\n",
      "Общее количество пропущенных значений:\n",
      "0\n",
      "__________________________________________________\n",
      "\n",
      "Количество значений, отличных от NaN:\n",
      "436499\n",
      "__________________________________________________\n",
      "\n",
      "Дублирующих строк:\n",
      "464\n",
      "__________________________________________________\n",
      "\n",
      "Форма нарбора данных:\n",
      "(62357, 7)\n",
      "__________________________________________________\n",
      "\n",
      "Тип индекса набора данных:\n",
      "RangeIndex(start=0, stop=62357, step=1)\n",
      "__________________________________________________\n",
      "\n"
     ]
    },
    {
     "data": {
      "image/png": "[encoded data removed]",
      "text/plain": [
       "<Figure size 432x288 with 1 Axes>"
      ]
     },
     "metadata": {
      "needs_background": "light"
     },
     "output_type": "display_data"
    }
   ],
   "source": [
    "# Объеденение наборов по большит транзакциям биткоин в один \n",
    "blt = pd.concat([blt_2015, blt_2016, blt_2017], axis=0, ignore_index=1)\n",
    "\n",
    "# Проверка результата \n",
    "verify_data_quality(blt)"
   ]
  },
  {
   "cell_type": "markdown",
   "metadata": {},
   "source": [
    "### _Conclusions_\n",
    "\n",
    "---"
   ]
  },
  {
   "cell_type": "markdown",
   "metadata": {},
   "source": [
    "В результате предварительной подготовки исходных данных для анализа выполнены следующие действия:\n",
    "- Сбор и загрузка данных для предварительной подготовки\n",
    "\t- В нашем распоряжении два крупных набора данных одни из которых отражает большие транзакции биткоина в период с 2015 по 2017 годы и представлен тремя файлами в формате csv. \n",
    "\t- Второй набор отражает данные о банках отправителях и банках получателях в период с 2000-2017 и представлен двумя файлами в формате csv. \n",
    "- Каждый из исходного набора данных содержит следующие переменные \n",
    "\t- Bitcoin large transactions\n",
    "\t\t- **time** - Дата отправления \n",
    "\t\t- **Hash** - Хэш \n",
    "\t\t- **Sender** - Отправитель\n",
    "\t\t- **Receiver** - Получатель\n",
    "\t\t- **Transaction_amount_BTC** - Сумма транзакции BTC\n",
    "\t\t- **Price - Цена BTC в USD**\n",
    "\t\t- **Transaction_amount_USD** - Сумма транзакции USD\n",
    "\t- The FinCEN Files\n",
    "\t\t- Bank connections\n",
    "\t\t\t- **icij_sar_id**  - id подозрительной транзакции \n",
    "\t\t\t- **filer_org_name_id** - Идентификатор регистрационного имя организации \n",
    "\t\t\t- **filer_org_name** - Зарегистрированное имя организации\n",
    "\t\t\t- **entity_b_id** - Идентификатор банка \n",
    "\t\t\t- **entity_b** - Название банка\n",
    "\t\t\t- **entity_b_country** - Название страны \n",
    "\t\t\t- **entity_b_iso_code**  - Международный код страны\n",
    "\t\t- Transactions map\n",
    "\t\t\t- **id** - Идентификатор \n",
    "\t\t\t- **icij_sar_id** - Идентификатор подозрительной транзакции \n",
    "\t\t\t- **filer_org_name_id** - Идентификатор регистрационного имя организации\n",
    "\t\t\t- **filer_org_name** - Зарегистрированное имя организации\n",
    "\t\t\t- **begin_date** - Дата начала транзакции\n",
    "\t\t\t- **end_date** - Дата завершения транзакции\n",
    "\t\t\t- **originator_bank_id** - Идентификатор банка инициатора \n",
    "\t\t\t- **originator_bank** - Название банка инициатора\n",
    "\t\t\t- **originator_bank_country** - Название страны банка инициатора\n",
    "\t\t\t- **originator_iso** - Международный код страны банка инициатора\n",
    "\t\t\t- **beneficiary_bank_id** - Идентификатор банка получателя \n",
    "\t\t\t- **beneficiary_bank** - Название банка получателя\n",
    "\t\t\t- **beneficiary_bank_country** - Название страны банка получателя\n",
    "\t\t\t- **beneficiary_iso** - Международный код страны банка получателя\n",
    "\t\t\t- **number_transactions** - Количество транзакций\n",
    "\t\t\t- **amount_transactions** - Сумма транзакций\n",
    "- Выполнена предварительная оценка качества исходных данных\n",
    "\t- Bitcoin large transactions\n",
    "\t\t- Пропущенных значений нет \n",
    "\t\t- Дублирующих строки \n",
    "\t\t\t- 2015 = 77\n",
    "\t\t\t- 2016 = 77\n",
    "\t\t\t- 2017 = 310\n",
    "\t- The FinCEN Files\n",
    "\t\t- Bank connections\n",
    "\t\t\t- Пропущенных значений нет\n",
    "\t\t\t- Дублирующих строк 14\n",
    "\t\t- Transactions map\n",
    "\t\t\t- Пропущенных значений 123\n",
    "\t\t\t- Дублирующих строк нет\n",
    "- Выполнена конвертация даты из типа  object в тип datetime64[ns]\n",
    "- Выполнено объедение наборов данных  blt_2015, blt_2016, blt_2017 в один набор blt"
   ]
  },
  {
   "cell_type": "markdown",
   "metadata": {},
   "source": [
    "#### Сохраниение промежуточны результатов дальнейшего анализа "
   ]
  },
  {
   "cell_type": "code",
   "execution_count": 20,
   "metadata": {},
   "outputs": [],
   "source": [
    "# Bitcoin large transactions\n",
    "pd.DataFrame.to_feather(blt, 'bitcoin_large_transactions_2015_2017_prep.file')\n",
    "\n",
    "# The FinCEN Files\n",
    "\n",
    "# Bank connections\n",
    "pd.DataFrame.to_feather(fc_bc, 'bank_connections_prep.file')\n",
    "\n",
    "# Transactions map\n",
    "pd.DataFrame.to_feather(fc_tm, 'transactions_map_prep.file')\n"
   ]
  }
 ],
 "metadata": {
  "kernelspec": {
   "display_name": "Python 3",
   "language": "python",
   "name": "python3"
  },
  "language_info": {
   "codemirror_mode": {
    "name": "ipython",
    "version": 3
   },
   "file_extension": ".py",
   "mimetype": "text/x-python",
   "name": "python",
   "nbconvert_exporter": "python",
   "pygments_lexer": "ipython3",
   "version": "3.8.5"
  }
 },
 "nbformat": 4,
 "nbformat_minor": 4
}

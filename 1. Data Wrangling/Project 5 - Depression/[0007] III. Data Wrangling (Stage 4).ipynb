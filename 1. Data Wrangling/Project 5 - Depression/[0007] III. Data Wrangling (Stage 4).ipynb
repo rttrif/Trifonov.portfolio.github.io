{
 "cells": [
  {
   "cell_type": "markdown",
   "metadata": {},
   "source": [
    "### Project Number: 0007"
   ]
  },
  {
   "cell_type": "markdown",
   "metadata": {},
   "source": [
    "# **STAGE 4. DATA WRANGLING**"
   ]
  },
  {
   "cell_type": "markdown",
   "metadata": {},
   "source": [
    "### Import Libraries\n",
    "\n",
    "---"
   ]
  },
  {
   "cell_type": "code",
   "execution_count": 1,
   "metadata": {},
   "outputs": [],
   "source": [
    "# Data manipulation\n",
    "import pandas as pd\n",
    "import numpy as np\n",
    "\n",
    "# Data Visualizations\n",
    "import seaborn as sns\n",
    "import matplotlib.pyplot as plt\n",
    "%matplotlib inline"
   ]
  },
  {
   "cell_type": "markdown",
   "metadata": {},
   "source": [
    "### Import Data\n",
    "\n",
    "---"
   ]
  },
  {
   "cell_type": "code",
   "execution_count": 2,
   "metadata": {},
   "outputs": [],
   "source": [
    "data_path = data_path = r'D:/Data_Science_Project/1. Data Wrangling/[0007] Project 5 - Depression'"
   ]
  },
  {
   "cell_type": "code",
   "execution_count": 3,
   "metadata": {},
   "outputs": [
    {
     "name": "stdout",
     "output_type": "stream",
     "text": [
      "<class 'pandas.core.frame.DataFrame'>\n",
      "RangeIndex: 1429 entries, 0 to 1428\n",
      "Data columns (total 23 columns):\n",
      " #   Column                 Non-Null Count  Dtype  \n",
      "---  ------                 --------------  -----  \n",
      " 0   survey_id              1429 non-null   int64  \n",
      " 1   ville_id               1429 non-null   int64  \n",
      " 2   sex                    1429 non-null   int64  \n",
      " 3   age                    1429 non-null   int64  \n",
      " 4   married                1429 non-null   int64  \n",
      " 5   number_children        1429 non-null   int64  \n",
      " 6   education_level        1429 non-null   int64  \n",
      " 7   total_members          1429 non-null   int64  \n",
      " 8   gained_asset           1429 non-null   int64  \n",
      " 9   durable_asset          1429 non-null   int64  \n",
      " 10  save_asset             1429 non-null   int64  \n",
      " 11  living_expenses        1429 non-null   int64  \n",
      " 12  other_expenses         1429 non-null   int64  \n",
      " 13  incoming_salary        1429 non-null   int64  \n",
      " 14  incoming_own_farm      1429 non-null   int64  \n",
      " 15  incoming_business      1429 non-null   int64  \n",
      " 16  incoming_no_business   1429 non-null   int64  \n",
      " 17  incoming_agricultural  1429 non-null   int64  \n",
      " 18  farm_expenses          1429 non-null   int64  \n",
      " 19  labor_primary          1429 non-null   int64  \n",
      " 20  lasting_investment     1429 non-null   int64  \n",
      " 21  no_lasting_investmen   1409 non-null   float64\n",
      " 22  depressed              1429 non-null   int64  \n",
      "dtypes: float64(1), int64(22)\n",
      "memory usage: 256.9 KB\n"
     ]
    }
   ],
   "source": [
    "# Загрузка и проверка данных \n",
    "data = pd.read_feather(data_path + '/depressed_pre_prepared.file')\n",
    "\n",
    "# Проверка результата \n",
    "data.info()"
   ]
  },
  {
   "cell_type": "markdown",
   "metadata": {},
   "source": [
    "## SECTION 4.1 CLEAN DATA\n"
   ]
  },
  {
   "cell_type": "markdown",
   "metadata": {},
   "source": [
    "### _Addressing missing or invalid data_\n",
    "\n",
    "---"
   ]
  },
  {
   "cell_type": "code",
   "execution_count": 4,
   "metadata": {},
   "outputs": [],
   "source": [
    "def enomv_df(data):\n",
    "    '''\n",
    "    ОЦЕНКА КОЛИЧЕСТВА ПРОПУЩЕННЫХ ЗНАЧЕНИЙ В НАБОРЕ ДАННЫХ \n",
    "    \n",
    "    ESTIMATING THE NUMBER OF MISSING VALUES IN THE DATA SET (enomv_df)\n",
    "    '''\n",
    "    # Колличество пропусков \n",
    "    print(\"Колличество пропусков:\\n{}\\n\".format(data.isna().sum()) + '-' * 100+ '\\n')\n",
    "    # Колличество значений  \n",
    "    print(\"Колличество значений:\\n{}\\n\".format(data.count()) + '-' * 100+ '\\n')\n",
    "    # Описательные статистики \n",
    "    print(\"Описательные статистики:\\n{}\\n\".format(data.describe().round(2)) + '-' * 100+ '\\n')"
   ]
  },
  {
   "cell_type": "code",
   "execution_count": 5,
   "metadata": {},
   "outputs": [
    {
     "name": "stdout",
     "output_type": "stream",
     "text": [
      "Колличество пропусков:\n",
      "survey_id                 0\n",
      "ville_id                  0\n",
      "sex                       0\n",
      "age                       0\n",
      "married                   0\n",
      "number_children           0\n",
      "education_level           0\n",
      "total_members             0\n",
      "gained_asset              0\n",
      "durable_asset             0\n",
      "save_asset                0\n",
      "living_expenses           0\n",
      "other_expenses            0\n",
      "incoming_salary           0\n",
      "incoming_own_farm         0\n",
      "incoming_business         0\n",
      "incoming_no_business      0\n",
      "incoming_agricultural     0\n",
      "farm_expenses             0\n",
      "labor_primary             0\n",
      "lasting_investment        0\n",
      "no_lasting_investmen     20\n",
      "depressed                 0\n",
      "dtype: int64\n",
      "----------------------------------------------------------------------------------------------------\n",
      "\n",
      "Колличество значений:\n",
      "survey_id                1429\n",
      "ville_id                 1429\n",
      "sex                      1429\n",
      "age                      1429\n",
      "married                  1429\n",
      "number_children          1429\n",
      "education_level          1429\n",
      "total_members            1429\n",
      "gained_asset             1429\n",
      "durable_asset            1429\n",
      "save_asset               1429\n",
      "living_expenses          1429\n",
      "other_expenses           1429\n",
      "incoming_salary          1429\n",
      "incoming_own_farm        1429\n",
      "incoming_business        1429\n",
      "incoming_no_business     1429\n",
      "incoming_agricultural    1429\n",
      "farm_expenses            1429\n",
      "labor_primary            1429\n",
      "lasting_investment       1429\n",
      "no_lasting_investmen     1409\n",
      "depressed                1429\n",
      "dtype: int64\n",
      "----------------------------------------------------------------------------------------------------\n",
      "\n",
      "Описательные статистики:\n",
      "       survey_id  ville_id      sex      age  married  number_children  \\\n",
      "count    1429.00   1429.00  1429.00  1429.00  1429.00          1429.00   \n",
      "mean      715.00     76.29     0.92    34.78     0.77             2.88   \n",
      "std       412.66     66.44     0.27    13.99     0.42             1.87   \n",
      "min         1.00      1.00     0.00    17.00     0.00             0.00   \n",
      "25%       358.00     24.00     1.00    25.00     1.00             2.00   \n",
      "50%       715.00     57.00     1.00    30.00     1.00             3.00   \n",
      "75%      1072.00    105.00     1.00    42.00     1.00             4.00   \n",
      "max      1429.00    292.00     1.00    91.00     1.00            11.00   \n",
      "\n",
      "       education_level  total_members  gained_asset  durable_asset  ...  \\\n",
      "count          1429.00        1429.00       1429.00        1429.00  ...   \n",
      "mean              8.69           4.97   33634477.74    27172956.90  ...   \n",
      "std               2.92           1.79   20038537.36    18156721.59  ...   \n",
      "min               1.00           1.00     325112.00      162556.00  ...   \n",
      "25%               8.00           4.00   23269824.00    19298521.00  ...   \n",
      "50%               9.00           5.00   28912201.00    22861940.00  ...   \n",
      "75%              10.00           6.00   37172832.00    26569498.00  ...   \n",
      "max              19.00          12.00   99127548.00    99615601.00  ...   \n",
      "\n",
      "       incoming_salary  incoming_own_farm  incoming_business  \\\n",
      "count          1429.00            1429.00            1429.00   \n",
      "mean              0.18               0.25               0.11   \n",
      "std               0.38               0.43               0.31   \n",
      "min               0.00               0.00               0.00   \n",
      "25%               0.00               0.00               0.00   \n",
      "50%               0.00               0.00               0.00   \n",
      "75%               0.00               1.00               0.00   \n",
      "max               1.00               1.00               1.00   \n",
      "\n",
      "       incoming_no_business  incoming_agricultural  farm_expenses  \\\n",
      "count               1429.00                1429.00        1429.00   \n",
      "mean                   0.26            34510389.12    35491525.54   \n",
      "std                    0.44            20778461.80    21123715.46   \n",
      "min                    0.00              325112.00      271505.00   \n",
      "25%                    0.00            23222287.00    22799659.00   \n",
      "50%                    0.00            30028818.00    31363432.00   \n",
      "75%                    1.00            40038424.00    43485844.00   \n",
      "max                    1.00            99789095.00    99651194.00   \n",
      "\n",
      "       labor_primary  lasting_investment  no_lasting_investmen  depressed  \n",
      "count        1429.00             1429.00               1409.00    1429.00  \n",
      "mean            0.21         32992215.08           33603850.54       0.17  \n",
      "std             0.41         21216209.32           21602279.52       0.37  \n",
      "min             0.00            74292.00             126312.00       0.00  \n",
      "25%             0.00         20019113.00           20642033.00       0.00  \n",
      "50%             0.00         28411718.00           28292707.00       0.00  \n",
      "75%             0.00         39826862.00           41517625.00       0.00  \n",
      "max             1.00         99446667.00           99651194.00       1.00  \n",
      "\n",
      "[8 rows x 23 columns]\n",
      "----------------------------------------------------------------------------------------------------\n",
      "\n"
     ]
    }
   ],
   "source": [
    "# Оценим пропуски в наборе данных\n",
    "enomv_df(data)"
   ]
  },
  {
   "cell_type": "code",
   "execution_count": 6,
   "metadata": {},
   "outputs": [
    {
     "name": "stdout",
     "output_type": "stream",
     "text": [
      "Значения:\n",
      "28292707.0    425\n",
      "NaN            20\n",
      "3558971.0       3\n",
      "60724945.0      3\n",
      "11121784.0      3\n",
      "             ... \n",
      "29466837.0      1\n",
      "58278149.0      1\n",
      "12812296.0      1\n",
      "5053739.0       1\n",
      "58389373.0      1\n",
      "Name: no_lasting_investmen, Length: 940, dtype: int64\n",
      "----------------------------------------------------------------------------------------------------\n",
      "\n"
     ]
    }
   ],
   "source": [
    "# Анализ уникальных значений\n",
    "print(\"Значения:\\n{}\\n\".format(data['no_lasting_investmen'].value_counts(dropna=False)) + '-' * 100+ '\\n')"
   ]
  },
  {
   "cell_type": "code",
   "execution_count": 7,
   "metadata": {},
   "outputs": [
    {
     "name": "stdout",
     "output_type": "stream",
     "text": [
      "Описательные статистики:\n",
      "count        1409.00\n",
      "mean     33603850.54\n",
      "std      21602279.52\n",
      "min        126312.00\n",
      "25%      20642033.00\n",
      "50%      28292707.00\n",
      "75%      41517625.00\n",
      "max      99651194.00\n",
      "Name: no_lasting_investmen, dtype: float64\n",
      "----------------------------------------------------------------------------------------------------\n",
      "\n"
     ]
    }
   ],
   "source": [
    " # Описательные статистики \n",
    "print(\"Описательные статистики:\\n{}\\n\".format(data['no_lasting_investmen'].describe().round(2)) + '-' * 100+ '\\n')"
   ]
  },
  {
   "cell_type": "code",
   "execution_count": 8,
   "metadata": {},
   "outputs": [
    {
     "data": {
      "text/plain": [
       "0"
      ]
     },
     "execution_count": 8,
     "metadata": {},
     "output_type": "execute_result"
    }
   ],
   "source": [
    "# Заполнение пропущенных значений с помощью интерполяции\n",
    "data['no_lasting_investmen'] = data['no_lasting_investmen'].interpolate( method=\"nearest\")\n",
    "# Оценка результата\n",
    "data['no_lasting_investmen'].isnull().sum()"
   ]
  },
  {
   "cell_type": "code",
   "execution_count": 9,
   "metadata": {},
   "outputs": [
    {
     "name": "stdout",
     "output_type": "stream",
     "text": [
      "<class 'pandas.core.frame.DataFrame'>\n",
      "RangeIndex: 1429 entries, 0 to 1428\n",
      "Data columns (total 23 columns):\n",
      " #   Column                 Non-Null Count  Dtype  \n",
      "---  ------                 --------------  -----  \n",
      " 0   survey_id              1429 non-null   int64  \n",
      " 1   ville_id               1429 non-null   int64  \n",
      " 2   sex                    1429 non-null   int64  \n",
      " 3   age                    1429 non-null   int64  \n",
      " 4   married                1429 non-null   int64  \n",
      " 5   number_children        1429 non-null   int64  \n",
      " 6   education_level        1429 non-null   int64  \n",
      " 7   total_members          1429 non-null   int64  \n",
      " 8   gained_asset           1429 non-null   int64  \n",
      " 9   durable_asset          1429 non-null   int64  \n",
      " 10  save_asset             1429 non-null   int64  \n",
      " 11  living_expenses        1429 non-null   int64  \n",
      " 12  other_expenses         1429 non-null   int64  \n",
      " 13  incoming_salary        1429 non-null   int64  \n",
      " 14  incoming_own_farm      1429 non-null   int64  \n",
      " 15  incoming_business      1429 non-null   int64  \n",
      " 16  incoming_no_business   1429 non-null   int64  \n",
      " 17  incoming_agricultural  1429 non-null   int64  \n",
      " 18  farm_expenses          1429 non-null   int64  \n",
      " 19  labor_primary          1429 non-null   int64  \n",
      " 20  lasting_investment     1429 non-null   int64  \n",
      " 21  no_lasting_investmen   1429 non-null   float64\n",
      " 22  depressed              1429 non-null   int64  \n",
      "dtypes: float64(1), int64(22)\n",
      "memory usage: 256.9 KB\n"
     ]
    }
   ],
   "source": [
    "# Оценка результатов изменений\n",
    "data.info()"
   ]
  },
  {
   "cell_type": "markdown",
   "metadata": {},
   "source": [
    "## SECTION 4.2 CONCLUSIONS"
   ]
  },
  {
   "cell_type": "markdown",
   "metadata": {},
   "source": [
    "Пропущенные значения заполненны методом интерполяции с помощью способа ближайших значений.  "
   ]
  },
  {
   "cell_type": "code",
   "execution_count": 10,
   "metadata": {},
   "outputs": [],
   "source": [
    "# Сохранение промежуточных результатов для дальнейших исследований \n",
    "pd.DataFrame.to_feather(data, 'depressed_wrangled.file')"
   ]
  },
  {
   "cell_type": "code",
   "execution_count": 11,
   "metadata": {},
   "outputs": [],
   "source": [
    "# Сохраниение результатов итоговых результатов\n",
    "data.to_csv('depressed_wrangled.csv', sep=',', index=True, encoding='utf-8')"
   ]
  }
 ],
 "metadata": {
  "kernelspec": {
   "display_name": "Python 3",
   "language": "python",
   "name": "python3"
  },
  "language_info": {
   "codemirror_mode": {
    "name": "ipython",
    "version": 3
   },
   "file_extension": ".py",
   "mimetype": "text/x-python",
   "name": "python",
   "nbconvert_exporter": "python",
   "pygments_lexer": "ipython3",
   "version": "3.8.3"
  }
 },
 "nbformat": 4,
 "nbformat_minor": 4
}

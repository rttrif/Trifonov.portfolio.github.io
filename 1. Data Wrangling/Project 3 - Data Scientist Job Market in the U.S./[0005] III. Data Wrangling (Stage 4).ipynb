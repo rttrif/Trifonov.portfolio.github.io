{
 "cells": [
  {
   "cell_type": "markdown",
   "metadata": {},
   "source": [
    "### Project Number: 0005\n",
    "### Project Title: Data Scientist Job Market in the U.S\n"
   ]
  },
  {
   "cell_type": "markdown",
   "metadata": {},
   "source": [
    "# **STAGE 4. DATA WRANGLING**"
   ]
  },
  {
   "cell_type": "markdown",
   "metadata": {},
   "source": [
    "### Import Libraries\n",
    "\n",
    "---"
   ]
  },
  {
   "cell_type": "code",
   "execution_count": 1,
   "metadata": {},
   "outputs": [],
   "source": [
    "# Data manipulation\n",
    "import pandas as pd\n",
    "import numpy as np\n",
    "\n",
    "# Data Visualizations\n",
    "import seaborn as sns\n",
    "import matplotlib.pyplot as plt\n",
    "%matplotlib inline"
   ]
  },
  {
   "cell_type": "markdown",
   "metadata": {},
   "source": [
    "### Import Data\n",
    "\n",
    "---"
   ]
  },
  {
   "cell_type": "code",
   "execution_count": 2,
   "metadata": {},
   "outputs": [],
   "source": [
    "data_path = r'D:/Data_Science_Project/1. Data Wrangling/[0005] Project 3 - Data Scientist Job Market in the U.S'"
   ]
  },
  {
   "cell_type": "code",
   "execution_count": 3,
   "metadata": {},
   "outputs": [
    {
     "name": "stdout",
     "output_type": "stream",
     "text": [
      "<class 'pandas.core.frame.DataFrame'>\n",
      "RangeIndex: 6964 entries, 0 to 6963\n",
      "Data columns (total 5 columns):\n",
      " #   Column       Non-Null Count  Dtype   \n",
      "---  ------       --------------  -----   \n",
      " 0   position     6953 non-null   category\n",
      " 1   company      6953 non-null   category\n",
      " 2   description  6953 non-null   category\n",
      " 3   reviews      5326 non-null   float64 \n",
      " 4   location     6953 non-null   category\n",
      "dtypes: category(4), float64(1)\n",
      "memory usage: 792.6 KB\n"
     ]
    }
   ],
   "source": [
    "# Загрузка и проверка данных \n",
    "data = pd.read_feather(data_path + '/alldata_prepated.file')\n",
    "\n",
    "# Проверка результата \n",
    "data.info()"
   ]
  },
  {
   "cell_type": "markdown",
   "metadata": {},
   "source": [
    "## SECTION 4.1 CLEAN DATA\n"
   ]
  },
  {
   "cell_type": "code",
   "execution_count": 4,
   "metadata": {},
   "outputs": [],
   "source": [
    "# Функция коплексной оценки качества данных \n",
    "def verify_data_quality (evaluated_dataset):\n",
    "    # Проверка типов данных\n",
    "    print(\"Типы данных:\\n{}\\n\".format(evaluated_dataset.dtypes) + '_' * 100+ '\\n')\n",
    "    # Проверка наличия значений NaN\n",
    "    print(\"Пропущенные значения:\\n{}\\n\".format(evaluated_dataset.isnull().sum().sum()) + '_' * 100+ '\\n')\n",
    "    # Количество значений, отличных от NaN\n",
    "    print(\"Количество значений, отличных от NaN:\\n{}\\n\".format(evaluated_dataset.count().sum()) + '_' * 100+ '\\n')\n",
    "    # Поиск дублирующих строк \n",
    "    print(\"Дублирующих строк:\\n{}\\n\".format(evaluated_dataset.duplicated().sum()) + '_' * 100+ '\\n')\n",
    "    # Форма нарбора данных\n",
    "    print(\"Форма нарбора данных:\\n{}\\n\".format(evaluated_dataset.shape) + '_' * 100+ '\\n')\n",
    "    # Тип индекса набора данных\n",
    "    print(\"Тип индекса набора данных:\\n{}\\n\".format(evaluated_dataset.index) + '_' * 100+ '\\n')"
   ]
  },
  {
   "cell_type": "code",
   "execution_count": 5,
   "metadata": {},
   "outputs": [
    {
     "name": "stdout",
     "output_type": "stream",
     "text": [
      "Типы данных:\n",
      "position       category\n",
      "company        category\n",
      "description    category\n",
      "reviews         float64\n",
      "location       category\n",
      "dtype: object\n",
      "____________________________________________________________________________________________________\n",
      "\n",
      "Пропущенные значения:\n",
      "1682\n",
      "____________________________________________________________________________________________________\n",
      "\n",
      "Количество значений, отличных от NaN:\n",
      "33138\n",
      "____________________________________________________________________________________________________\n",
      "\n",
      "Дублирующих строк:\n",
      "10\n",
      "____________________________________________________________________________________________________\n",
      "\n",
      "Форма нарбора данных:\n",
      "(6964, 5)\n",
      "____________________________________________________________________________________________________\n",
      "\n",
      "Тип индекса набора данных:\n",
      "RangeIndex(start=0, stop=6964, step=1)\n",
      "____________________________________________________________________________________________________\n",
      "\n"
     ]
    }
   ],
   "source": [
    "verify_data_quality(data)"
   ]
  },
  {
   "cell_type": "markdown",
   "metadata": {},
   "source": [
    "### _Deduplicating data_\n",
    "\n",
    "---"
   ]
  },
  {
   "cell_type": "code",
   "execution_count": 6,
   "metadata": {},
   "outputs": [],
   "source": [
    "# Удалим думлирующие значений, оставив первое из дублирующих наблюдений \n",
    "data = data.drop_duplicates()"
   ]
  },
  {
   "cell_type": "code",
   "execution_count": 7,
   "metadata": {},
   "outputs": [
    {
     "name": "stdout",
     "output_type": "stream",
     "text": [
      "Колличество дублирующих значений:\n",
      "0\n"
     ]
    }
   ],
   "source": [
    "# Оценим полученный результат \n",
    "print(\"Колличество дублирующих значений:\\n{}\".format(data.duplicated().sum()))"
   ]
  },
  {
   "cell_type": "markdown",
   "metadata": {},
   "source": [
    "### _Addressing missing or invalid data_\n",
    "\n",
    "---"
   ]
  },
  {
   "cell_type": "markdown",
   "metadata": {},
   "source": [
    "Оценка распределения значений переменной где имеются пропуски для выбора оптимальной стратегии заполнения "
   ]
  },
  {
   "cell_type": "code",
   "execution_count": 8,
   "metadata": {},
   "outputs": [],
   "source": [
    "# Оценка пропусков колличественных данных\n",
    "def estimation_missing_num_data(data):\n",
    "    # Колличество пропусков \n",
    "    print(\"Колличество пропусков:\\n{}\\n\".format(data.isna().sum()) + '-' * 100+ '\\n')\n",
    "    # Колличество значений  \n",
    "    print(\"Колличество значений:\\n{}\\n\".format(data.count()) + '-' * 100+ '\\n')\n",
    "    # Описательные статистики \n",
    "    print(\"Описательные статистики:\\n{}\\n\".format(data.describe().round(2)) + '-' * 100+ '\\n')\n",
    "    # Значения    \n",
    "    print(\"Значения:\\n{}\\n\".format(data.value_counts(dropna=False)) + '-' * 100+ '\\n')\n",
    "    # Оценка плотности распределения\n",
    "    data.plot.hist(bins=100, legend = True, density=True, grid = True, figsize = (11, 5), alpha = 0.5, title ='Оценка плотности распределения')\n",
    "#     data.plot(kind='kde', grid = True, figsize = (20, 5), style=['g', '#FF0000'])"
   ]
  },
  {
   "cell_type": "code",
   "execution_count": 9,
   "metadata": {},
   "outputs": [
    {
     "name": "stdout",
     "output_type": "stream",
     "text": [
      "Колличество пропусков:\n",
      "1628\n",
      "----------------------------------------------------------------------------------------------------\n",
      "\n",
      "Колличество значений:\n",
      "5326\n",
      "----------------------------------------------------------------------------------------------------\n",
      "\n",
      "Описательные статистики:\n",
      "count      5326.00\n",
      "mean       3179.09\n",
      "std        8448.52\n",
      "min           2.00\n",
      "25%          27.00\n",
      "50%         230.00\n",
      "75%        1578.00\n",
      "max      148114.00\n",
      "Name: reviews, dtype: float64\n",
      "----------------------------------------------------------------------------------------------------\n",
      "\n",
      "Значения:\n",
      "NaN        1628\n",
      "25902.0     224\n",
      "108.0       193\n",
      "2.0         191\n",
      "5.0         138\n",
      "           ... \n",
      "1366.0        1\n",
      "6868.0        1\n",
      "21949.0       1\n",
      "290.0         1\n",
      "2409.0        1\n",
      "Name: reviews, Length: 561, dtype: int64\n",
      "----------------------------------------------------------------------------------------------------\n",
      "\n"
     ]
    },
    {
     "data": {
      "image/png": "[encoded data removed]",
      "text/plain": [
       "<Figure size 792x360 with 1 Axes>"
      ]
     },
     "metadata": {
      "needs_background": "light"
     },
     "output_type": "display_data"
    }
   ],
   "source": [
    "# Вывод уникальных значений переменной \n",
    "estimation_missing_num_data(data['reviews'])"
   ]
  },
  {
   "cell_type": "markdown",
   "metadata": {},
   "source": [
    "Данные распеределены очень не раваномерно, при этом колличество пропущенных значений относительно общего колличества является занчительным и составляет более 30,5%. \n",
    "Видно, что данные имют явный выброс отностиельно остальных наблюдений, который составляет 148114.00 при этом частота появления данных значений редкая. \n",
    "\n",
    "Оценим диапазоны распеределения значений больших чем 25000.  "
   ]
  },
  {
   "cell_type": "code",
   "execution_count": 10,
   "metadata": {},
   "outputs": [
    {
     "data": {
      "text/plain": [
       "25902.0     224\n",
       "25895.0      89\n",
       "25907.0      31\n",
       "25883.0      13\n",
       "33275.0       9\n",
       "38844.0       8\n",
       "38633.0       4\n",
       "148114.0      3\n",
       "25765.0       3\n",
       "30064.0       2\n",
       "148085.0      1\n",
       "148051.0      1\n",
       "27992.0       1\n",
       "25909.0       1\n",
       "Name: reviews, dtype: int64"
      ]
     },
     "execution_count": 10,
     "metadata": {},
     "output_type": "execute_result"
    }
   ],
   "source": [
    "# Оценка кооличства распределения относительно редких наблюдений \n",
    "data.query('reviews > 25000')['reviews'].value_counts(dropna=False)"
   ]
  },
  {
   "cell_type": "code",
   "execution_count": 11,
   "metadata": {},
   "outputs": [
    {
     "data": {
      "text/plain": [
       "array([ 25765.,  25883.,  25895.,  25902.,  25907.,  25909.,  27992.,\n",
       "        30064.,  33275.,  38633.,  38844., 148051., 148085., 148114.])"
      ]
     },
     "execution_count": 11,
     "metadata": {},
     "output_type": "execute_result"
    }
   ],
   "source": [
    "# Оценка уникальных значений больших чем 25000 \n",
    "data.query('reviews > 25000')['reviews'].sort_values().unique()"
   ]
  },
  {
   "cell_type": "markdown",
   "metadata": {},
   "source": [
    "Используем для заполнения пропусков два метод интерполяция пропущенных значений"
   ]
  },
  {
   "cell_type": "code",
   "execution_count": 12,
   "metadata": {},
   "outputs": [
    {
     "data": {
      "text/plain": [
       "3"
      ]
     },
     "execution_count": 12,
     "metadata": {},
     "output_type": "execute_result"
    }
   ],
   "source": [
    "# Заполнение пропущенных значений с помощью интерполяции\n",
    "data['reviews'] = data['reviews'].interpolate( method=\"nearest\")\n",
    "\n",
    "# Оценка результата\n",
    "data['reviews'].isnull().sum()"
   ]
  },
  {
   "cell_type": "markdown",
   "metadata": {},
   "source": [
    "Три пропущенных значения остались не заполненными. Удалим их. "
   ]
  },
  {
   "cell_type": "code",
   "execution_count": 13,
   "metadata": {},
   "outputs": [],
   "source": [
    "# Удаление пропущенных значений \n",
    "data = data.dropna()"
   ]
  },
  {
   "cell_type": "code",
   "execution_count": 14,
   "metadata": {},
   "outputs": [],
   "source": [
    "# Оценка перуиндексация результата \n",
    "data = data.reset_index(drop=True)"
   ]
  },
  {
   "cell_type": "code",
   "execution_count": 15,
   "metadata": {},
   "outputs": [
    {
     "name": "stdout",
     "output_type": "stream",
     "text": [
      "<class 'pandas.core.frame.DataFrame'>\n",
      "RangeIndex: 6950 entries, 0 to 6949\n",
      "Data columns (total 5 columns):\n",
      " #   Column       Non-Null Count  Dtype   \n",
      "---  ------       --------------  -----   \n",
      " 0   position     6950 non-null   category\n",
      " 1   company      6950 non-null   category\n",
      " 2   description  6950 non-null   category\n",
      " 3   reviews      6950 non-null   float64 \n",
      " 4   location     6950 non-null   category\n",
      "dtypes: category(4), float64(1)\n",
      "memory usage: 792.4 KB\n"
     ]
    }
   ],
   "source": [
    "# Оценка результатов изменений\n",
    "data.info()"
   ]
  },
  {
   "cell_type": "markdown",
   "metadata": {},
   "source": [
    "## SECTION 4.2 CONCLUSIONS"
   ]
  },
  {
   "cell_type": "markdown",
   "metadata": {},
   "source": [
    "- Удалены дублирующие строки в количестве 10 штук.\n",
    "- Заполнены пропущенные значения методом интерполяции\n",
    "- После заполнения данным методом, осталось три пропущенных значения, которые удалены из набора.    \n"
   ]
  },
  {
   "cell_type": "code",
   "execution_count": 16,
   "metadata": {},
   "outputs": [],
   "source": [
    "# Сохранение промежуточных результатов \n",
    "pd.DataFrame.to_feather(data, 'data_scientist_job_market_in_the_us.file')"
   ]
  },
  {
   "cell_type": "code",
   "execution_count": 17,
   "metadata": {},
   "outputs": [],
   "source": [
    "# Сохраниение результатов итоговых результатов\n",
    "data.to_csv('data_scientist_job_market_in_the_us.csv', sep=',', index=True, encoding='utf-8')"
   ]
  }
 ],
 "metadata": {
  "kernelspec": {
   "display_name": "Python 3",
   "language": "python",
   "name": "python3"
  },
  "language_info": {
   "codemirror_mode": {
    "name": "ipython",
    "version": 3
   },
   "file_extension": ".py",
   "mimetype": "text/x-python",
   "name": "python",
   "nbconvert_exporter": "python",
   "pygments_lexer": "ipython3",
   "version": "3.8.3"
  }
 },
 "nbformat": 4,
 "nbformat_minor": 4
}
